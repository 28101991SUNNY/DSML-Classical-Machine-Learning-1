{
 "cells": [
  {
   "cell_type": "markdown",
   "id": "a818f9cd",
   "metadata": {},
   "source": [
    "https://scikit-learn.org/stable/modules/grid_search.html"
   ]
  },
  {
   "cell_type": "code",
   "execution_count": null,
   "id": "f60555b5",
   "metadata": {},
   "outputs": [],
   "source": []
  },
  {
   "cell_type": "markdown",
   "id": "a3af35a4",
   "metadata": {},
   "source": [
    "### GridSearch : \n",
    "    - Automated hyperparameter tuning "
   ]
  },
  {
   "cell_type": "code",
   "execution_count": null,
   "id": "d43f4375",
   "metadata": {},
   "outputs": [],
   "source": []
  },
  {
   "cell_type": "markdown",
   "id": "7cfae047",
   "metadata": {},
   "source": [
    "    in Random Forest: \n",
    "    \n",
    "    hyperparameters : \n",
    "        n_estimators : number of indivisual DTs(base learners). [100,200,300]\n",
    "        max_depth : max depth of base DTs. [3,5,7,10]\n",
    "        "
   ]
  },
  {
   "cell_type": "markdown",
   "id": "a86fc6dd",
   "metadata": {},
   "source": [
    "#### Exhaustive Grid Search"
   ]
  },
  {
   "cell_type": "markdown",
   "id": "cf351555",
   "metadata": {},
   "source": [
    "        \n",
    "        \n",
    "                    n-estimators\n",
    "                    \n",
    "                    100 200 300\n",
    "        Max     3     .  .   .\n",
    "        depth   5     .  .   .\n",
    "                7     .  .   .\n",
    "                10    .  .   .\n",
    "                \n",
    "                \n",
    "          find the best combinations of hyperparamets , by training model with each combination.\n",
    "          \n",
    "          in above case : we train 4*3 = 12 RFs.\n",
    "          \n",
    "          RF1 , RF2 ... RF12\n",
    "          \n",
    "          take the max performing model . take that model's hyperparameters combination.\n",
    "          - it is computationally expensive.\n",
    "          - this will exhaust all the possibilites of Hyperparamer and returns the best result.\n",
    "          \n",
    "          \n",
    "    \n",
    "    "
   ]
  },
  {
   "cell_type": "markdown",
   "id": "7aa6950d",
   "metadata": {},
   "source": [
    "#### GridSearchCV : \n",
    "\n",
    "    in case: of k-fold:\n",
    "    lets say: hyperparamets are: \n",
    "    \n",
    "    3 fold cv\n",
    "    4 set of hyperparamets of max_depth\n",
    "    4 set of hyperparamets of n_estiamtors \n",
    "    \n",
    "    total number of model training : 3*4*4 = 48 \n",
    "    "
   ]
  },
  {
   "cell_type": "markdown",
   "id": "a2343d47",
   "metadata": {},
   "source": [
    "#### RandomSearchCV : \n",
    "\n",
    "    takes random combinations of hyperparameters : \n",
    "    \n",
    "    instead of set of hyperparameters , it takes the uniform distribuition , and chose combinations randomly."
   ]
  },
  {
   "cell_type": "markdown",
   "id": "234243c8",
   "metadata": {},
   "source": [
    "https://scikit-learn.org/stable/modules/generated/sklearn.model_selection.GridSearchCV.html#sklearn.model_selection.GridSearchCV"
   ]
  },
  {
   "cell_type": "markdown",
   "id": "d49a8243",
   "metadata": {},
   "source": [
    "    sklearn.model_selection.GridSearchCV\n",
    "    class sklearn.model_selection.GridSearchCV(\n",
    "                            estimator, \n",
    "                            param_grid, *,\n",
    "                            scoring=None,           \n",
    "                            n_jobs=None,   #  \n",
    "                            refit=True,\n",
    "                            cv=None,         # cross validation\n",
    "                            verbose=0,\n",
    "                            pre_dispatch='2*n_jobs',\n",
    "                            error_score=nan, \n",
    "                            return_train_score=False)\n",
    "                            \n",
    "                            \n",
    "                            \n",
    "          n_jobsint, default=None\n",
    "    Number of jobs to run in parallel. None means 1 unless in a joblib.parallel_backend context. -1 means using all processors. See Glossary for more details."
   ]
  },
  {
   "cell_type": "code",
   "execution_count": 1,
   "id": "299cd05d",
   "metadata": {},
   "outputs": [],
   "source": [
    "from sklearn.model_selection import GridSearchCV"
   ]
  },
  {
   "cell_type": "code",
   "execution_count": 2,
   "id": "8309aeb7",
   "metadata": {},
   "outputs": [],
   "source": [
    "parameters = {\"max_depth\":[3,5,7,10,15],\n",
    "             \"n_estimators\":[100,200,300],\n",
    "             \"max_features\":[7,10,15,20]}"
   ]
  },
  {
   "cell_type": "code",
   "execution_count": 3,
   "id": "2c0d899a",
   "metadata": {},
   "outputs": [
    {
     "data": {
      "application/javascript": [
       "\n",
       "        if (window._pyforest_update_imports_cell) { window._pyforest_update_imports_cell('import pandas as pd'); }\n",
       "    "
      ],
      "text/plain": [
       "<IPython.core.display.Javascript object>"
      ]
     },
     "metadata": {},
     "output_type": "display_data"
    },
    {
     "data": {
      "application/javascript": [
       "\n",
       "        if (window._pyforest_update_imports_cell) { window._pyforest_update_imports_cell('import pandas as pd'); }\n",
       "    "
      ],
      "text/plain": [
       "<IPython.core.display.Javascript object>"
      ]
     },
     "metadata": {},
     "output_type": "display_data"
    },
    {
     "data": {
      "application/javascript": [
       "\n",
       "        if (window._pyforest_update_imports_cell) { window._pyforest_update_imports_cell('import pandas as pd'); }\n",
       "    "
      ],
      "text/plain": [
       "<IPython.core.display.Javascript object>"
      ]
     },
     "metadata": {},
     "output_type": "display_data"
    },
    {
     "data": {
      "application/javascript": [
       "\n",
       "        if (window._pyforest_update_imports_cell) { window._pyforest_update_imports_cell('import pandas as pd'); }\n",
       "    "
      ],
      "text/plain": [
       "<IPython.core.display.Javascript object>"
      ]
     },
     "metadata": {},
     "output_type": "display_data"
    },
    {
     "data": {
      "text/plain": [
       "((1848, 36), (1848, 1))"
      ]
     },
     "execution_count": 3,
     "metadata": {},
     "output_type": "execute_result"
    }
   ],
   "source": [
    "X_train = pd.read_csv(\"X_train.csv\")\n",
    "y_train = pd.read_csv(\"y_train.csv\")\n",
    "X_test =  pd.read_csv(\"X_test.csv\")\n",
    "y_test = pd.read_csv(\"y_test.csv\")\n",
    "\n",
    "from imblearn.over_sampling import SMOTE\n",
    "smote = SMOTE()\n",
    "\n",
    "X_smote,y_smote = smote.fit_resample(X_train,y_train)\n",
    "X_smote.shape,y_smote.shape"
   ]
  },
  {
   "cell_type": "code",
   "execution_count": 4,
   "id": "091f5a83",
   "metadata": {},
   "outputs": [],
   "source": [
    "from sklearn.ensemble import RandomForestClassifier\n",
    "\n",
    "RFC = RandomForestClassifier()"
   ]
  },
  {
   "cell_type": "code",
   "execution_count": 5,
   "id": "e2954597",
   "metadata": {},
   "outputs": [],
   "source": [
    "grid_search = GridSearchCV(\n",
    "    estimator = RFC,\n",
    "    param_grid = parameters,\n",
    "    scoring = \"accuracy\",\n",
    "    n_jobs = -1,        # use all the available processors in the system \n",
    "    refit=True,                   # need not to train again after grid search\n",
    "    cv=3,\n",
    "    pre_dispatch='2*n_jobs',\n",
    "    return_train_score=False)"
   ]
  },
  {
   "cell_type": "code",
   "execution_count": 6,
   "id": "66447e3d",
   "metadata": {},
   "outputs": [
    {
     "data": {
      "text/html": [
       "<style>#sk-container-id-1 {color: black;background-color: white;}#sk-container-id-1 pre{padding: 0;}#sk-container-id-1 div.sk-toggleable {background-color: white;}#sk-container-id-1 label.sk-toggleable__label {cursor: pointer;display: block;width: 100%;margin-bottom: 0;padding: 0.3em;box-sizing: border-box;text-align: center;}#sk-container-id-1 label.sk-toggleable__label-arrow:before {content: \"▸\";float: left;margin-right: 0.25em;color: #696969;}#sk-container-id-1 label.sk-toggleable__label-arrow:hover:before {color: black;}#sk-container-id-1 div.sk-estimator:hover label.sk-toggleable__label-arrow:before {color: black;}#sk-container-id-1 div.sk-toggleable__content {max-height: 0;max-width: 0;overflow: hidden;text-align: left;background-color: #f0f8ff;}#sk-container-id-1 div.sk-toggleable__content pre {margin: 0.2em;color: black;border-radius: 0.25em;background-color: #f0f8ff;}#sk-container-id-1 input.sk-toggleable__control:checked~div.sk-toggleable__content {max-height: 200px;max-width: 100%;overflow: auto;}#sk-container-id-1 input.sk-toggleable__control:checked~label.sk-toggleable__label-arrow:before {content: \"▾\";}#sk-container-id-1 div.sk-estimator input.sk-toggleable__control:checked~label.sk-toggleable__label {background-color: #d4ebff;}#sk-container-id-1 div.sk-label input.sk-toggleable__control:checked~label.sk-toggleable__label {background-color: #d4ebff;}#sk-container-id-1 input.sk-hidden--visually {border: 0;clip: rect(1px 1px 1px 1px);clip: rect(1px, 1px, 1px, 1px);height: 1px;margin: -1px;overflow: hidden;padding: 0;position: absolute;width: 1px;}#sk-container-id-1 div.sk-estimator {font-family: monospace;background-color: #f0f8ff;border: 1px dotted black;border-radius: 0.25em;box-sizing: border-box;margin-bottom: 0.5em;}#sk-container-id-1 div.sk-estimator:hover {background-color: #d4ebff;}#sk-container-id-1 div.sk-parallel-item::after {content: \"\";width: 100%;border-bottom: 1px solid gray;flex-grow: 1;}#sk-container-id-1 div.sk-label:hover label.sk-toggleable__label {background-color: #d4ebff;}#sk-container-id-1 div.sk-serial::before {content: \"\";position: absolute;border-left: 1px solid gray;box-sizing: border-box;top: 0;bottom: 0;left: 50%;z-index: 0;}#sk-container-id-1 div.sk-serial {display: flex;flex-direction: column;align-items: center;background-color: white;padding-right: 0.2em;padding-left: 0.2em;position: relative;}#sk-container-id-1 div.sk-item {position: relative;z-index: 1;}#sk-container-id-1 div.sk-parallel {display: flex;align-items: stretch;justify-content: center;background-color: white;position: relative;}#sk-container-id-1 div.sk-item::before, #sk-container-id-1 div.sk-parallel-item::before {content: \"\";position: absolute;border-left: 1px solid gray;box-sizing: border-box;top: 0;bottom: 0;left: 50%;z-index: -1;}#sk-container-id-1 div.sk-parallel-item {display: flex;flex-direction: column;z-index: 1;position: relative;background-color: white;}#sk-container-id-1 div.sk-parallel-item:first-child::after {align-self: flex-end;width: 50%;}#sk-container-id-1 div.sk-parallel-item:last-child::after {align-self: flex-start;width: 50%;}#sk-container-id-1 div.sk-parallel-item:only-child::after {width: 0;}#sk-container-id-1 div.sk-dashed-wrapped {border: 1px dashed gray;margin: 0 0.4em 0.5em 0.4em;box-sizing: border-box;padding-bottom: 0.4em;background-color: white;}#sk-container-id-1 div.sk-label label {font-family: monospace;font-weight: bold;display: inline-block;line-height: 1.2em;}#sk-container-id-1 div.sk-label-container {text-align: center;}#sk-container-id-1 div.sk-container {/* jupyter's `normalize.less` sets `[hidden] { display: none; }` but bootstrap.min.css set `[hidden] { display: none !important; }` so we also need the `!important` here to be able to override the default hidden behavior on the sphinx rendered scikit-learn.org. See: https://github.com/scikit-learn/scikit-learn/issues/21755 */display: inline-block !important;position: relative;}#sk-container-id-1 div.sk-text-repr-fallback {display: none;}</style><div id=\"sk-container-id-1\" class=\"sk-top-container\"><div class=\"sk-text-repr-fallback\"><pre>GridSearchCV(cv=3, estimator=RandomForestClassifier(), n_jobs=-1,\n",
       "             param_grid={&#x27;max_depth&#x27;: [3, 5, 7, 10, 15],\n",
       "                         &#x27;max_features&#x27;: [7, 10, 15, 20],\n",
       "                         &#x27;n_estimators&#x27;: [100, 200, 300]},\n",
       "             scoring=&#x27;accuracy&#x27;)</pre><b>In a Jupyter environment, please rerun this cell to show the HTML representation or trust the notebook. <br />On GitHub, the HTML representation is unable to render, please try loading this page with nbviewer.org.</b></div><div class=\"sk-container\" hidden><div class=\"sk-item sk-dashed-wrapped\"><div class=\"sk-label-container\"><div class=\"sk-label sk-toggleable\"><input class=\"sk-toggleable__control sk-hidden--visually\" id=\"sk-estimator-id-1\" type=\"checkbox\" ><label for=\"sk-estimator-id-1\" class=\"sk-toggleable__label sk-toggleable__label-arrow\">GridSearchCV</label><div class=\"sk-toggleable__content\"><pre>GridSearchCV(cv=3, estimator=RandomForestClassifier(), n_jobs=-1,\n",
       "             param_grid={&#x27;max_depth&#x27;: [3, 5, 7, 10, 15],\n",
       "                         &#x27;max_features&#x27;: [7, 10, 15, 20],\n",
       "                         &#x27;n_estimators&#x27;: [100, 200, 300]},\n",
       "             scoring=&#x27;accuracy&#x27;)</pre></div></div></div><div class=\"sk-parallel\"><div class=\"sk-parallel-item\"><div class=\"sk-item\"><div class=\"sk-label-container\"><div class=\"sk-label sk-toggleable\"><input class=\"sk-toggleable__control sk-hidden--visually\" id=\"sk-estimator-id-2\" type=\"checkbox\" ><label for=\"sk-estimator-id-2\" class=\"sk-toggleable__label sk-toggleable__label-arrow\">estimator: RandomForestClassifier</label><div class=\"sk-toggleable__content\"><pre>RandomForestClassifier()</pre></div></div></div><div class=\"sk-serial\"><div class=\"sk-item\"><div class=\"sk-estimator sk-toggleable\"><input class=\"sk-toggleable__control sk-hidden--visually\" id=\"sk-estimator-id-3\" type=\"checkbox\" ><label for=\"sk-estimator-id-3\" class=\"sk-toggleable__label sk-toggleable__label-arrow\">RandomForestClassifier</label><div class=\"sk-toggleable__content\"><pre>RandomForestClassifier()</pre></div></div></div></div></div></div></div></div></div></div>"
      ],
      "text/plain": [
       "GridSearchCV(cv=3, estimator=RandomForestClassifier(), n_jobs=-1,\n",
       "             param_grid={'max_depth': [3, 5, 7, 10, 15],\n",
       "                         'max_features': [7, 10, 15, 20],\n",
       "                         'n_estimators': [100, 200, 300]},\n",
       "             scoring='accuracy')"
      ]
     },
     "execution_count": 6,
     "metadata": {},
     "output_type": "execute_result"
    }
   ],
   "source": [
    "grid_search.fit(X_smote,y_smote.values.ravel())"
   ]
  },
  {
   "cell_type": "code",
   "execution_count": 7,
   "id": "bb34fd07",
   "metadata": {},
   "outputs": [],
   "source": [
    "# grid_search.cv_results_"
   ]
  },
  {
   "cell_type": "code",
   "execution_count": 8,
   "id": "b658412d",
   "metadata": {},
   "outputs": [
    {
     "data": {
      "text/html": [
       "<style>#sk-container-id-2 {color: black;background-color: white;}#sk-container-id-2 pre{padding: 0;}#sk-container-id-2 div.sk-toggleable {background-color: white;}#sk-container-id-2 label.sk-toggleable__label {cursor: pointer;display: block;width: 100%;margin-bottom: 0;padding: 0.3em;box-sizing: border-box;text-align: center;}#sk-container-id-2 label.sk-toggleable__label-arrow:before {content: \"▸\";float: left;margin-right: 0.25em;color: #696969;}#sk-container-id-2 label.sk-toggleable__label-arrow:hover:before {color: black;}#sk-container-id-2 div.sk-estimator:hover label.sk-toggleable__label-arrow:before {color: black;}#sk-container-id-2 div.sk-toggleable__content {max-height: 0;max-width: 0;overflow: hidden;text-align: left;background-color: #f0f8ff;}#sk-container-id-2 div.sk-toggleable__content pre {margin: 0.2em;color: black;border-radius: 0.25em;background-color: #f0f8ff;}#sk-container-id-2 input.sk-toggleable__control:checked~div.sk-toggleable__content {max-height: 200px;max-width: 100%;overflow: auto;}#sk-container-id-2 input.sk-toggleable__control:checked~label.sk-toggleable__label-arrow:before {content: \"▾\";}#sk-container-id-2 div.sk-estimator input.sk-toggleable__control:checked~label.sk-toggleable__label {background-color: #d4ebff;}#sk-container-id-2 div.sk-label input.sk-toggleable__control:checked~label.sk-toggleable__label {background-color: #d4ebff;}#sk-container-id-2 input.sk-hidden--visually {border: 0;clip: rect(1px 1px 1px 1px);clip: rect(1px, 1px, 1px, 1px);height: 1px;margin: -1px;overflow: hidden;padding: 0;position: absolute;width: 1px;}#sk-container-id-2 div.sk-estimator {font-family: monospace;background-color: #f0f8ff;border: 1px dotted black;border-radius: 0.25em;box-sizing: border-box;margin-bottom: 0.5em;}#sk-container-id-2 div.sk-estimator:hover {background-color: #d4ebff;}#sk-container-id-2 div.sk-parallel-item::after {content: \"\";width: 100%;border-bottom: 1px solid gray;flex-grow: 1;}#sk-container-id-2 div.sk-label:hover label.sk-toggleable__label {background-color: #d4ebff;}#sk-container-id-2 div.sk-serial::before {content: \"\";position: absolute;border-left: 1px solid gray;box-sizing: border-box;top: 0;bottom: 0;left: 50%;z-index: 0;}#sk-container-id-2 div.sk-serial {display: flex;flex-direction: column;align-items: center;background-color: white;padding-right: 0.2em;padding-left: 0.2em;position: relative;}#sk-container-id-2 div.sk-item {position: relative;z-index: 1;}#sk-container-id-2 div.sk-parallel {display: flex;align-items: stretch;justify-content: center;background-color: white;position: relative;}#sk-container-id-2 div.sk-item::before, #sk-container-id-2 div.sk-parallel-item::before {content: \"\";position: absolute;border-left: 1px solid gray;box-sizing: border-box;top: 0;bottom: 0;left: 50%;z-index: -1;}#sk-container-id-2 div.sk-parallel-item {display: flex;flex-direction: column;z-index: 1;position: relative;background-color: white;}#sk-container-id-2 div.sk-parallel-item:first-child::after {align-self: flex-end;width: 50%;}#sk-container-id-2 div.sk-parallel-item:last-child::after {align-self: flex-start;width: 50%;}#sk-container-id-2 div.sk-parallel-item:only-child::after {width: 0;}#sk-container-id-2 div.sk-dashed-wrapped {border: 1px dashed gray;margin: 0 0.4em 0.5em 0.4em;box-sizing: border-box;padding-bottom: 0.4em;background-color: white;}#sk-container-id-2 div.sk-label label {font-family: monospace;font-weight: bold;display: inline-block;line-height: 1.2em;}#sk-container-id-2 div.sk-label-container {text-align: center;}#sk-container-id-2 div.sk-container {/* jupyter's `normalize.less` sets `[hidden] { display: none; }` but bootstrap.min.css set `[hidden] { display: none !important; }` so we also need the `!important` here to be able to override the default hidden behavior on the sphinx rendered scikit-learn.org. See: https://github.com/scikit-learn/scikit-learn/issues/21755 */display: inline-block !important;position: relative;}#sk-container-id-2 div.sk-text-repr-fallback {display: none;}</style><div id=\"sk-container-id-2\" class=\"sk-top-container\"><div class=\"sk-text-repr-fallback\"><pre>RandomForestClassifier(max_depth=10, max_features=7, n_estimators=300)</pre><b>In a Jupyter environment, please rerun this cell to show the HTML representation or trust the notebook. <br />On GitHub, the HTML representation is unable to render, please try loading this page with nbviewer.org.</b></div><div class=\"sk-container\" hidden><div class=\"sk-item\"><div class=\"sk-estimator sk-toggleable\"><input class=\"sk-toggleable__control sk-hidden--visually\" id=\"sk-estimator-id-4\" type=\"checkbox\" checked><label for=\"sk-estimator-id-4\" class=\"sk-toggleable__label sk-toggleable__label-arrow\">RandomForestClassifier</label><div class=\"sk-toggleable__content\"><pre>RandomForestClassifier(max_depth=10, max_features=7, n_estimators=300)</pre></div></div></div></div></div>"
      ],
      "text/plain": [
       "RandomForestClassifier(max_depth=10, max_features=7, n_estimators=300)"
      ]
     },
     "execution_count": 8,
     "metadata": {},
     "output_type": "execute_result"
    }
   ],
   "source": [
    "grid_search.best_estimator_"
   ]
  },
  {
   "cell_type": "code",
   "execution_count": 9,
   "id": "15404608",
   "metadata": {},
   "outputs": [
    {
     "data": {
      "text/plain": [
       "0.9042207792207791"
      ]
     },
     "execution_count": 9,
     "metadata": {},
     "output_type": "execute_result"
    }
   ],
   "source": [
    "grid_search.best_score_"
   ]
  },
  {
   "cell_type": "code",
   "execution_count": 10,
   "id": "2fc03428",
   "metadata": {},
   "outputs": [
    {
     "data": {
      "text/plain": [
       "{'max_depth': 10, 'max_features': 7, 'n_estimators': 300}"
      ]
     },
     "execution_count": 10,
     "metadata": {},
     "output_type": "execute_result"
    }
   ],
   "source": [
    "grid_search.best_params_"
   ]
  },
  {
   "cell_type": "markdown",
   "id": "9d53fb8a",
   "metadata": {},
   "source": [
    "    we dont need to refit again with best paramets , as we have passed refit=True already in grid search. "
   ]
  },
  {
   "cell_type": "code",
   "execution_count": null,
   "id": "1739f984",
   "metadata": {},
   "outputs": [],
   "source": []
  },
  {
   "cell_type": "code",
   "execution_count": 11,
   "id": "2e1c14f4",
   "metadata": {
    "scrolled": false
   },
   "outputs": [
    {
     "data": {
      "application/javascript": [
       "\n",
       "        if (window._pyforest_update_imports_cell) { window._pyforest_update_imports_cell('import pandas as pd'); }\n",
       "    "
      ],
      "text/plain": [
       "<IPython.core.display.Javascript object>"
      ]
     },
     "metadata": {},
     "output_type": "display_data"
    },
    {
     "data": {
      "text/html": [
       "<div>\n",
       "<style scoped>\n",
       "    .dataframe tbody tr th:only-of-type {\n",
       "        vertical-align: middle;\n",
       "    }\n",
       "\n",
       "    .dataframe tbody tr th {\n",
       "        vertical-align: top;\n",
       "    }\n",
       "\n",
       "    .dataframe thead th {\n",
       "        text-align: right;\n",
       "    }\n",
       "</style>\n",
       "<table border=\"1\" class=\"dataframe\">\n",
       "  <thead>\n",
       "    <tr style=\"text-align: right;\">\n",
       "      <th></th>\n",
       "      <th>params</th>\n",
       "      <th>mean_test_score</th>\n",
       "      <th>rank_test_score</th>\n",
       "    </tr>\n",
       "  </thead>\n",
       "  <tbody>\n",
       "    <tr>\n",
       "      <th>0</th>\n",
       "      <td>{'max_depth': 3, 'max_features': 7, 'n_estimat...</td>\n",
       "      <td>0.839827</td>\n",
       "      <td>49</td>\n",
       "    </tr>\n",
       "    <tr>\n",
       "      <th>1</th>\n",
       "      <td>{'max_depth': 3, 'max_features': 7, 'n_estimat...</td>\n",
       "      <td>0.838203</td>\n",
       "      <td>50</td>\n",
       "    </tr>\n",
       "    <tr>\n",
       "      <th>2</th>\n",
       "      <td>{'max_depth': 3, 'max_features': 7, 'n_estimat...</td>\n",
       "      <td>0.831710</td>\n",
       "      <td>51</td>\n",
       "    </tr>\n",
       "    <tr>\n",
       "      <th>3</th>\n",
       "      <td>{'max_depth': 3, 'max_features': 10, 'n_estima...</td>\n",
       "      <td>0.817100</td>\n",
       "      <td>54</td>\n",
       "    </tr>\n",
       "    <tr>\n",
       "      <th>4</th>\n",
       "      <td>{'max_depth': 3, 'max_features': 10, 'n_estima...</td>\n",
       "      <td>0.821970</td>\n",
       "      <td>53</td>\n",
       "    </tr>\n",
       "    <tr>\n",
       "      <th>5</th>\n",
       "      <td>{'max_depth': 3, 'max_features': 10, 'n_estima...</td>\n",
       "      <td>0.828463</td>\n",
       "      <td>52</td>\n",
       "    </tr>\n",
       "    <tr>\n",
       "      <th>6</th>\n",
       "      <td>{'max_depth': 3, 'max_features': 15, 'n_estima...</td>\n",
       "      <td>0.814935</td>\n",
       "      <td>56</td>\n",
       "    </tr>\n",
       "    <tr>\n",
       "      <th>7</th>\n",
       "      <td>{'max_depth': 3, 'max_features': 15, 'n_estima...</td>\n",
       "      <td>0.816558</td>\n",
       "      <td>55</td>\n",
       "    </tr>\n",
       "    <tr>\n",
       "      <th>8</th>\n",
       "      <td>{'max_depth': 3, 'max_features': 15, 'n_estima...</td>\n",
       "      <td>0.813312</td>\n",
       "      <td>57</td>\n",
       "    </tr>\n",
       "    <tr>\n",
       "      <th>9</th>\n",
       "      <td>{'max_depth': 3, 'max_features': 20, 'n_estima...</td>\n",
       "      <td>0.810065</td>\n",
       "      <td>59</td>\n",
       "    </tr>\n",
       "    <tr>\n",
       "      <th>10</th>\n",
       "      <td>{'max_depth': 3, 'max_features': 20, 'n_estima...</td>\n",
       "      <td>0.810065</td>\n",
       "      <td>59</td>\n",
       "    </tr>\n",
       "    <tr>\n",
       "      <th>11</th>\n",
       "      <td>{'max_depth': 3, 'max_features': 20, 'n_estima...</td>\n",
       "      <td>0.811688</td>\n",
       "      <td>58</td>\n",
       "    </tr>\n",
       "    <tr>\n",
       "      <th>12</th>\n",
       "      <td>{'max_depth': 5, 'max_features': 7, 'n_estimat...</td>\n",
       "      <td>0.870130</td>\n",
       "      <td>42</td>\n",
       "    </tr>\n",
       "    <tr>\n",
       "      <th>13</th>\n",
       "      <td>{'max_depth': 5, 'max_features': 7, 'n_estimat...</td>\n",
       "      <td>0.867424</td>\n",
       "      <td>47</td>\n",
       "    </tr>\n",
       "    <tr>\n",
       "      <th>14</th>\n",
       "      <td>{'max_depth': 5, 'max_features': 7, 'n_estimat...</td>\n",
       "      <td>0.872835</td>\n",
       "      <td>38</td>\n",
       "    </tr>\n",
       "    <tr>\n",
       "      <th>15</th>\n",
       "      <td>{'max_depth': 5, 'max_features': 10, 'n_estima...</td>\n",
       "      <td>0.864177</td>\n",
       "      <td>48</td>\n",
       "    </tr>\n",
       "    <tr>\n",
       "      <th>16</th>\n",
       "      <td>{'max_depth': 5, 'max_features': 10, 'n_estima...</td>\n",
       "      <td>0.868506</td>\n",
       "      <td>44</td>\n",
       "    </tr>\n",
       "    <tr>\n",
       "      <th>17</th>\n",
       "      <td>{'max_depth': 5, 'max_features': 10, 'n_estima...</td>\n",
       "      <td>0.872835</td>\n",
       "      <td>38</td>\n",
       "    </tr>\n",
       "    <tr>\n",
       "      <th>18</th>\n",
       "      <td>{'max_depth': 5, 'max_features': 15, 'n_estima...</td>\n",
       "      <td>0.875000</td>\n",
       "      <td>37</td>\n",
       "    </tr>\n",
       "    <tr>\n",
       "      <th>19</th>\n",
       "      <td>{'max_depth': 5, 'max_features': 15, 'n_estima...</td>\n",
       "      <td>0.870130</td>\n",
       "      <td>42</td>\n",
       "    </tr>\n",
       "    <tr>\n",
       "      <th>20</th>\n",
       "      <td>{'max_depth': 5, 'max_features': 15, 'n_estima...</td>\n",
       "      <td>0.867965</td>\n",
       "      <td>46</td>\n",
       "    </tr>\n",
       "    <tr>\n",
       "      <th>21</th>\n",
       "      <td>{'max_depth': 5, 'max_features': 20, 'n_estima...</td>\n",
       "      <td>0.868506</td>\n",
       "      <td>44</td>\n",
       "    </tr>\n",
       "    <tr>\n",
       "      <th>22</th>\n",
       "      <td>{'max_depth': 5, 'max_features': 20, 'n_estima...</td>\n",
       "      <td>0.871753</td>\n",
       "      <td>40</td>\n",
       "    </tr>\n",
       "    <tr>\n",
       "      <th>23</th>\n",
       "      <td>{'max_depth': 5, 'max_features': 20, 'n_estima...</td>\n",
       "      <td>0.871212</td>\n",
       "      <td>41</td>\n",
       "    </tr>\n",
       "    <tr>\n",
       "      <th>24</th>\n",
       "      <td>{'max_depth': 7, 'max_features': 7, 'n_estimat...</td>\n",
       "      <td>0.882576</td>\n",
       "      <td>34</td>\n",
       "    </tr>\n",
       "    <tr>\n",
       "      <th>25</th>\n",
       "      <td>{'max_depth': 7, 'max_features': 7, 'n_estimat...</td>\n",
       "      <td>0.886364</td>\n",
       "      <td>28</td>\n",
       "    </tr>\n",
       "    <tr>\n",
       "      <th>26</th>\n",
       "      <td>{'max_depth': 7, 'max_features': 7, 'n_estimat...</td>\n",
       "      <td>0.887446</td>\n",
       "      <td>26</td>\n",
       "    </tr>\n",
       "    <tr>\n",
       "      <th>27</th>\n",
       "      <td>{'max_depth': 7, 'max_features': 10, 'n_estima...</td>\n",
       "      <td>0.890693</td>\n",
       "      <td>25</td>\n",
       "    </tr>\n",
       "    <tr>\n",
       "      <th>28</th>\n",
       "      <td>{'max_depth': 7, 'max_features': 10, 'n_estima...</td>\n",
       "      <td>0.885823</td>\n",
       "      <td>30</td>\n",
       "    </tr>\n",
       "    <tr>\n",
       "      <th>29</th>\n",
       "      <td>{'max_depth': 7, 'max_features': 10, 'n_estima...</td>\n",
       "      <td>0.884740</td>\n",
       "      <td>31</td>\n",
       "    </tr>\n",
       "    <tr>\n",
       "      <th>30</th>\n",
       "      <td>{'max_depth': 7, 'max_features': 15, 'n_estima...</td>\n",
       "      <td>0.884740</td>\n",
       "      <td>32</td>\n",
       "    </tr>\n",
       "    <tr>\n",
       "      <th>31</th>\n",
       "      <td>{'max_depth': 7, 'max_features': 15, 'n_estima...</td>\n",
       "      <td>0.886364</td>\n",
       "      <td>28</td>\n",
       "    </tr>\n",
       "    <tr>\n",
       "      <th>32</th>\n",
       "      <td>{'max_depth': 7, 'max_features': 15, 'n_estima...</td>\n",
       "      <td>0.881494</td>\n",
       "      <td>36</td>\n",
       "    </tr>\n",
       "    <tr>\n",
       "      <th>33</th>\n",
       "      <td>{'max_depth': 7, 'max_features': 20, 'n_estima...</td>\n",
       "      <td>0.883117</td>\n",
       "      <td>33</td>\n",
       "    </tr>\n",
       "    <tr>\n",
       "      <th>34</th>\n",
       "      <td>{'max_depth': 7, 'max_features': 20, 'n_estima...</td>\n",
       "      <td>0.882035</td>\n",
       "      <td>35</td>\n",
       "    </tr>\n",
       "    <tr>\n",
       "      <th>35</th>\n",
       "      <td>{'max_depth': 7, 'max_features': 20, 'n_estima...</td>\n",
       "      <td>0.886905</td>\n",
       "      <td>27</td>\n",
       "    </tr>\n",
       "    <tr>\n",
       "      <th>36</th>\n",
       "      <td>{'max_depth': 10, 'max_features': 7, 'n_estima...</td>\n",
       "      <td>0.894481</td>\n",
       "      <td>21</td>\n",
       "    </tr>\n",
       "    <tr>\n",
       "      <th>37</th>\n",
       "      <td>{'max_depth': 10, 'max_features': 7, 'n_estima...</td>\n",
       "      <td>0.897727</td>\n",
       "      <td>12</td>\n",
       "    </tr>\n",
       "    <tr>\n",
       "      <th>38</th>\n",
       "      <td>{'max_depth': 10, 'max_features': 7, 'n_estima...</td>\n",
       "      <td>0.904221</td>\n",
       "      <td>1</td>\n",
       "    </tr>\n",
       "    <tr>\n",
       "      <th>39</th>\n",
       "      <td>{'max_depth': 10, 'max_features': 10, 'n_estim...</td>\n",
       "      <td>0.895022</td>\n",
       "      <td>19</td>\n",
       "    </tr>\n",
       "    <tr>\n",
       "      <th>40</th>\n",
       "      <td>{'max_depth': 10, 'max_features': 10, 'n_estim...</td>\n",
       "      <td>0.896645</td>\n",
       "      <td>15</td>\n",
       "    </tr>\n",
       "    <tr>\n",
       "      <th>41</th>\n",
       "      <td>{'max_depth': 10, 'max_features': 10, 'n_estim...</td>\n",
       "      <td>0.894481</td>\n",
       "      <td>21</td>\n",
       "    </tr>\n",
       "    <tr>\n",
       "      <th>42</th>\n",
       "      <td>{'max_depth': 10, 'max_features': 15, 'n_estim...</td>\n",
       "      <td>0.897186</td>\n",
       "      <td>14</td>\n",
       "    </tr>\n",
       "    <tr>\n",
       "      <th>43</th>\n",
       "      <td>{'max_depth': 10, 'max_features': 15, 'n_estim...</td>\n",
       "      <td>0.895022</td>\n",
       "      <td>19</td>\n",
       "    </tr>\n",
       "    <tr>\n",
       "      <th>44</th>\n",
       "      <td>{'max_depth': 10, 'max_features': 15, 'n_estim...</td>\n",
       "      <td>0.895563</td>\n",
       "      <td>16</td>\n",
       "    </tr>\n",
       "    <tr>\n",
       "      <th>45</th>\n",
       "      <td>{'max_depth': 10, 'max_features': 20, 'n_estim...</td>\n",
       "      <td>0.891775</td>\n",
       "      <td>24</td>\n",
       "    </tr>\n",
       "    <tr>\n",
       "      <th>46</th>\n",
       "      <td>{'max_depth': 10, 'max_features': 20, 'n_estim...</td>\n",
       "      <td>0.895563</td>\n",
       "      <td>16</td>\n",
       "    </tr>\n",
       "    <tr>\n",
       "      <th>47</th>\n",
       "      <td>{'max_depth': 10, 'max_features': 20, 'n_estim...</td>\n",
       "      <td>0.894481</td>\n",
       "      <td>21</td>\n",
       "    </tr>\n",
       "    <tr>\n",
       "      <th>48</th>\n",
       "      <td>{'max_depth': 15, 'max_features': 7, 'n_estima...</td>\n",
       "      <td>0.899351</td>\n",
       "      <td>7</td>\n",
       "    </tr>\n",
       "    <tr>\n",
       "      <th>49</th>\n",
       "      <td>{'max_depth': 15, 'max_features': 7, 'n_estima...</td>\n",
       "      <td>0.899892</td>\n",
       "      <td>5</td>\n",
       "    </tr>\n",
       "    <tr>\n",
       "      <th>50</th>\n",
       "      <td>{'max_depth': 15, 'max_features': 7, 'n_estima...</td>\n",
       "      <td>0.904221</td>\n",
       "      <td>1</td>\n",
       "    </tr>\n",
       "    <tr>\n",
       "      <th>51</th>\n",
       "      <td>{'max_depth': 15, 'max_features': 10, 'n_estim...</td>\n",
       "      <td>0.900974</td>\n",
       "      <td>4</td>\n",
       "    </tr>\n",
       "    <tr>\n",
       "      <th>52</th>\n",
       "      <td>{'max_depth': 15, 'max_features': 10, 'n_estim...</td>\n",
       "      <td>0.899892</td>\n",
       "      <td>5</td>\n",
       "    </tr>\n",
       "    <tr>\n",
       "      <th>53</th>\n",
       "      <td>{'max_depth': 15, 'max_features': 10, 'n_estim...</td>\n",
       "      <td>0.898268</td>\n",
       "      <td>10</td>\n",
       "    </tr>\n",
       "    <tr>\n",
       "      <th>54</th>\n",
       "      <td>{'max_depth': 15, 'max_features': 15, 'n_estim...</td>\n",
       "      <td>0.902597</td>\n",
       "      <td>3</td>\n",
       "    </tr>\n",
       "    <tr>\n",
       "      <th>55</th>\n",
       "      <td>{'max_depth': 15, 'max_features': 15, 'n_estim...</td>\n",
       "      <td>0.895022</td>\n",
       "      <td>18</td>\n",
       "    </tr>\n",
       "    <tr>\n",
       "      <th>56</th>\n",
       "      <td>{'max_depth': 15, 'max_features': 15, 'n_estim...</td>\n",
       "      <td>0.898268</td>\n",
       "      <td>10</td>\n",
       "    </tr>\n",
       "    <tr>\n",
       "      <th>57</th>\n",
       "      <td>{'max_depth': 15, 'max_features': 20, 'n_estim...</td>\n",
       "      <td>0.899351</td>\n",
       "      <td>7</td>\n",
       "    </tr>\n",
       "    <tr>\n",
       "      <th>58</th>\n",
       "      <td>{'max_depth': 15, 'max_features': 20, 'n_estim...</td>\n",
       "      <td>0.898810</td>\n",
       "      <td>9</td>\n",
       "    </tr>\n",
       "    <tr>\n",
       "      <th>59</th>\n",
       "      <td>{'max_depth': 15, 'max_features': 20, 'n_estim...</td>\n",
       "      <td>0.897727</td>\n",
       "      <td>12</td>\n",
       "    </tr>\n",
       "  </tbody>\n",
       "</table>\n",
       "</div>"
      ],
      "text/plain": [
       "                                               params  mean_test_score  \\\n",
       "0   {'max_depth': 3, 'max_features': 7, 'n_estimat...         0.839827   \n",
       "1   {'max_depth': 3, 'max_features': 7, 'n_estimat...         0.838203   \n",
       "2   {'max_depth': 3, 'max_features': 7, 'n_estimat...         0.831710   \n",
       "3   {'max_depth': 3, 'max_features': 10, 'n_estima...         0.817100   \n",
       "4   {'max_depth': 3, 'max_features': 10, 'n_estima...         0.821970   \n",
       "5   {'max_depth': 3, 'max_features': 10, 'n_estima...         0.828463   \n",
       "6   {'max_depth': 3, 'max_features': 15, 'n_estima...         0.814935   \n",
       "7   {'max_depth': 3, 'max_features': 15, 'n_estima...         0.816558   \n",
       "8   {'max_depth': 3, 'max_features': 15, 'n_estima...         0.813312   \n",
       "9   {'max_depth': 3, 'max_features': 20, 'n_estima...         0.810065   \n",
       "10  {'max_depth': 3, 'max_features': 20, 'n_estima...         0.810065   \n",
       "11  {'max_depth': 3, 'max_features': 20, 'n_estima...         0.811688   \n",
       "12  {'max_depth': 5, 'max_features': 7, 'n_estimat...         0.870130   \n",
       "13  {'max_depth': 5, 'max_features': 7, 'n_estimat...         0.867424   \n",
       "14  {'max_depth': 5, 'max_features': 7, 'n_estimat...         0.872835   \n",
       "15  {'max_depth': 5, 'max_features': 10, 'n_estima...         0.864177   \n",
       "16  {'max_depth': 5, 'max_features': 10, 'n_estima...         0.868506   \n",
       "17  {'max_depth': 5, 'max_features': 10, 'n_estima...         0.872835   \n",
       "18  {'max_depth': 5, 'max_features': 15, 'n_estima...         0.875000   \n",
       "19  {'max_depth': 5, 'max_features': 15, 'n_estima...         0.870130   \n",
       "20  {'max_depth': 5, 'max_features': 15, 'n_estima...         0.867965   \n",
       "21  {'max_depth': 5, 'max_features': 20, 'n_estima...         0.868506   \n",
       "22  {'max_depth': 5, 'max_features': 20, 'n_estima...         0.871753   \n",
       "23  {'max_depth': 5, 'max_features': 20, 'n_estima...         0.871212   \n",
       "24  {'max_depth': 7, 'max_features': 7, 'n_estimat...         0.882576   \n",
       "25  {'max_depth': 7, 'max_features': 7, 'n_estimat...         0.886364   \n",
       "26  {'max_depth': 7, 'max_features': 7, 'n_estimat...         0.887446   \n",
       "27  {'max_depth': 7, 'max_features': 10, 'n_estima...         0.890693   \n",
       "28  {'max_depth': 7, 'max_features': 10, 'n_estima...         0.885823   \n",
       "29  {'max_depth': 7, 'max_features': 10, 'n_estima...         0.884740   \n",
       "30  {'max_depth': 7, 'max_features': 15, 'n_estima...         0.884740   \n",
       "31  {'max_depth': 7, 'max_features': 15, 'n_estima...         0.886364   \n",
       "32  {'max_depth': 7, 'max_features': 15, 'n_estima...         0.881494   \n",
       "33  {'max_depth': 7, 'max_features': 20, 'n_estima...         0.883117   \n",
       "34  {'max_depth': 7, 'max_features': 20, 'n_estima...         0.882035   \n",
       "35  {'max_depth': 7, 'max_features': 20, 'n_estima...         0.886905   \n",
       "36  {'max_depth': 10, 'max_features': 7, 'n_estima...         0.894481   \n",
       "37  {'max_depth': 10, 'max_features': 7, 'n_estima...         0.897727   \n",
       "38  {'max_depth': 10, 'max_features': 7, 'n_estima...         0.904221   \n",
       "39  {'max_depth': 10, 'max_features': 10, 'n_estim...         0.895022   \n",
       "40  {'max_depth': 10, 'max_features': 10, 'n_estim...         0.896645   \n",
       "41  {'max_depth': 10, 'max_features': 10, 'n_estim...         0.894481   \n",
       "42  {'max_depth': 10, 'max_features': 15, 'n_estim...         0.897186   \n",
       "43  {'max_depth': 10, 'max_features': 15, 'n_estim...         0.895022   \n",
       "44  {'max_depth': 10, 'max_features': 15, 'n_estim...         0.895563   \n",
       "45  {'max_depth': 10, 'max_features': 20, 'n_estim...         0.891775   \n",
       "46  {'max_depth': 10, 'max_features': 20, 'n_estim...         0.895563   \n",
       "47  {'max_depth': 10, 'max_features': 20, 'n_estim...         0.894481   \n",
       "48  {'max_depth': 15, 'max_features': 7, 'n_estima...         0.899351   \n",
       "49  {'max_depth': 15, 'max_features': 7, 'n_estima...         0.899892   \n",
       "50  {'max_depth': 15, 'max_features': 7, 'n_estima...         0.904221   \n",
       "51  {'max_depth': 15, 'max_features': 10, 'n_estim...         0.900974   \n",
       "52  {'max_depth': 15, 'max_features': 10, 'n_estim...         0.899892   \n",
       "53  {'max_depth': 15, 'max_features': 10, 'n_estim...         0.898268   \n",
       "54  {'max_depth': 15, 'max_features': 15, 'n_estim...         0.902597   \n",
       "55  {'max_depth': 15, 'max_features': 15, 'n_estim...         0.895022   \n",
       "56  {'max_depth': 15, 'max_features': 15, 'n_estim...         0.898268   \n",
       "57  {'max_depth': 15, 'max_features': 20, 'n_estim...         0.899351   \n",
       "58  {'max_depth': 15, 'max_features': 20, 'n_estim...         0.898810   \n",
       "59  {'max_depth': 15, 'max_features': 20, 'n_estim...         0.897727   \n",
       "\n",
       "    rank_test_score  \n",
       "0                49  \n",
       "1                50  \n",
       "2                51  \n",
       "3                54  \n",
       "4                53  \n",
       "5                52  \n",
       "6                56  \n",
       "7                55  \n",
       "8                57  \n",
       "9                59  \n",
       "10               59  \n",
       "11               58  \n",
       "12               42  \n",
       "13               47  \n",
       "14               38  \n",
       "15               48  \n",
       "16               44  \n",
       "17               38  \n",
       "18               37  \n",
       "19               42  \n",
       "20               46  \n",
       "21               44  \n",
       "22               40  \n",
       "23               41  \n",
       "24               34  \n",
       "25               28  \n",
       "26               26  \n",
       "27               25  \n",
       "28               30  \n",
       "29               31  \n",
       "30               32  \n",
       "31               28  \n",
       "32               36  \n",
       "33               33  \n",
       "34               35  \n",
       "35               27  \n",
       "36               21  \n",
       "37               12  \n",
       "38                1  \n",
       "39               19  \n",
       "40               15  \n",
       "41               21  \n",
       "42               14  \n",
       "43               19  \n",
       "44               16  \n",
       "45               24  \n",
       "46               16  \n",
       "47               21  \n",
       "48                7  \n",
       "49                5  \n",
       "50                1  \n",
       "51                4  \n",
       "52                5  \n",
       "53               10  \n",
       "54                3  \n",
       "55               18  \n",
       "56               10  \n",
       "57                7  \n",
       "58                9  \n",
       "59               12  "
      ]
     },
     "execution_count": 11,
     "metadata": {},
     "output_type": "execute_result"
    }
   ],
   "source": [
    "r = pd.DataFrame(grid_search.cv_results_).iloc[:,4:]\n",
    "r[[\"params\",\"mean_test_score\",\"rank_test_score\"]]\n"
   ]
  },
  {
   "cell_type": "code",
   "execution_count": null,
   "id": "81693bc4",
   "metadata": {},
   "outputs": [],
   "source": []
  },
  {
   "attachments": {
    "image.png": {
     "image/png": "[encoded data removed]"
    }
   },
   "cell_type": "markdown",
   "id": "82b35eab",
   "metadata": {},
   "source": [
    "### Fine tuning : \n",
    "\n",
    "![image.png](attachment:image.png)"
   ]
  },
  {
   "attachments": {
    "image.png": {
     "image/png": "[encoded data removed]"
    }
   },
   "cell_type": "markdown",
   "id": "41def1ae",
   "metadata": {},
   "source": [
    "![image.png](attachment:image.png)"
   ]
  },
  {
   "cell_type": "code",
   "execution_count": null,
   "id": "a7ffd353",
   "metadata": {},
   "outputs": [],
   "source": []
  },
  {
   "cell_type": "code",
   "execution_count": null,
   "id": "98a1c4f1",
   "metadata": {},
   "outputs": [],
   "source": []
  },
  {
   "cell_type": "code",
   "execution_count": null,
   "id": "a46ad283",
   "metadata": {},
   "outputs": [],
   "source": []
  },
  {
   "cell_type": "code",
   "execution_count": null,
   "id": "a7472d8d",
   "metadata": {},
   "outputs": [],
   "source": []
  },
  {
   "cell_type": "code",
   "execution_count": null,
   "id": "41ed8e18",
   "metadata": {},
   "outputs": [],
   "source": []
  },
  {
   "cell_type": "code",
   "execution_count": null,
   "id": "c3d1dc84",
   "metadata": {},
   "outputs": [],
   "source": []
  },
  {
   "cell_type": "code",
   "execution_count": null,
   "id": "fbe302f3",
   "metadata": {},
   "outputs": [],
   "source": []
  },
  {
   "cell_type": "code",
   "execution_count": null,
   "id": "d8970795",
   "metadata": {},
   "outputs": [],
   "source": []
  },
  {
   "cell_type": "code",
   "execution_count": null,
   "id": "bd1a50a6",
   "metadata": {},
   "outputs": [],
   "source": []
  }
 ],
 "metadata": {
  "kernelspec": {
   "display_name": "Python 3 (ipykernel)",
   "language": "python",
   "name": "python3"
  },
  "language_info": {
   "codemirror_mode": {
    "name": "ipython",
    "version": 3
   },
   "file_extension": ".py",
   "mimetype": "text/x-python",
   "name": "python",
   "nbconvert_exporter": "python",
   "pygments_lexer": "ipython3",
   "version": "3.9.7"
  }
 },
 "nbformat": 4,
 "nbformat_minor": 5
}
