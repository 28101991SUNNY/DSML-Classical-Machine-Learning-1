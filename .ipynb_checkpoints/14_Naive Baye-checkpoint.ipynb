{
 "cells": [
  {
   "cell_type": "code",
   "execution_count": null,
   "id": "f23ea664",
   "metadata": {},
   "outputs": [],
   "source": []
  },
  {
   "cell_type": "markdown",
   "id": "0d4db11d",
   "metadata": {},
   "source": [
    "## Problem Statement : \n",
    "\n",
    "### Text classification \n",
    "\n",
    "    weather a email is a spam or ham(not-spam)\n",
    "    \n",
    "    P[ y = spam | words in email ]    &   P[ y = ham | words in email ]\n",
    "    P[ y = 1 | w1,w2,w3,...,wk ]          P[ y = 0 | w1,w2,w3,...,wk ] \n",
    "    \n",
    "    \n",
    "    Data given is not always in a structures format\n",
    "    (especially in NLP problems.)\n",
    "    \n",
    "    Challenges in such problems : \n",
    "    Emails are of different length. (not given in tabular format)\n",
    "    \n",
    "    data pre-processing is required.\n",
    "    \n",
    "    \n",
    "\n"
   ]
  },
  {
   "cell_type": "markdown",
   "id": "4b75a0fc",
   "metadata": {},
   "source": [
    "### Data : "
   ]
  },
  {
   "cell_type": "code",
   "execution_count": 1,
   "id": "90d5729b",
   "metadata": {},
   "outputs": [
    {
     "data": {
      "application/javascript": [
       "\n",
       "        if (window._pyforest_update_imports_cell) { window._pyforest_update_imports_cell('import pandas as pd'); }\n",
       "    "
      ],
      "text/plain": [
       "<IPython.core.display.Javascript object>"
      ]
     },
     "metadata": {},
     "output_type": "display_data"
    }
   ],
   "source": [
    "df = pd.read_csv(\"spam_clean.csv\")"
   ]
  },
  {
   "cell_type": "code",
   "execution_count": 2,
   "id": "e163200d",
   "metadata": {},
   "outputs": [
    {
     "data": {
      "text/html": [
       "<div>\n",
       "<style scoped>\n",
       "    .dataframe tbody tr th:only-of-type {\n",
       "        vertical-align: middle;\n",
       "    }\n",
       "\n",
       "    .dataframe tbody tr th {\n",
       "        vertical-align: top;\n",
       "    }\n",
       "\n",
       "    .dataframe thead th {\n",
       "        text-align: right;\n",
       "    }\n",
       "</style>\n",
       "<table border=\"1\" class=\"dataframe\">\n",
       "  <thead>\n",
       "    <tr style=\"text-align: right;\">\n",
       "      <th></th>\n",
       "      <th>type</th>\n",
       "      <th>message</th>\n",
       "    </tr>\n",
       "  </thead>\n",
       "  <tbody>\n",
       "    <tr>\n",
       "      <th>0</th>\n",
       "      <td>ham</td>\n",
       "      <td>Go until jurong point, crazy.. Available only ...</td>\n",
       "    </tr>\n",
       "    <tr>\n",
       "      <th>1</th>\n",
       "      <td>ham</td>\n",
       "      <td>Ok lar... Joking wif u oni...</td>\n",
       "    </tr>\n",
       "    <tr>\n",
       "      <th>2</th>\n",
       "      <td>spam</td>\n",
       "      <td>Free entry in 2 a wkly comp to win FA Cup fina...</td>\n",
       "    </tr>\n",
       "    <tr>\n",
       "      <th>3</th>\n",
       "      <td>ham</td>\n",
       "      <td>U dun say so early hor... U c already then say...</td>\n",
       "    </tr>\n",
       "    <tr>\n",
       "      <th>4</th>\n",
       "      <td>ham</td>\n",
       "      <td>Nah I don't think he goes to usf, he lives aro...</td>\n",
       "    </tr>\n",
       "    <tr>\n",
       "      <th>...</th>\n",
       "      <td>...</td>\n",
       "      <td>...</td>\n",
       "    </tr>\n",
       "    <tr>\n",
       "      <th>5567</th>\n",
       "      <td>spam</td>\n",
       "      <td>This is the 2nd time we have tried 2 contact u...</td>\n",
       "    </tr>\n",
       "    <tr>\n",
       "      <th>5568</th>\n",
       "      <td>ham</td>\n",
       "      <td>Will Ì_ b going to esplanade fr home?</td>\n",
       "    </tr>\n",
       "    <tr>\n",
       "      <th>5569</th>\n",
       "      <td>ham</td>\n",
       "      <td>Pity, * was in mood for that. So...any other s...</td>\n",
       "    </tr>\n",
       "    <tr>\n",
       "      <th>5570</th>\n",
       "      <td>ham</td>\n",
       "      <td>The guy did some bitching but I acted like i'd...</td>\n",
       "    </tr>\n",
       "    <tr>\n",
       "      <th>5571</th>\n",
       "      <td>ham</td>\n",
       "      <td>Rofl. Its true to its name</td>\n",
       "    </tr>\n",
       "  </tbody>\n",
       "</table>\n",
       "<p>5572 rows × 2 columns</p>\n",
       "</div>"
      ],
      "text/plain": [
       "      type                                            message\n",
       "0      ham  Go until jurong point, crazy.. Available only ...\n",
       "1      ham                      Ok lar... Joking wif u oni...\n",
       "2     spam  Free entry in 2 a wkly comp to win FA Cup fina...\n",
       "3      ham  U dun say so early hor... U c already then say...\n",
       "4      ham  Nah I don't think he goes to usf, he lives aro...\n",
       "...    ...                                                ...\n",
       "5567  spam  This is the 2nd time we have tried 2 contact u...\n",
       "5568   ham              Will Ì_ b going to esplanade fr home?\n",
       "5569   ham  Pity, * was in mood for that. So...any other s...\n",
       "5570   ham  The guy did some bitching but I acted like i'd...\n",
       "5571   ham                         Rofl. Its true to its name\n",
       "\n",
       "[5572 rows x 2 columns]"
      ]
     },
     "execution_count": 2,
     "metadata": {},
     "output_type": "execute_result"
    }
   ],
   "source": [
    "df"
   ]
  },
  {
   "cell_type": "code",
   "execution_count": 3,
   "id": "d64fb7c2",
   "metadata": {},
   "outputs": [
    {
     "data": {
      "text/plain": [
       "\"I'm gonna be home soon and i don't want to talk about this stuff anymore tonight, k? I've cried enough today.\""
      ]
     },
     "execution_count": 3,
     "metadata": {},
     "output_type": "execute_result"
    }
   ],
   "source": [
    "df[\"message\"][10]"
   ]
  },
  {
   "cell_type": "code",
   "execution_count": 4,
   "id": "b4900c32",
   "metadata": {},
   "outputs": [
    {
     "data": {
      "text/plain": [
       "\"As per your request 'Melle Melle (Oru Minnaminunginte Nurungu Vettam)' has been set as your callertune for all Callers. Press *9 to copy your friends Callertune\""
      ]
     },
     "execution_count": 4,
     "metadata": {},
     "output_type": "execute_result"
    }
   ],
   "source": [
    "df[\"message\"][7]"
   ]
  },
  {
   "cell_type": "code",
   "execution_count": 5,
   "id": "6193ff9e",
   "metadata": {},
   "outputs": [
    {
     "data": {
      "text/plain": [
       "\"Just forced myself to eat a slice. I'm really not hungry tho. This sucks. Mark is getting worried. He knows I'm sick when I turn down pizza. Lol\""
      ]
     },
     "execution_count": 5,
     "metadata": {},
     "output_type": "execute_result"
    }
   ],
   "source": [
    "df[\"message\"][25]"
   ]
  },
  {
   "cell_type": "code",
   "execution_count": 6,
   "id": "84c2dbd2",
   "metadata": {},
   "outputs": [
    {
     "data": {
      "text/plain": [
       "ham     4825\n",
       "spam     747\n",
       "Name: type, dtype: int64"
      ]
     },
     "execution_count": 6,
     "metadata": {},
     "output_type": "execute_result"
    }
   ],
   "source": [
    "df['type'].value_counts()"
   ]
  },
  {
   "cell_type": "markdown",
   "id": "3242b2df",
   "metadata": {},
   "source": [
    "## Data Preprocessing : "
   ]
  },
  {
   "cell_type": "markdown",
   "id": "c6480f5a",
   "metadata": {},
   "source": [
    "    reduce unique words by converting all the letters into lower case. \n",
    "    "
   ]
  },
  {
   "cell_type": "markdown",
   "id": "4230b36c",
   "metadata": {},
   "source": [
    "## Tockenization : \n",
    "    Tokenization is used in natural language processing to split paragraphs and sentences into smaller units that can be more easily assigned meaning. \n",
    "\n",
    "\n",
    "    The first step of the NLP process is gathering the data (a sentence) and breaking it into understandable parts (words). Here’s an example of a string of data:  \n",
    "\n",
    "\n",
    "    “What restaurants are nearby?“\n",
    "\n",
    "\n",
    "    In order for this sentence to be understood by a machine, tokenization is performed on the string to break it into individual parts. With tokenization, we’d get something like this:  \n",
    "\n",
    "\n",
    "    ‘what’ ‘restaurants’ ‘are’ ‘nearby’  "
   ]
  },
  {
   "cell_type": "markdown",
   "id": "c6123158",
   "metadata": {},
   "source": [
    "https://www.tokenex.com/blog/ab-what-is-nlp-natural-language-processing-tokenization/"
   ]
  },
  {
   "cell_type": "markdown",
   "id": "3a136757",
   "metadata": {},
   "source": [
    "    remove punctiations.\n",
    "         . @ | ! / \\ , = etc. \n",
    "    stopword removal ."
   ]
  },
  {
   "cell_type": "code",
   "execution_count": 7,
   "id": "3db067e9",
   "metadata": {},
   "outputs": [],
   "source": [
    "# Natural Language tool kit : "
   ]
  },
  {
   "cell_type": "code",
   "execution_count": 8,
   "id": "8bdb12e2",
   "metadata": {},
   "outputs": [],
   "source": [
    "from nltk.tokenize import word_tokenize\n",
    "import re\n",
    "from nltk.corpus import stopwords \n"
   ]
  },
  {
   "cell_type": "code",
   "execution_count": 9,
   "id": "049e8811",
   "metadata": {},
   "outputs": [],
   "source": [
    "# nltk.download('punkt')"
   ]
  },
  {
   "cell_type": "code",
   "execution_count": 10,
   "id": "59603f12",
   "metadata": {
    "scrolled": true
   },
   "outputs": [
    {
     "data": {
      "text/plain": [
       "{'a',\n",
       " 'about',\n",
       " 'above',\n",
       " 'after',\n",
       " 'again',\n",
       " 'against',\n",
       " 'ain',\n",
       " 'all',\n",
       " 'am',\n",
       " 'an',\n",
       " 'and',\n",
       " 'any',\n",
       " 'are',\n",
       " 'aren',\n",
       " \"aren't\",\n",
       " 'as',\n",
       " 'at',\n",
       " 'be',\n",
       " 'because',\n",
       " 'been',\n",
       " 'before',\n",
       " 'being',\n",
       " 'below',\n",
       " 'between',\n",
       " 'both',\n",
       " 'but',\n",
       " 'by',\n",
       " 'can',\n",
       " 'couldn',\n",
       " \"couldn't\",\n",
       " 'd',\n",
       " 'did',\n",
       " 'didn',\n",
       " \"didn't\",\n",
       " 'do',\n",
       " 'does',\n",
       " 'doesn',\n",
       " \"doesn't\",\n",
       " 'doing',\n",
       " 'don',\n",
       " \"don't\",\n",
       " 'down',\n",
       " 'during',\n",
       " 'each',\n",
       " 'few',\n",
       " 'for',\n",
       " 'from',\n",
       " 'further',\n",
       " 'had',\n",
       " 'hadn',\n",
       " \"hadn't\",\n",
       " 'has',\n",
       " 'hasn',\n",
       " \"hasn't\",\n",
       " 'have',\n",
       " 'haven',\n",
       " \"haven't\",\n",
       " 'having',\n",
       " 'he',\n",
       " 'her',\n",
       " 'here',\n",
       " 'hers',\n",
       " 'herself',\n",
       " 'him',\n",
       " 'himself',\n",
       " 'his',\n",
       " 'how',\n",
       " 'i',\n",
       " 'if',\n",
       " 'in',\n",
       " 'into',\n",
       " 'is',\n",
       " 'isn',\n",
       " \"isn't\",\n",
       " 'it',\n",
       " \"it's\",\n",
       " 'its',\n",
       " 'itself',\n",
       " 'just',\n",
       " 'll',\n",
       " 'm',\n",
       " 'ma',\n",
       " 'me',\n",
       " 'mightn',\n",
       " \"mightn't\",\n",
       " 'more',\n",
       " 'most',\n",
       " 'mustn',\n",
       " \"mustn't\",\n",
       " 'my',\n",
       " 'myself',\n",
       " 'needn',\n",
       " \"needn't\",\n",
       " 'no',\n",
       " 'nor',\n",
       " 'not',\n",
       " 'now',\n",
       " 'o',\n",
       " 'of',\n",
       " 'off',\n",
       " 'on',\n",
       " 'once',\n",
       " 'only',\n",
       " 'or',\n",
       " 'other',\n",
       " 'our',\n",
       " 'ours',\n",
       " 'ourselves',\n",
       " 'out',\n",
       " 'over',\n",
       " 'own',\n",
       " 're',\n",
       " 's',\n",
       " 'same',\n",
       " 'shan',\n",
       " \"shan't\",\n",
       " 'she',\n",
       " \"she's\",\n",
       " 'should',\n",
       " \"should've\",\n",
       " 'shouldn',\n",
       " \"shouldn't\",\n",
       " 'so',\n",
       " 'some',\n",
       " 'such',\n",
       " 't',\n",
       " 'than',\n",
       " 'that',\n",
       " \"that'll\",\n",
       " 'the',\n",
       " 'their',\n",
       " 'theirs',\n",
       " 'them',\n",
       " 'themselves',\n",
       " 'then',\n",
       " 'there',\n",
       " 'these',\n",
       " 'they',\n",
       " 'this',\n",
       " 'those',\n",
       " 'through',\n",
       " 'to',\n",
       " 'too',\n",
       " 'under',\n",
       " 'until',\n",
       " 'up',\n",
       " 've',\n",
       " 'very',\n",
       " 'was',\n",
       " 'wasn',\n",
       " \"wasn't\",\n",
       " 'we',\n",
       " 'were',\n",
       " 'weren',\n",
       " \"weren't\",\n",
       " 'what',\n",
       " 'when',\n",
       " 'where',\n",
       " 'which',\n",
       " 'while',\n",
       " 'who',\n",
       " 'whom',\n",
       " 'why',\n",
       " 'will',\n",
       " 'with',\n",
       " 'won',\n",
       " \"won't\",\n",
       " 'wouldn',\n",
       " \"wouldn't\",\n",
       " 'y',\n",
       " 'you',\n",
       " \"you'd\",\n",
       " \"you'll\",\n",
       " \"you're\",\n",
       " \"you've\",\n",
       " 'your',\n",
       " 'yours',\n",
       " 'yourself',\n",
       " 'yourselves'}"
      ]
     },
     "execution_count": 10,
     "metadata": {},
     "output_type": "execute_result"
    }
   ],
   "source": [
    "sw = set(stopwords.words(\"english\"))\n",
    "# there are the words who have no sentiments \n",
    "sw"
   ]
  },
  {
   "cell_type": "code",
   "execution_count": 11,
   "id": "94a62e6a",
   "metadata": {},
   "outputs": [],
   "source": [
    "def get_clean_email(email):\n",
    "    email = email.lower()\n",
    "    import re\n",
    "    pattern = \"[^a-z ]+\"\n",
    "    repl = \"\"\n",
    "    string = email\n",
    "    eml = re.sub(pattern, repl, string).strip()\n",
    "    eml = word_tokenize(eml)           # convert sentense into words list \n",
    "    \n",
    "    eml = [w for w in eml if w not in sw]\n",
    "    return \" \".join(eml)"
   ]
  },
  {
   "cell_type": "code",
   "execution_count": 12,
   "id": "e0bc1961",
   "metadata": {},
   "outputs": [
    {
     "data": {
      "text/plain": [
       "'hi name sunny'"
      ]
     },
     "execution_count": 12,
     "metadata": {},
     "output_type": "execute_result"
    }
   ],
   "source": [
    "email = \"Hi !! ,.. my name IS SunnY :) -28-10-1991\"\n",
    "email = get_clean_email(email)\n",
    "email"
   ]
  },
  {
   "cell_type": "code",
   "execution_count": 13,
   "id": "0d4a8376",
   "metadata": {},
   "outputs": [],
   "source": [
    "df[\"cleaned_message\"]  = df[\"message\"].apply(get_clean_email)"
   ]
  },
  {
   "cell_type": "code",
   "execution_count": 14,
   "id": "8b13ffd7",
   "metadata": {},
   "outputs": [],
   "source": [
    "df[\"type\"] = df[\"type\"].astype(\"category\").cat.codes"
   ]
  },
  {
   "cell_type": "code",
   "execution_count": 15,
   "id": "7f50d2b0",
   "metadata": {},
   "outputs": [
    {
     "data": {
      "text/html": [
       "<div>\n",
       "<style scoped>\n",
       "    .dataframe tbody tr th:only-of-type {\n",
       "        vertical-align: middle;\n",
       "    }\n",
       "\n",
       "    .dataframe tbody tr th {\n",
       "        vertical-align: top;\n",
       "    }\n",
       "\n",
       "    .dataframe thead th {\n",
       "        text-align: right;\n",
       "    }\n",
       "</style>\n",
       "<table border=\"1\" class=\"dataframe\">\n",
       "  <thead>\n",
       "    <tr style=\"text-align: right;\">\n",
       "      <th></th>\n",
       "      <th>type</th>\n",
       "      <th>message</th>\n",
       "      <th>cleaned_message</th>\n",
       "    </tr>\n",
       "  </thead>\n",
       "  <tbody>\n",
       "    <tr>\n",
       "      <th>0</th>\n",
       "      <td>0</td>\n",
       "      <td>Go until jurong point, crazy.. Available only ...</td>\n",
       "      <td>go jurong point crazy available bugis n great ...</td>\n",
       "    </tr>\n",
       "    <tr>\n",
       "      <th>1</th>\n",
       "      <td>0</td>\n",
       "      <td>Ok lar... Joking wif u oni...</td>\n",
       "      <td>ok lar joking wif u oni</td>\n",
       "    </tr>\n",
       "    <tr>\n",
       "      <th>2</th>\n",
       "      <td>1</td>\n",
       "      <td>Free entry in 2 a wkly comp to win FA Cup fina...</td>\n",
       "      <td>free entry wkly comp win fa cup final tkts st ...</td>\n",
       "    </tr>\n",
       "    <tr>\n",
       "      <th>3</th>\n",
       "      <td>0</td>\n",
       "      <td>U dun say so early hor... U c already then say...</td>\n",
       "      <td>u dun say early hor u c already say</td>\n",
       "    </tr>\n",
       "    <tr>\n",
       "      <th>4</th>\n",
       "      <td>0</td>\n",
       "      <td>Nah I don't think he goes to usf, he lives aro...</td>\n",
       "      <td>nah dont think goes usf lives around though</td>\n",
       "    </tr>\n",
       "    <tr>\n",
       "      <th>...</th>\n",
       "      <td>...</td>\n",
       "      <td>...</td>\n",
       "      <td>...</td>\n",
       "    </tr>\n",
       "    <tr>\n",
       "      <th>5567</th>\n",
       "      <td>1</td>\n",
       "      <td>This is the 2nd time we have tried 2 contact u...</td>\n",
       "      <td>nd time tried contact u u pound prize claim ea...</td>\n",
       "    </tr>\n",
       "    <tr>\n",
       "      <th>5568</th>\n",
       "      <td>0</td>\n",
       "      <td>Will Ì_ b going to esplanade fr home?</td>\n",
       "      <td>b going esplanade fr home</td>\n",
       "    </tr>\n",
       "    <tr>\n",
       "      <th>5569</th>\n",
       "      <td>0</td>\n",
       "      <td>Pity, * was in mood for that. So...any other s...</td>\n",
       "      <td>pity mood soany suggestions</td>\n",
       "    </tr>\n",
       "    <tr>\n",
       "      <th>5570</th>\n",
       "      <td>0</td>\n",
       "      <td>The guy did some bitching but I acted like i'd...</td>\n",
       "      <td>guy bitching acted like id interested buying s...</td>\n",
       "    </tr>\n",
       "    <tr>\n",
       "      <th>5571</th>\n",
       "      <td>0</td>\n",
       "      <td>Rofl. Its true to its name</td>\n",
       "      <td>rofl true name</td>\n",
       "    </tr>\n",
       "  </tbody>\n",
       "</table>\n",
       "<p>5572 rows × 3 columns</p>\n",
       "</div>"
      ],
      "text/plain": [
       "      type                                            message  \\\n",
       "0        0  Go until jurong point, crazy.. Available only ...   \n",
       "1        0                      Ok lar... Joking wif u oni...   \n",
       "2        1  Free entry in 2 a wkly comp to win FA Cup fina...   \n",
       "3        0  U dun say so early hor... U c already then say...   \n",
       "4        0  Nah I don't think he goes to usf, he lives aro...   \n",
       "...    ...                                                ...   \n",
       "5567     1  This is the 2nd time we have tried 2 contact u...   \n",
       "5568     0              Will Ì_ b going to esplanade fr home?   \n",
       "5569     0  Pity, * was in mood for that. So...any other s...   \n",
       "5570     0  The guy did some bitching but I acted like i'd...   \n",
       "5571     0                         Rofl. Its true to its name   \n",
       "\n",
       "                                        cleaned_message  \n",
       "0     go jurong point crazy available bugis n great ...  \n",
       "1                               ok lar joking wif u oni  \n",
       "2     free entry wkly comp win fa cup final tkts st ...  \n",
       "3                   u dun say early hor u c already say  \n",
       "4           nah dont think goes usf lives around though  \n",
       "...                                                 ...  \n",
       "5567  nd time tried contact u u pound prize claim ea...  \n",
       "5568                          b going esplanade fr home  \n",
       "5569                        pity mood soany suggestions  \n",
       "5570  guy bitching acted like id interested buying s...  \n",
       "5571                                     rofl true name  \n",
       "\n",
       "[5572 rows x 3 columns]"
      ]
     },
     "execution_count": 15,
     "metadata": {},
     "output_type": "execute_result"
    }
   ],
   "source": [
    "df"
   ]
  },
  {
   "cell_type": "code",
   "execution_count": 16,
   "id": "41d50f67",
   "metadata": {},
   "outputs": [
    {
     "data": {
      "text/plain": [
       "'XXXMobileMovieClub: To use your credit, click the WAP link in the next txt message or click here>> http://wap. xxxmobilemovieclub.com?n=QJKGIGHJJGCBL'"
      ]
     },
     "execution_count": 16,
     "metadata": {},
     "output_type": "execute_result"
    }
   ],
   "source": [
    "df[\"message\"][15]"
   ]
  },
  {
   "cell_type": "code",
   "execution_count": 17,
   "id": "fa238cab",
   "metadata": {},
   "outputs": [
    {
     "data": {
      "text/plain": [
       "'xxxmobilemovieclub use credit click wap link next txt message click httpwap xxxmobilemovieclubcomnqjkgighjjgcbl'"
      ]
     },
     "execution_count": 17,
     "metadata": {},
     "output_type": "execute_result"
    }
   ],
   "source": [
    "df[\"cleaned_message\"][15]"
   ]
  },
  {
   "cell_type": "code",
   "execution_count": null,
   "id": "6bf39915",
   "metadata": {},
   "outputs": [],
   "source": []
  },
  {
   "cell_type": "markdown",
   "id": "19a0e3cd",
   "metadata": {},
   "source": [
    "## train test split "
   ]
  },
  {
   "cell_type": "code",
   "execution_count": 18,
   "id": "cc81dac6",
   "metadata": {},
   "outputs": [
    {
     "data": {
      "text/plain": [
       "0    0.865937\n",
       "1    0.134063\n",
       "Name: type, dtype: float64"
      ]
     },
     "execution_count": 18,
     "metadata": {},
     "output_type": "execute_result"
    }
   ],
   "source": [
    "df[\"type\"].value_counts(normalize=True)"
   ]
  },
  {
   "cell_type": "code",
   "execution_count": 19,
   "id": "990827df",
   "metadata": {},
   "outputs": [
    {
     "data": {
      "text/plain": [
       "0    4825\n",
       "1     747\n",
       "Name: type, dtype: int64"
      ]
     },
     "execution_count": 19,
     "metadata": {},
     "output_type": "execute_result"
    }
   ],
   "source": [
    "df[\"type\"].value_counts(normalize=False) # Imbalanced "
   ]
  },
  {
   "cell_type": "code",
   "execution_count": null,
   "id": "ec670d73",
   "metadata": {},
   "outputs": [],
   "source": []
  },
  {
   "cell_type": "code",
   "execution_count": 20,
   "id": "1cd2652a",
   "metadata": {},
   "outputs": [],
   "source": [
    "from sklearn.model_selection import train_test_split"
   ]
  },
  {
   "cell_type": "code",
   "execution_count": 21,
   "id": "f59171d1",
   "metadata": {},
   "outputs": [],
   "source": [
    "df_X_train, df_X_test, y_train, y_test = train_test_split( df[\"cleaned_message\"],\n",
    "                                                     df[\"type\"],\n",
    "                                                    test_size=0.25,\n",
    "                                                    random_state=42)"
   ]
  },
  {
   "cell_type": "code",
   "execution_count": 22,
   "id": "df9b7ae4",
   "metadata": {},
   "outputs": [
    {
     "data": {
      "text/plain": [
       "4281                                               u call\n",
       "585               tell u headache want use hour sick time\n",
       "4545    never try alone take weight tear comes ur hear...\n",
       "3034    rajipls favour pls convey birthday wishes nimy...\n",
       "2758                                         time im prob\n",
       "                              ...                        \n",
       "3772        came hostel going sleep plz call class hrishi\n",
       "5191                                 sorry ill call later\n",
       "5226                prabhaim sorydarealyfrm heart im sory\n",
       "5390                             nt joking seriously told\n",
       "860                                        work going min\n",
       "Name: cleaned_message, Length: 4179, dtype: object"
      ]
     },
     "execution_count": 22,
     "metadata": {},
     "output_type": "execute_result"
    }
   ],
   "source": [
    "df_X_train"
   ]
  },
  {
   "cell_type": "code",
   "execution_count": 23,
   "id": "11f0ce62",
   "metadata": {},
   "outputs": [
    {
     "data": {
      "text/plain": [
       "((4179,), (1393,))"
      ]
     },
     "execution_count": 23,
     "metadata": {},
     "output_type": "execute_result"
    }
   ],
   "source": [
    "df_X_train.shape,df_X_test.shape"
   ]
  },
  {
   "cell_type": "code",
   "execution_count": 24,
   "id": "3c1aecdd",
   "metadata": {},
   "outputs": [
    {
     "data": {
      "text/plain": [
       "((4179,), (1393,))"
      ]
     },
     "execution_count": 24,
     "metadata": {},
     "output_type": "execute_result"
    }
   ],
   "source": [
    "y_train.shape,y_test.shape"
   ]
  },
  {
   "cell_type": "code",
   "execution_count": null,
   "id": "5dc6df31",
   "metadata": {},
   "outputs": [],
   "source": [
    "\n"
   ]
  },
  {
   "cell_type": "markdown",
   "id": "950aed35",
   "metadata": {},
   "source": [
    "## Bag of Words : \n",
    "    \n",
    "    \n",
    "    - one of the technique to convert text data to vector\n",
    "        text (email) ----> vector \n",
    "        \n",
    "    - Bag of words creates a vocabulary. \n",
    "    - word of all the unique words in the entire dataset .\n",
    "    \n",
    "    \n",
    "    - wherever a word appear, mark it as 1 else 0 for all the data points\n",
    "        \n",
    "    \n",
    "             a | an | apple | bag | dog | free | gift | many | people | price ...\n",
    "    email1:    0    0     0      0      0     1    1       0         0     1\n",
    "    email2:    1    0     0      1      0     0    1       0         0     0\n",
    "      .\n",
    "      .\n",
    "      .\n",
    "     \n",
    "     at the end of vecterization , we get a structured data .\n",
    "     a table of \n",
    "     X[n*d] (n : total data points , d: all the unique words)\n",
    "     \n",
    "     \n",
    "     \n",
    "        \n",
    "     \n",
    "        "
   ]
  },
  {
   "cell_type": "markdown",
   "id": "45135f21",
   "metadata": {},
   "source": [
    "# Vectorization "
   ]
  },
  {
   "cell_type": "markdown",
   "id": "edd5bd9d",
   "metadata": {},
   "source": [
    "## BagOfWord"
   ]
  },
  {
   "cell_type": "code",
   "execution_count": 25,
   "id": "17e2e59a",
   "metadata": {},
   "outputs": [],
   "source": [
    "from sklearn.feature_extraction.text import CountVectorizer\n",
    "\n",
    "# CountVectorizer : is a BagOfWord \n",
    "# to Learn the unique vocabulary\n"
   ]
  },
  {
   "cell_type": "code",
   "execution_count": 26,
   "id": "3a444562",
   "metadata": {},
   "outputs": [],
   "source": [
    "vectorizer = CountVectorizer()\n",
    "\n",
    "\n",
    "# CountVectorizer(\n",
    "#     *,\n",
    "#     input='content',\n",
    "#     encoding='utf-8',\n",
    "#     decode_error='strict',\n",
    "#     strip_accents=None,\n",
    "#     lowercase=True,\n",
    "#     preprocessor=None,\n",
    "#     tokenizer=None,\n",
    "#     stop_words=None,\n",
    "#     token_pattern='(?u)\\\\b\\\\w\\\\w+\\\\b',\n",
    "#     ngram_range=(1, 1),\n",
    "#     analyzer='word',\n",
    "#     max_df=1.0,\n",
    "#     min_df=1,\n",
    "#     max_features=None,          if we set max_features = 5000\n",
    "                        # it will only select most frequent 5000 words.\n",
    "#     vocabulary=None,\n",
    "#     binary=False,\n",
    "#     dtype=<class 'numpy.int64'>,\n",
    "# )\n"
   ]
  },
  {
   "cell_type": "code",
   "execution_count": 27,
   "id": "e4a80dc1",
   "metadata": {},
   "outputs": [
    {
     "data": {
      "text/html": [
       "<style>#sk-container-id-1 {color: black;background-color: white;}#sk-container-id-1 pre{padding: 0;}#sk-container-id-1 div.sk-toggleable {background-color: white;}#sk-container-id-1 label.sk-toggleable__label {cursor: pointer;display: block;width: 100%;margin-bottom: 0;padding: 0.3em;box-sizing: border-box;text-align: center;}#sk-container-id-1 label.sk-toggleable__label-arrow:before {content: \"▸\";float: left;margin-right: 0.25em;color: #696969;}#sk-container-id-1 label.sk-toggleable__label-arrow:hover:before {color: black;}#sk-container-id-1 div.sk-estimator:hover label.sk-toggleable__label-arrow:before {color: black;}#sk-container-id-1 div.sk-toggleable__content {max-height: 0;max-width: 0;overflow: hidden;text-align: left;background-color: #f0f8ff;}#sk-container-id-1 div.sk-toggleable__content pre {margin: 0.2em;color: black;border-radius: 0.25em;background-color: #f0f8ff;}#sk-container-id-1 input.sk-toggleable__control:checked~div.sk-toggleable__content {max-height: 200px;max-width: 100%;overflow: auto;}#sk-container-id-1 input.sk-toggleable__control:checked~label.sk-toggleable__label-arrow:before {content: \"▾\";}#sk-container-id-1 div.sk-estimator input.sk-toggleable__control:checked~label.sk-toggleable__label {background-color: #d4ebff;}#sk-container-id-1 div.sk-label input.sk-toggleable__control:checked~label.sk-toggleable__label {background-color: #d4ebff;}#sk-container-id-1 input.sk-hidden--visually {border: 0;clip: rect(1px 1px 1px 1px);clip: rect(1px, 1px, 1px, 1px);height: 1px;margin: -1px;overflow: hidden;padding: 0;position: absolute;width: 1px;}#sk-container-id-1 div.sk-estimator {font-family: monospace;background-color: #f0f8ff;border: 1px dotted black;border-radius: 0.25em;box-sizing: border-box;margin-bottom: 0.5em;}#sk-container-id-1 div.sk-estimator:hover {background-color: #d4ebff;}#sk-container-id-1 div.sk-parallel-item::after {content: \"\";width: 100%;border-bottom: 1px solid gray;flex-grow: 1;}#sk-container-id-1 div.sk-label:hover label.sk-toggleable__label {background-color: #d4ebff;}#sk-container-id-1 div.sk-serial::before {content: \"\";position: absolute;border-left: 1px solid gray;box-sizing: border-box;top: 0;bottom: 0;left: 50%;z-index: 0;}#sk-container-id-1 div.sk-serial {display: flex;flex-direction: column;align-items: center;background-color: white;padding-right: 0.2em;padding-left: 0.2em;position: relative;}#sk-container-id-1 div.sk-item {position: relative;z-index: 1;}#sk-container-id-1 div.sk-parallel {display: flex;align-items: stretch;justify-content: center;background-color: white;position: relative;}#sk-container-id-1 div.sk-item::before, #sk-container-id-1 div.sk-parallel-item::before {content: \"\";position: absolute;border-left: 1px solid gray;box-sizing: border-box;top: 0;bottom: 0;left: 50%;z-index: -1;}#sk-container-id-1 div.sk-parallel-item {display: flex;flex-direction: column;z-index: 1;position: relative;background-color: white;}#sk-container-id-1 div.sk-parallel-item:first-child::after {align-self: flex-end;width: 50%;}#sk-container-id-1 div.sk-parallel-item:last-child::after {align-self: flex-start;width: 50%;}#sk-container-id-1 div.sk-parallel-item:only-child::after {width: 0;}#sk-container-id-1 div.sk-dashed-wrapped {border: 1px dashed gray;margin: 0 0.4em 0.5em 0.4em;box-sizing: border-box;padding-bottom: 0.4em;background-color: white;}#sk-container-id-1 div.sk-label label {font-family: monospace;font-weight: bold;display: inline-block;line-height: 1.2em;}#sk-container-id-1 div.sk-label-container {text-align: center;}#sk-container-id-1 div.sk-container {/* jupyter's `normalize.less` sets `[hidden] { display: none; }` but bootstrap.min.css set `[hidden] { display: none !important; }` so we also need the `!important` here to be able to override the default hidden behavior on the sphinx rendered scikit-learn.org. See: https://github.com/scikit-learn/scikit-learn/issues/21755 */display: inline-block !important;position: relative;}#sk-container-id-1 div.sk-text-repr-fallback {display: none;}</style><div id=\"sk-container-id-1\" class=\"sk-top-container\"><div class=\"sk-text-repr-fallback\"><pre>CountVectorizer()</pre><b>In a Jupyter environment, please rerun this cell to show the HTML representation or trust the notebook. <br />On GitHub, the HTML representation is unable to render, please try loading this page with nbviewer.org.</b></div><div class=\"sk-container\" hidden><div class=\"sk-item\"><div class=\"sk-estimator sk-toggleable\"><input class=\"sk-toggleable__control sk-hidden--visually\" id=\"sk-estimator-id-1\" type=\"checkbox\" checked><label for=\"sk-estimator-id-1\" class=\"sk-toggleable__label sk-toggleable__label-arrow\">CountVectorizer</label><div class=\"sk-toggleable__content\"><pre>CountVectorizer()</pre></div></div></div></div></div>"
      ],
      "text/plain": [
       "CountVectorizer()"
      ]
     },
     "execution_count": 27,
     "metadata": {},
     "output_type": "execute_result"
    }
   ],
   "source": [
    "# Learning the unique vocabulary\n",
    "vectorizer.fit(df_X_train)"
   ]
  },
  {
   "cell_type": "code",
   "execution_count": 28,
   "id": "7ea6e2a8",
   "metadata": {},
   "outputs": [],
   "source": [
    "X_train = vectorizer.transform(df_X_train)\n",
    "X_test = vectorizer.transform(df_X_test)"
   ]
  },
  {
   "cell_type": "code",
   "execution_count": 29,
   "id": "cf65278c",
   "metadata": {},
   "outputs": [
    {
     "data": {
      "text/plain": [
       "<4179x7093 sparse matrix of type '<class 'numpy.int64'>'\n",
       "\twith 33926 stored elements in Compressed Sparse Row format>"
      ]
     },
     "execution_count": 29,
     "metadata": {},
     "output_type": "execute_result"
    }
   ],
   "source": [
    "X_train"
   ]
  },
  {
   "cell_type": "code",
   "execution_count": 30,
   "id": "4b15a1f3",
   "metadata": {},
   "outputs": [
    {
     "data": {
      "text/plain": [
       "29641647"
      ]
     },
     "execution_count": 30,
     "metadata": {},
     "output_type": "execute_result"
    }
   ],
   "source": [
    "4179 * 7093 # unique words "
   ]
  },
  {
   "cell_type": "code",
   "execution_count": null,
   "id": "12d2da3d",
   "metadata": {},
   "outputs": [],
   "source": []
  },
  {
   "cell_type": "code",
   "execution_count": 31,
   "id": "78e871f5",
   "metadata": {},
   "outputs": [
    {
     "data": {
      "text/plain": [
       "<1393x7093 sparse matrix of type '<class 'numpy.int64'>'\n",
       "\twith 10126 stored elements in Compressed Sparse Row format>"
      ]
     },
     "execution_count": 31,
     "metadata": {},
     "output_type": "execute_result"
    }
   ],
   "source": [
    "X_test"
   ]
  },
  {
   "cell_type": "code",
   "execution_count": 32,
   "id": "c528f1c7",
   "metadata": {},
   "outputs": [
    {
     "data": {
      "text/plain": [
       "33926"
      ]
     },
     "execution_count": 32,
     "metadata": {},
     "output_type": "execute_result"
    }
   ],
   "source": [
    "X_train.nnz\n",
    "# Number of stored values, including explicit zeros.\n",
    "# number of non-zeros "
   ]
  },
  {
   "cell_type": "code",
   "execution_count": 33,
   "id": "8c7a96d2",
   "metadata": {},
   "outputs": [
    {
     "data": {
      "text/plain": [
       "0.0011445382910065692"
      ]
     },
     "execution_count": 33,
     "metadata": {},
     "output_type": "execute_result"
    }
   ],
   "source": [
    "# total numbers \n",
    "33926/(4179 * 7093) # % of total words ."
   ]
  },
  {
   "cell_type": "code",
   "execution_count": 34,
   "id": "03df8ce0",
   "metadata": {},
   "outputs": [],
   "source": [
    "# if we want to see the whole vector of each data point."
   ]
  },
  {
   "cell_type": "code",
   "execution_count": 35,
   "id": "f3ce3f2e",
   "metadata": {},
   "outputs": [
    {
     "data": {
      "text/plain": [
       "array([[0, 0, 0, ..., 0, 0, 0],\n",
       "       [0, 0, 0, ..., 0, 0, 0],\n",
       "       [0, 0, 0, ..., 0, 0, 0],\n",
       "       ...,\n",
       "       [0, 0, 0, ..., 0, 0, 0],\n",
       "       [0, 0, 0, ..., 0, 0, 0],\n",
       "       [0, 0, 0, ..., 0, 0, 0]], dtype=int64)"
      ]
     },
     "execution_count": 35,
     "metadata": {},
     "output_type": "execute_result"
    }
   ],
   "source": [
    "X_train.toarray()"
   ]
  },
  {
   "cell_type": "code",
   "execution_count": 36,
   "id": "385ed2d1",
   "metadata": {},
   "outputs": [
    {
     "data": {
      "text/plain": [
       "(4179, 7093)"
      ]
     },
     "execution_count": 36,
     "metadata": {},
     "output_type": "execute_result"
    }
   ],
   "source": [
    "X_train.toarray().shape"
   ]
  },
  {
   "cell_type": "code",
   "execution_count": 37,
   "id": "59fb1f42",
   "metadata": {},
   "outputs": [
    {
     "data": {
      "text/plain": [
       "(1393, 7093)"
      ]
     },
     "execution_count": 37,
     "metadata": {},
     "output_type": "execute_result"
    }
   ],
   "source": [
    "X_test.shape"
   ]
  },
  {
   "cell_type": "code",
   "execution_count": 38,
   "id": "18156511",
   "metadata": {},
   "outputs": [
    {
     "data": {
      "text/plain": [
       "(4179, 7093)"
      ]
     },
     "execution_count": 38,
     "metadata": {},
     "output_type": "execute_result"
    }
   ],
   "source": [
    "X_train.shape"
   ]
  },
  {
   "cell_type": "markdown",
   "id": "18c47005",
   "metadata": {},
   "source": [
    "## Naive Bayes : \n",
    "https://en.wikipedia.org/wiki/Naive_Bayes_classifier"
   ]
  },
  {
   "cell_type": "markdown",
   "id": "b50344a1",
   "metadata": {},
   "source": [
    "- naive Bayes classifiers are a family of simple \"probabilistic classifiers\" based on applying Bayes' theorem with strong (naive) independence assumptions between the features (see Bayes classifier).\n",
    "\n",
    "- They are among the simplest Bayesian network models, but coupled with kernel density estimation, they can achieve high accuracy levels.\n",
    "\n",
    "- Naive Bayes classifiers are highly scalable, requiring a number of parameters linear in the number of variables (features/predictors) in a learning problem.\n",
    "- Maximum-likelihood training can be done by evaluating a closed-form expression, which takes linear time, rather than by expensive iterative approximation as used for many other types of classifiers.\n",
    "\n",
    "\n",
    "- In the statistics literature, naive Bayes models are known under a variety of names, including simple Bayes and independence Bayes.\n",
    "- All these names reference the use of Bayes' theorem in the classifier's decision rule, but naive Bayes is not (necessarily) a Bayesian method."
   ]
  },
  {
   "cell_type": "markdown",
   "id": "18efcfc9",
   "metadata": {},
   "source": [
    "### at runtime what we need to find is :  \n",
    "     \n",
    "    argmax ( P[y=1|text] and P[y=0|text] )\n",
    "    \n",
    "    P[y=1|text]   !=   (1 - P[y=1|text])   (are not same)\n",
    "    \n",
    "    \n",
    "    \n",
    "    \n",
    "    \n",
    "    \n"
   ]
  },
  {
   "cell_type": "markdown",
   "id": "90c6a7ca",
   "metadata": {},
   "source": [
    "---\n",
    "### Bayes theorem: \n",
    "---\n",
    "    \n",
    "              P[B|A] * P[A]\n",
    "    P[A|B] =  --------------\n",
    "                   P[B]\n",
    "\n",
    "---\n",
    "                   \n",
    "               P[X|y=1] P[y=1]       \n",
    "    P[y=1|X] = -----------------\n",
    "                    P[X]\n",
    "                    \n",
    "                \n",
    "               P[X|y=0] P[y=0]       \n",
    "    P[y=0|X] = -----------------\n",
    "                    P[X]\n",
    "                    \n",
    "---                                 \n",
    "          \n",
    "    Posterior      likelyhood * prior\n",
    "    Proability  =  --------------------\n",
    "                  marginal probability\n",
    "                  \n",
    "--- \n",
    "\n",
    "    if P[y=1|x] = 0.85  and P[y=0|x] = 0.35 ,\n",
    "    then y^ = 1\n",
    "    since the probability of data belongs to class 1 is higher. \n",
    "    \n",
    "                  "
   ]
  },
  {
   "cell_type": "markdown",
   "id": "0c4dd916",
   "metadata": {},
   "source": [
    "--- \n",
    "--- \n",
    "\n",
    "    # For Multiclass : \n",
    "    lets say : classes are : \n",
    "            SPAM , SOCIAL , PROMOTION and PRIMARY\n",
    "            \n",
    "    argmax (P[y = SPAM       |X],\n",
    "            P[y = SOCIAL     |X],\n",
    "            P[y = PROMOTION  |X],\n",
    "            P[y = PRIMARY    |X])\n",
    "            \n",
    "       calulate 4 posterior probabilities , and whichever is maximum\n",
    "       assign that class as y^"
   ]
  },
  {
   "cell_type": "markdown",
   "id": "0b99ebe6",
   "metadata": {},
   "source": [
    "---"
   ]
  },
  {
   "cell_type": "markdown",
   "id": "84d181b9",
   "metadata": {},
   "source": [
    "    \n",
    "    \n",
    "\n",
    "                        P[X|y=1] P[y=1]       \n",
    "            P[y=1|X] = -----------------      ∝    P[X|y=1] P[y=1]\n",
    "                            P[X]\n",
    "\n",
    "\n",
    "                       P[X|y=0] P[y=0]       \n",
    "            P[y=0|X] = -----------------      ∝    P[X|y=0] P[y=0]\n",
    "                            P[X]\n",
    "                            \n",
    "                            \n",
    "            P[y=1|X]   ∝    P[X|y=1] P[y=1]    \n",
    "            P[y=0|X]   ∝    P[X|y=0] P[y=0]\n",
    "            \n",
    "            \n",
    "                            "
   ]
  },
  {
   "cell_type": "markdown",
   "id": "f97fda81",
   "metadata": {},
   "source": [
    "---"
   ]
  },
  {
   "cell_type": "markdown",
   "id": "5d7b3d8f",
   "metadata": {},
   "source": [
    "####  Prior Probability\n",
    "    Most easiest thing to calculate is Prior Probability\n",
    "     \n",
    "     \n",
    "     P[y=1] and P[y=0] from the entire dataset\n",
    "     \n",
    "     \n",
    "                Number of train data points with y=1\n",
    "     P[y=1]  =  ------------------------------------\n",
    "                     total training points\n",
    "         "
   ]
  },
  {
   "cell_type": "code",
   "execution_count": 39,
   "id": "bbd017d5",
   "metadata": {},
   "outputs": [
    {
     "data": {
      "text/plain": [
       "0    0.866954\n",
       "1    0.133046\n",
       "Name: type, dtype: float64"
      ]
     },
     "execution_count": 39,
     "metadata": {},
     "output_type": "execute_result"
    }
   ],
   "source": [
    "y_train.value_counts(normalize= True)"
   ]
  },
  {
   "cell_type": "markdown",
   "id": "3fead310",
   "metadata": {},
   "source": [
    "#### Likelyhood - Conditional Probability \n",
    "\n",
    "           P[X|y=1]    and    P[X|y=0]\n",
    "           \n",
    "           P[ w1 w2 w3...wd  | y=1 ]       in howmany spam emails\n",
    "                                           we are getting these exact sequence\n",
    "                                           of words \n",
    "                                           \n",
    "                        and                   \n",
    "                           \n",
    "                           \n",
    "           P[ w1 w2 w3...wd  | y=0 ]       in howmany non-spam emails\n",
    "                                           we are getting these exact sequence\n",
    "                                           of words \n",
    "                                           \n",
    "           \n",
    "      since we are trying to find the exact sequence,\n",
    "      it's computationally very challenging and expensive \n",
    "      \n",
    "      thats why we take a NAIVE ASSUMPTION into account : \n",
    "      which is : \n",
    "      \n",
    "#### Naive Assumption : \n",
    "\n",
    "\n",
    "     Lets say : \n",
    "     X-test is : \"w5\" , \"w7\" , \"w10\"\n",
    "      array :   [00001010010000000000.......0...00..]\n",
    "      \n",
    "     getting exact same sequence in the training , is very very rare.\n",
    "     \n",
    "     so we have to take an assumption : \n",
    "             which is all the words are independent.\n",
    "             for example : \"Get a free subscription\"\n",
    "               then word \"Subscription\" is independent of word \"free\"\n",
    "     But still , all the words are conditioned on class label. \n",
    "     like , P[\"free\"|y=1] ,P[\"Subscription\"|y=1]\n",
    "     \n",
    "                    \n",
    "     P[ w5,w7,w10 | y=1 ] = P[w5 | y=1] * \n",
    "                            P[w7 | y=1,w5] *\n",
    "                            P[w10| y=1,w5,w7]\n",
    "                    rathen calculating above complex computation \n",
    "             use naive assumption \n",
    "             and find : \n",
    "             \n",
    "     \n",
    "     \n",
    "                            \n",
    "      \n",
    "     "
   ]
  },
  {
   "cell_type": "markdown",
   "id": "16333ec8",
   "metadata": {},
   "source": [
    "---\n",
    "    P[w1 w2 ... wd | y=1] = ( P[w1|y=1]*P[w2|y=1]* ... *P[wd|y=1] )* P[y=1]\n",
    "     \n",
    "                                d    \n",
    "                  P[X|y=1] =    π   P[wi|y=1]     * P[y=1]\n",
    "                               i=1\n",
    "                               \n",
    "                               \n",
    "---"
   ]
  },
  {
   "attachments": {
    "image.png": {
     "image/png": "[encoded data removed]"
    }
   },
   "cell_type": "markdown",
   "id": "586577eb",
   "metadata": {},
   "source": [
    "![image.png](attachment:image.png)"
   ]
  },
  {
   "cell_type": "markdown",
   "id": "7e3fb76b",
   "metadata": {},
   "source": [
    "                Ck is the class , given data belongs to \n",
    "                y^ is the predicted class\n",
    "                "
   ]
  },
  {
   "cell_type": "code",
   "execution_count": null,
   "id": "12797d96",
   "metadata": {},
   "outputs": [],
   "source": []
  },
  {
   "cell_type": "markdown",
   "id": "064fe8bc",
   "metadata": {},
   "source": [
    "    lets say : \n",
    "    X_test = \"Lottery win 5000 USD\"\n",
    "     \n",
    "    P[x-test | y=1] = in how many mails we see word \"lottery\" \n",
    "                      ---------------------------------------\n",
    "                               out of all spam emails\n",
    "                               \n",
    "    most often , we will observe LOTTERY word in spam emails than in non-spam emails "
   ]
  },
  {
   "cell_type": "markdown",
   "id": "9f235780",
   "metadata": {},
   "source": [
    "## Prior Probability : \n"
   ]
  },
  {
   "cell_type": "markdown",
   "id": "84a1260a",
   "metadata": {},
   "source": [
    "## Conditional Probability"
   ]
  },
  {
   "cell_type": "code",
   "execution_count": 40,
   "id": "9864943b",
   "metadata": {},
   "outputs": [],
   "source": [
    "# lets find the probability of word free occures in a all record. "
   ]
  },
  {
   "cell_type": "code",
   "execution_count": 41,
   "id": "fbc69500",
   "metadata": {},
   "outputs": [
    {
     "data": {
      "text/plain": [
       "199"
      ]
     },
     "execution_count": 41,
     "metadata": {},
     "output_type": "execute_result"
    }
   ],
   "source": [
    "df[df['type'] == 1]['cleaned_message'].str.contains('free').sum()"
   ]
  },
  {
   "cell_type": "code",
   "execution_count": 42,
   "id": "b4ae83de",
   "metadata": {},
   "outputs": [
    {
     "data": {
      "text/plain": [
       "747"
      ]
     },
     "execution_count": 42,
     "metadata": {},
     "output_type": "execute_result"
    }
   ],
   "source": [
    "len(df[df['type'] == 1])  # total spam emails "
   ]
  },
  {
   "cell_type": "code",
   "execution_count": 43,
   "id": "2c787399",
   "metadata": {},
   "outputs": [
    {
     "data": {
      "text/plain": [
       "0.26639892904953144"
      ]
     },
     "execution_count": 43,
     "metadata": {},
     "output_type": "execute_result"
    }
   ],
   "source": [
    "199/747  # 26% probability will be given to word \"free\" if the email is spam"
   ]
  },
  {
   "cell_type": "code",
   "execution_count": 44,
   "id": "fdbfee5a",
   "metadata": {},
   "outputs": [
    {
     "data": {
      "text/plain": [
       "66"
      ]
     },
     "execution_count": 44,
     "metadata": {},
     "output_type": "execute_result"
    }
   ],
   "source": [
    "df[df['type'] == 0]['cleaned_message'].str.contains('free').sum()"
   ]
  },
  {
   "cell_type": "code",
   "execution_count": 45,
   "id": "9316ae61",
   "metadata": {},
   "outputs": [
    {
     "data": {
      "text/plain": [
       "4825"
      ]
     },
     "execution_count": 45,
     "metadata": {},
     "output_type": "execute_result"
    }
   ],
   "source": [
    "len(df[df['type'] == 0])"
   ]
  },
  {
   "cell_type": "code",
   "execution_count": 46,
   "id": "a731980c",
   "metadata": {},
   "outputs": [
    {
     "data": {
      "text/plain": [
       "0.013678756476683937"
      ]
     },
     "execution_count": 46,
     "metadata": {},
     "output_type": "execute_result"
    }
   ],
   "source": [
    "66/4825 # 1% probability when free word appears in non-spam "
   ]
  },
  {
   "cell_type": "code",
   "execution_count": null,
   "id": "49431684",
   "metadata": {},
   "outputs": [],
   "source": []
  },
  {
   "cell_type": "code",
   "execution_count": null,
   "id": "32935c5a",
   "metadata": {},
   "outputs": [],
   "source": []
  },
  {
   "cell_type": "code",
   "execution_count": 47,
   "id": "f8617820",
   "metadata": {},
   "outputs": [],
   "source": [
    "# lets find the probability of word \"love\" occures in a all record. "
   ]
  },
  {
   "cell_type": "code",
   "execution_count": 48,
   "id": "8ae03869",
   "metadata": {},
   "outputs": [
    {
     "data": {
      "text/plain": [
       "217"
      ]
     },
     "execution_count": 48,
     "metadata": {},
     "output_type": "execute_result"
    }
   ],
   "source": [
    "df[df['type'] == 0]['cleaned_message'].str.contains('love').sum()"
   ]
  },
  {
   "cell_type": "code",
   "execution_count": 49,
   "id": "040e5e00",
   "metadata": {},
   "outputs": [
    {
     "data": {
      "text/plain": [
       "0.044974093264248706"
      ]
     },
     "execution_count": 49,
     "metadata": {},
     "output_type": "execute_result"
    }
   ],
   "source": [
    "217/4825"
   ]
  },
  {
   "cell_type": "code",
   "execution_count": 50,
   "id": "01d985de",
   "metadata": {},
   "outputs": [
    {
     "data": {
      "text/plain": [
       "8"
      ]
     },
     "execution_count": 50,
     "metadata": {},
     "output_type": "execute_result"
    }
   ],
   "source": [
    "df[df['type'] == 1]['cleaned_message'].str.contains('love').sum()"
   ]
  },
  {
   "cell_type": "code",
   "execution_count": 51,
   "id": "8139c952",
   "metadata": {},
   "outputs": [
    {
     "data": {
      "text/plain": [
       "0.0107095046854083"
      ]
     },
     "execution_count": 51,
     "metadata": {},
     "output_type": "execute_result"
    }
   ],
   "source": [
    "8/747"
   ]
  },
  {
   "cell_type": "code",
   "execution_count": 52,
   "id": "d9e9b4a2",
   "metadata": {
    "scrolled": true
   },
   "outputs": [
    {
     "data": {
      "text/plain": [
       "{'call': 830,\n",
       " 'tell': 6035,\n",
       " 'headache': 2608,\n",
       " 'want': 6654,\n",
       " 'use': 6497,\n",
       " 'hour': 2768,\n",
       " 'sick': 5416,\n",
       " 'time': 6180,\n",
       " 'never': 4019,\n",
       " 'try': 6343,\n",
       " 'alone': 176,\n",
       " 'take': 5966,\n",
       " 'weight': 6723,\n",
       " 'tear': 6020,\n",
       " 'comes': 1150,\n",
       " 'ur': 6482,\n",
       " 'heart': 2617,\n",
       " 'falls': 2003,\n",
       " 'eyes': 1979,\n",
       " 'always': 189,\n",
       " 'remember': 4967,\n",
       " 'stupid': 5827,\n",
       " 'friend': 2250,\n",
       " 'share': 5339,\n",
       " 'bslvyl': 759,\n",
       " 'rajipls': 4838,\n",
       " 'favour': 2038,\n",
       " 'pls': 4538,\n",
       " 'convey': 1237,\n",
       " 'birthday': 602,\n",
       " 'wishes': 6813,\n",
       " 'nimya': 4047,\n",
       " 'today': 6216,\n",
       " 'im': 2881,\n",
       " 'prob': 4709,\n",
       " 'hi': 2667,\n",
       " 'kate': 3151,\n",
       " 'lovely': 3482,\n",
       " 'see': 5255,\n",
       " 'tonight': 6252,\n",
       " 'ill': 2877,\n",
       " 'phone': 4467,\n",
       " 'tomorrow': 6240,\n",
       " 'got': 2448,\n",
       " 'sing': 5443,\n",
       " 'guy': 2530,\n",
       " 'gave': 2325,\n",
       " 'card': 884,\n",
       " 'xxx': 6985,\n",
       " 'usualiam': 6511,\n",
       " 'fine': 2097,\n",
       " 'happy': 2583,\n",
       " 'amp': 201,\n",
       " 'well': 6733,\n",
       " 'nope': 4085,\n",
       " 'watching': 6675,\n",
       " 'tv': 6366,\n",
       " 'home': 2721,\n",
       " 'going': 2414,\n",
       " 'bored': 678,\n",
       " 'ps': 4759,\n",
       " 'grown': 2503,\n",
       " 'right': 5061,\n",
       " 'wat': 6670,\n",
       " 'tht': 6162,\n",
       " 'incident': 2903,\n",
       " 'awake': 411,\n",
       " 'snow': 5549,\n",
       " 'shes': 5352,\n",
       " 'good': 2424,\n",
       " 'wondering': 6851,\n",
       " 'wont': 6853,\n",
       " 'say': 5199,\n",
       " 'smiling': 5525,\n",
       " 'coping': 1247,\n",
       " 'long': 3442,\n",
       " 'distance': 1603,\n",
       " 'intrepid': 2971,\n",
       " 'duo': 1736,\n",
       " 'great': 2481,\n",
       " 'soon': 5592,\n",
       " 'gobi': 2401,\n",
       " 'arts': 321,\n",
       " 'college': 1137,\n",
       " 'credits': 1309,\n",
       " 'topped': 6269,\n",
       " 'httpwwwbubbletextcom': 2795,\n",
       " 'renewal': 4980,\n",
       " 'pin': 4495,\n",
       " 'tgxxrz': 6078,\n",
       " 'thought': 6144,\n",
       " 'put': 4787,\n",
       " 'back': 437,\n",
       " 'box': 693,\n",
       " 'wnt': 6842,\n",
       " 'buy': 804,\n",
       " 'bmw': 655,\n",
       " 'car': 883,\n",
       " 'urgentlyits': 6487,\n",
       " 'vry': 6614,\n",
       " 'urgentbut': 6486,\n",
       " 'hv': 2832,\n",
       " 'shortage': 5386,\n",
       " 'ltgt': 3509,\n",
       " 'lacsthere': 3245,\n",
       " 'source': 5619,\n",
       " 'arng': 306,\n",
       " 'dis': 1588,\n",
       " 'amt': 206,\n",
       " 'lacsthats': 3244,\n",
       " 'mobile': 3809,\n",
       " 'added': 65,\n",
       " 'contact': 1223,\n",
       " 'list': 3395,\n",
       " 'wwwfullonsmscom': 6938,\n",
       " 'place': 4507,\n",
       " 'send': 5282,\n",
       " 'free': 2221,\n",
       " 'sms': 5533,\n",
       " 'people': 4425,\n",
       " 'visit': 6590,\n",
       " 'fullonsmscom': 2283,\n",
       " 'easy': 1761,\n",
       " 'ahsen': 131,\n",
       " 'selected': 5269,\n",
       " 'means': 3660,\n",
       " 'know': 3219,\n",
       " 'lacking': 3243,\n",
       " 'particular': 4371,\n",
       " 'dramastorms': 1682,\n",
       " 'details': 1529,\n",
       " 'part': 4369,\n",
       " 'worried': 6874,\n",
       " 'kkhow': 3205,\n",
       " 'business': 796,\n",
       " 'probably': 4710,\n",
       " 'earlier': 1747,\n",
       " 'stations': 5737,\n",
       " 'think': 6125,\n",
       " 'sorryin': 5603,\n",
       " 'meeting': 3676,\n",
       " 'later': 3282,\n",
       " 'forwarded': 2204,\n",
       " 'mailbox': 3565,\n",
       " 'messaging': 3721,\n",
       " 'alert': 159,\n",
       " 'matches': 3628,\n",
       " 'please': 4530,\n",
       " 'retrieve': 5040,\n",
       " 'messages': 3718,\n",
       " 'ccpmin': 936,\n",
       " 'another': 229,\n",
       " 'job': 3081,\n",
       " 'one': 4222,\n",
       " 'hospital': 2758,\n",
       " 'data': 1407,\n",
       " 'analysis': 210,\n",
       " 'something': 5574,\n",
       " 'starts': 5729,\n",
       " 'monday': 3835,\n",
       " 'sure': 5901,\n",
       " 'thesis': 6114,\n",
       " 'finished': 2105,\n",
       " 'entry': 1859,\n",
       " 'grprizes': 2506,\n",
       " 'wkly': 6832,\n",
       " 'comp': 1163,\n",
       " 'chance': 964,\n",
       " 'win': 6794,\n",
       " 'latest': 3284,\n",
       " 'nokia': 4073,\n",
       " 'psp': 4761,\n",
       " 'cash': 913,\n",
       " 'every': 1907,\n",
       " 'wktxt': 6835,\n",
       " 'httpwwwgrprizescom': 2798,\n",
       " 'youcarlos': 7045,\n",
       " 'isare': 2997,\n",
       " 'phones': 4469,\n",
       " 'vibrate': 6560,\n",
       " 'acting': 51,\n",
       " 'might': 3737,\n",
       " 'hear': 2615,\n",
       " 'texts': 6076,\n",
       " 'smoking': 5531,\n",
       " 'wylie': 6968,\n",
       " 'smokes': 5529,\n",
       " 'much': 3911,\n",
       " 'justify': 3128,\n",
       " 'ruining': 5124,\n",
       " 'shit': 5366,\n",
       " 'new': 4020,\n",
       " 'video': 6564,\n",
       " 'anytime': 251,\n",
       " 'network': 4015,\n",
       " 'mins': 3758,\n",
       " 'text': 6067,\n",
       " 'five': 2122,\n",
       " 'pounds': 4625,\n",
       " 'per': 4427,\n",
       " 'week': 6714,\n",
       " 'reply': 4995,\n",
       " 'delivery': 1490,\n",
       " 'sounds': 5617,\n",
       " 'kthen': 3233,\n",
       " 'special': 5633,\n",
       " 'number': 4136,\n",
       " 'live': 3403,\n",
       " 'oh': 4192,\n",
       " 'fuck': 2273,\n",
       " 'juswoke': 3129,\n",
       " 'bed': 529,\n",
       " 'boatin': 658,\n",
       " 'docks': 1620,\n",
       " 'slept': 5496,\n",
       " 'wid': 6779,\n",
       " 'year': 7009,\n",
       " 'old': 4215,\n",
       " 'spinout': 5658,\n",
       " 'giv': 2384,\n",
       " 'da': 1369,\n",
       " 'gossip': 2446,\n",
       " 'lr': 3498,\n",
       " 'knock': 3217,\n",
       " 'txt': 6378,\n",
       " 'whose': 6775,\n",
       " 'enter': 1849,\n",
       " 'weekly': 6718,\n",
       " 'draw': 1685,\n",
       " 'gift': 2371,\n",
       " 'voucher': 6609,\n",
       " 'store': 5782,\n",
       " 'yr': 7070,\n",
       " 'choice': 1049,\n",
       " 'tcs': 6007,\n",
       " 'wwwtklscom': 6962,\n",
       " 'age': 113,\n",
       " 'stoptxtstopweek': 5781,\n",
       " 'tessypls': 6061,\n",
       " 'favor': 2036,\n",
       " 'nimyapls': 4048,\n",
       " 'dnt': 1615,\n",
       " 'forget': 2185,\n",
       " 'shijas': 5356,\n",
       " 'dice': 1549,\n",
       " 'art': 319,\n",
       " 'class': 1075,\n",
       " 'thru': 6159,\n",
       " 'thanks': 6084,\n",
       " 'though': 6143,\n",
       " 'idea': 2856,\n",
       " 'come': 1146,\n",
       " 'persons': 4447,\n",
       " 'story': 5787,\n",
       " 'yeah': 7008,\n",
       " 'totes': 6282,\n",
       " 'wan': 6651,\n",
       " 'na': 3947,\n",
       " 'sorry': 5601,\n",
       " 'dai': 1380,\n",
       " 'calling': 842,\n",
       " 'lot': 3464,\n",
       " 'timeslil': 6184,\n",
       " 'busyi': 799,\n",
       " 'noon': 4082,\n",
       " 'wasnt': 6666,\n",
       " 'paying': 4405,\n",
       " 'attention': 369,\n",
       " 'morning': 3860,\n",
       " 'love': 3479,\n",
       " 'go': 2398,\n",
       " 'sleep': 5487,\n",
       " 'wish': 6812,\n",
       " 'day': 1419,\n",
       " 'full': 2282,\n",
       " 'feeling': 2049,\n",
       " 'better': 570,\n",
       " 'opportunity': 4251,\n",
       " 'last': 3274,\n",
       " 'babe': 427,\n",
       " 'kiss': 3195,\n",
       " 'drive': 1701,\n",
       " 'lor': 3456,\n",
       " 'huh': 2810,\n",
       " 'slow': 5509,\n",
       " 'tot': 6279,\n",
       " 'reach': 4873,\n",
       " 'ago': 120,\n",
       " 'liao': 3345,\n",
       " 'days': 1422,\n",
       " 'leh': 3326,\n",
       " 'dun': 1733,\n",
       " 'cut': 1358,\n",
       " 'short': 5385,\n",
       " 'like': 3364,\n",
       " 'ah': 124,\n",
       " 'failed': 1991,\n",
       " 'quite': 4813,\n",
       " 'sad': 5144,\n",
       " 'shopping': 5381,\n",
       " 'raining': 4833,\n",
       " 'mah': 3560,\n",
       " 'hard': 2584,\n",
       " 'leave': 3315,\n",
       " 'orchard': 4266,\n",
       " 'blame': 618,\n",
       " 'life': 3354,\n",
       " 'give': 2385,\n",
       " 'happiness': 2582,\n",
       " 'bad': 441,\n",
       " 'experience': 1960,\n",
       " 'essential': 1886,\n",
       " 'gods': 2406,\n",
       " 'blessings': 629,\n",
       " 'ok': 4198,\n",
       " 'april': 282,\n",
       " 'cant': 876,\n",
       " 'wait': 6627,\n",
       " 'daddy': 1374,\n",
       " 'make': 3573,\n",
       " 'scream': 5227,\n",
       " 'pleasure': 4533,\n",
       " 'slap': 5485,\n",
       " 'ass': 340,\n",
       " 'dick': 1550,\n",
       " 'yes': 7020,\n",
       " 'reg': 4946,\n",
       " 'ciao': 1062,\n",
       " 'nd': 3982,\n",
       " 'tried': 6326,\n",
       " 'prize': 4706,\n",
       " 'claim': 1070,\n",
       " 'tcsstop': 6011,\n",
       " 'ppm': 4634,\n",
       " 'told': 6230,\n",
       " 'gautham': 2324,\n",
       " 'someonone': 5570,\n",
       " 'trying': 6345,\n",
       " 'via': 6558,\n",
       " 'dating': 1411,\n",
       " 'service': 5303,\n",
       " 'find': 2095,\n",
       " 'could': 1268,\n",
       " 'landline': 3258,\n",
       " 'boxskch': 697,\n",
       " 'lazy': 3299,\n",
       " 'type': 6389,\n",
       " 'forgot': 2189,\n",
       " 'lect': 3318,\n",
       " 'saw': 5198,\n",
       " 'pouch': 4622,\n",
       " 'nice': 4033,\n",
       " 'man': 3581,\n",
       " 'bday': 514,\n",
       " 'wife': 6782,\n",
       " 'didnt': 1553,\n",
       " 'parents': 4359,\n",
       " 'kids': 3183,\n",
       " 'went': 6740,\n",
       " 'work': 6863,\n",
       " 'even': 1901,\n",
       " 'colleagues': 1131,\n",
       " 'dearly': 1444,\n",
       " 'drop': 1707,\n",
       " 'tank': 5983,\n",
       " 'sunshine': 5882,\n",
       " 'hols': 2719,\n",
       " 'med': 3667,\n",
       " 'holiday': 2715,\n",
       " 'stamped': 5712,\n",
       " 'self': 5271,\n",
       " 'address': 69,\n",
       " 'envelope': 1862,\n",
       " 'drinks': 1700,\n",
       " 'us': 6494,\n",
       " 'uk': 6404,\n",
       " 'po': 4556,\n",
       " 'bray': 711,\n",
       " 'wicklow': 6778,\n",
       " 'eire': 1801,\n",
       " 'quiz': 4816,\n",
       " 'saturday': 5192,\n",
       " 'unsub': 6456,\n",
       " 'stop': 5773,\n",
       " 'whats': 6757,\n",
       " 'indeed': 2917,\n",
       " 'way': 6684,\n",
       " 'either': 1802,\n",
       " 'bye': 814,\n",
       " 'harishs': 2589,\n",
       " 'rent': 4982,\n",
       " 'transfred': 6307,\n",
       " 'acnt': 45,\n",
       " 'urgent': 6485,\n",
       " 'flights': 2139,\n",
       " 'europe': 1895,\n",
       " 'away': 414,\n",
       " 'th': 6079,\n",
       " 'sept': 5297,\n",
       " 'bannfwflyppm': 468,\n",
       " 'hide': 2670,\n",
       " 'anythiing': 247,\n",
       " 'keeping': 3160,\n",
       " 'met': 3725,\n",
       " 'stranger': 5792,\n",
       " 'choose': 1051,\n",
       " 'world': 6870,\n",
       " 'stands': 5717,\n",
       " 'friendship': 2254,\n",
       " 'ends': 1830,\n",
       " 'lets': 3341,\n",
       " 'friends': 2252,\n",
       " 'forever': 2182,\n",
       " 'gud': 2516,\n",
       " 'nitz': 4058,\n",
       " 'welcome': 6731,\n",
       " 'ukmobiledate': 6405,\n",
       " 'msg': 3895,\n",
       " 'giving': 2387,\n",
       " 'future': 2295,\n",
       " 'mgs': 3729,\n",
       " 'billed': 589,\n",
       " 'daily': 1381,\n",
       " 'cancel': 869,\n",
       " 'hanks': 2570,\n",
       " 'lotsly': 3468,\n",
       " 'awarded': 413,\n",
       " 'sipix': 5449,\n",
       " 'digital': 1567,\n",
       " 'camera': 862,\n",
       " 'within': 6820,\n",
       " 'cs': 1326,\n",
       " 'mbp': 3652,\n",
       " 'warranty': 6665,\n",
       " 'wlcome': 6836,\n",
       " 'wonder': 6849,\n",
       " 'eaten': 1763,\n",
       " 'lion': 3388,\n",
       " 'nothing': 4101,\n",
       " 'yup': 7079,\n",
       " 'lol': 3435,\n",
       " 'dont': 1654,\n",
       " 'awesome': 415,\n",
       " 'click': 1088,\n",
       " 'delete': 1483,\n",
       " 'current': 1349,\n",
       " 'food': 2170,\n",
       " 'also': 184,\n",
       " 'wiproyou': 6808,\n",
       " 'get': 2356,\n",
       " 'thing': 6122,\n",
       " 'years': 7010,\n",
       " 'gentle': 2349,\n",
       " 'princess': 4696,\n",
       " 'sweet': 5927,\n",
       " 'poem': 4570,\n",
       " 'dear': 1440,\n",
       " 'near': 3984,\n",
       " 'fear': 2041,\n",
       " 'cheer': 1005,\n",
       " 'ni': 4031,\n",
       " 'yay': 7005,\n",
       " 'girls': 2382,\n",
       " 'esplanade': 1884,\n",
       " 'else': 1813,\n",
       " 'hope': 2744,\n",
       " 'hmmmbut': 2701,\n",
       " 'texted': 6071,\n",
       " 'showered': 5401,\n",
       " 'erything': 1876,\n",
       " 'enjoy': 1841,\n",
       " 'playing': 4526,\n",
       " 'football': 2175,\n",
       " 'basketball': 485,\n",
       " 'anything': 249,\n",
       " 'outdoors': 4292,\n",
       " 'double': 1665,\n",
       " 'txts': 6386,\n",
       " 'months': 3851,\n",
       " 'bluetooth': 649,\n",
       " 'orange': 4262,\n",
       " 'available': 396,\n",
       " 'sony': 5589,\n",
       " 'motorola': 3874,\n",
       " 'mobileupd': 3813,\n",
       " 'calloptoutndx': 849,\n",
       " 'evening': 1902,\n",
       " 'roger': 5085,\n",
       " 'wahala': 6623,\n",
       " 'need': 3994,\n",
       " 'accidentally': 29,\n",
       " 'brought': 750,\n",
       " 'em': 1815,\n",
       " 'aight': 137,\n",
       " 'comin': 1154,\n",
       " 'hey': 2662,\n",
       " 'tmr': 6209,\n",
       " 'maybe': 3650,\n",
       " 'meet': 3673,\n",
       " 'yck': 7006,\n",
       " 'lip': 3392,\n",
       " 'synced': 5947,\n",
       " 'shangela': 5334,\n",
       " 'needs': 3999,\n",
       " 'dat': 1406,\n",
       " 'slowly': 5511,\n",
       " 'vomit': 6604,\n",
       " 'lotr': 3466,\n",
       " 'sis': 5455,\n",
       " 'aft': 104,\n",
       " 'dinner': 1576,\n",
       " 'nite': 4053,\n",
       " 'finally': 2092,\n",
       " 'completed': 1174,\n",
       " 'course': 1278,\n",
       " 'whenwhere': 6761,\n",
       " 'pick': 4478,\n",
       " 'possible': 4609,\n",
       " 'dint': 1579,\n",
       " 'happened': 2576,\n",
       " 'switch': 5937,\n",
       " 'cell': 946,\n",
       " 'whole': 6772,\n",
       " 'isnt': 3004,\n",
       " 'care': 888,\n",
       " 'alrite': 182,\n",
       " 'hunnywot': 2820,\n",
       " 'end': 1827,\n",
       " 'goin': 2412,\n",
       " 'town': 6289,\n",
       " 'jus': 3127,\n",
       " 'pub': 4767,\n",
       " 'instead': 2957,\n",
       " 'chillin': 1040,\n",
       " 'mo': 3805,\n",
       " 'bedroomlove': 532,\n",
       " 'jen': 3066,\n",
       " 'wif': 6781,\n",
       " 'family': 2007,\n",
       " 'booking': 670,\n",
       " 'tour': 6287,\n",
       " 'package': 4323,\n",
       " 'darren': 1403,\n",
       " 'saying': 5202,\n",
       " 'ge': 2337,\n",
       " 'den': 1495,\n",
       " 'cos': 1257,\n",
       " 'xy': 6993,\n",
       " 'feel': 2048,\n",
       " 'awkward': 416,\n",
       " 'lunch': 3521,\n",
       " 'ten': 6046,\n",
       " 'shower': 5400,\n",
       " 'plan': 4512,\n",
       " 'coming': 1155,\n",
       " 'brum': 757,\n",
       " 'putting': 4790,\n",
       " 'times': 6183,\n",
       " 'may': 3648,\n",
       " 'dreams': 1690,\n",
       " 'true': 6336,\n",
       " 'update': 6465,\n",
       " 'weed': 6712,\n",
       " 'dealer': 1435,\n",
       " 'carlos': 901,\n",
       " 'freedom': 2223,\n",
       " 'lunsford': 3523,\n",
       " 'realy': 4892,\n",
       " 'soz': 5622,\n",
       " 'imat': 2884,\n",
       " 'mums': 3923,\n",
       " 'moro': 3863,\n",
       " 'ya': 6994,\n",
       " 'came': 861,\n",
       " 'youre': 7058,\n",
       " 'restocked': 5030,\n",
       " 'badrith': 444,\n",
       " 'chennaii': 1014,\n",
       " 'surely': 5902,\n",
       " 'usno': 6507,\n",
       " 'competition': 1169,\n",
       " 'thk': 6134,\n",
       " 'oso': 4280,\n",
       " 'boring': 680,\n",
       " 'uniform': 6437,\n",
       " 'ask': 331,\n",
       " 'macho': 3546,\n",
       " 'budget': 773,\n",
       " 'bb': 499,\n",
       " 'bold': 661,\n",
       " 'dollars': 1645,\n",
       " 'tuesday': 6358,\n",
       " 'freemsg': 2228,\n",
       " 'buffy': 776,\n",
       " 'satisfy': 5188,\n",
       " 'men': 3698,\n",
       " 'randy': 4850,\n",
       " 'pix': 4503,\n",
       " 'qlynnbv': 4800,\n",
       " 'helpp': 2646,\n",
       " 'priest': 4691,\n",
       " 'ive': 3027,\n",
       " 'joined': 3088,\n",
       " 'league': 3308,\n",
       " 'keep': 3159,\n",
       " 'touch': 6283,\n",
       " 'mean': 3658,\n",
       " 'deal': 1434,\n",
       " 'personal': 4442,\n",
       " 'cost': 1259,\n",
       " 'gain': 2300,\n",
       " 'rights': 5063,\n",
       " 'wifedont': 6783,\n",
       " 'demand': 1494,\n",
       " 'iti': 3013,\n",
       " 'husband': 2829,\n",
       " 'toolets': 6261,\n",
       " 'grumpy': 2508,\n",
       " 'mom': 3830,\n",
       " 'lying': 3535,\n",
       " 'play': 4520,\n",
       " 'jokes': 3094,\n",
       " 'oops': 4240,\n",
       " 'done': 1651,\n",
       " 'studyn': 5819,\n",
       " 'library': 3349,\n",
       " 'problem': 4711,\n",
       " 'baby': 431,\n",
       " 'talk': 5974,\n",
       " 'called': 836,\n",
       " 'left': 3320,\n",
       " 'message': 3713,\n",
       " 'yo': 7038,\n",
       " 'dude': 1726,\n",
       " 'guess': 2520,\n",
       " 'arrested': 314,\n",
       " 'ha': 2537,\n",
       " 'watch': 6671,\n",
       " 'already': 179,\n",
       " 'haf': 2541,\n",
       " 'smth': 5538,\n",
       " 'mind': 3747,\n",
       " 'bomb': 664,\n",
       " 'date': 1408,\n",
       " 'wanted': 6656,\n",
       " 'elaine': 1806,\n",
       " 'todays': 6220,\n",
       " 'confirmed': 1205,\n",
       " 'sister': 5456,\n",
       " 'talking': 5977,\n",
       " 'damn': 1383,\n",
       " 'poor': 4591,\n",
       " 'zac': 7082,\n",
       " 'doesnt': 1628,\n",
       " 'stand': 5714,\n",
       " 'thats': 6093,\n",
       " 'knows': 3222,\n",
       " 'wants': 6658,\n",
       " 'questions': 4808,\n",
       " 'aathilove': 3,\n",
       " 'hello': 2635,\n",
       " 'request': 5003,\n",
       " 'rs': 5113,\n",
       " 'transfered': 6305,\n",
       " 'derek': 1512,\n",
       " 'thank': 6083,\n",
       " 'youve': 7065,\n",
       " 'wonderful': 6850,\n",
       " 'says': 5203,\n",
       " 'hell': 2633,\n",
       " 'money': 3837,\n",
       " 'hes': 2660,\n",
       " 'definitely': 1476,\n",
       " 'buying': 807,\n",
       " 'significance': 5425,\n",
       " 'weekends': 6717,\n",
       " 'shows': 5405,\n",
       " 'guaranteed': 2514,\n",
       " 'code': 1121,\n",
       " 'valid': 6529,\n",
       " 'hrs': 2786,\n",
       " 'meant': 3661,\n",
       " 'opposed': 4253,\n",
       " 'drunken': 1716,\n",
       " 'night': 4040,\n",
       " 'unless': 6447,\n",
       " 'book': 668,\n",
       " 'kinda': 3190,\n",
       " 'jokethet': 3095,\n",
       " 'really': 4891,\n",
       " 'looking': 3449,\n",
       " 'skinny': 5475,\n",
       " 'white': 6770,\n",
       " 'lineyou': 3383,\n",
       " 'theyre': 6118,\n",
       " 'casting': 920,\n",
       " 'look': 3446,\n",
       " 'hasnt': 2594,\n",
       " 'pattern': 4396,\n",
       " 'recently': 4912,\n",
       " 'crap': 1294,\n",
       " 'prakesh': 4647,\n",
       " 'said': 5151,\n",
       " 'bedroom': 531,\n",
       " 'minute': 3764,\n",
       " 'sed': 5254,\n",
       " 'sexy': 5317,\n",
       " 'mood': 3852,\n",
       " 'minuts': 3766,\n",
       " 'latr': 3286,\n",
       " 'caken': 821,\n",
       " 'speed': 5643,\n",
       " 'speedchat': 5644,\n",
       " 'swap': 5921,\n",
       " 'chatter': 990,\n",
       " 'chat': 987,\n",
       " 'poboxwwq': 4563,\n",
       " 'pmsg': 4551,\n",
       " 'rcd': 4867,\n",
       " 'hoping': 2751,\n",
       " 'langport': 3263,\n",
       " 'still': 5761,\n",
       " 'office': 4177,\n",
       " 'site': 5459,\n",
       " 'simulate': 5440,\n",
       " 'test': 6062,\n",
       " 'gives': 2386,\n",
       " 'tough': 6285,\n",
       " 'readiness': 4881,\n",
       " 'likely': 3366,\n",
       " 'mittelschmertz': 3790,\n",
       " 'google': 2441,\n",
       " 'paracetamol': 4354,\n",
       " 'worry': 6877,\n",
       " 'dunno': 1735,\n",
       " 'lei': 3327,\n",
       " 'shd': 5345,\n",
       " 'driving': 1704,\n",
       " 'sch': 5212,\n",
       " 'hr': 2784,\n",
       " 'oni': 4225,\n",
       " 'confuses': 1208,\n",
       " 'things': 6124,\n",
       " 'wrong': 6908,\n",
       " 'sort': 5604,\n",
       " 'invited': 2976,\n",
       " 'tho': 6140,\n",
       " 'nvm': 4146,\n",
       " 'wear': 6694,\n",
       " 'sport': 5680,\n",
       " 'shoes': 5376,\n",
       " 'anyway': 252,\n",
       " 'late': 3277,\n",
       " 'spending': 5651,\n",
       " 'brother': 748,\n",
       " 'next': 4028,\n",
       " 'ready': 4883,\n",
       " 'spoiled': 5670,\n",
       " 'escape': 1879,\n",
       " 'theatre': 6098,\n",
       " 'kavalan': 3153,\n",
       " 'minutes': 3765,\n",
       " 'consensus': 1216,\n",
       " 'cool': 1244,\n",
       " 'let': 3340,\n",
       " 'kicks': 3180,\n",
       " 'around': 309,\n",
       " 'waiti': 6629,\n",
       " 'min': 3744,\n",
       " 'typical': 6392,\n",
       " 'doctors': 1623,\n",
       " 'reminds': 4975,\n",
       " 'godid': 2404,\n",
       " 'little': 3402,\n",
       " 'lounge': 3475,\n",
       " 'liked': 3365,\n",
       " 'photos': 4472,\n",
       " 'pity': 4502,\n",
       " 'soany': 5553,\n",
       " 'suggestions': 5866,\n",
       " 'yet': 7030,\n",
       " 'id': 2853,\n",
       " 'easiest': 1756,\n",
       " 'barcelona': 472,\n",
       " 'ru': 5117,\n",
       " 'house': 2771,\n",
       " 'looks': 3450,\n",
       " 'scrumptious': 5233,\n",
       " 'eat': 1762,\n",
       " 'entertaining': 1852,\n",
       " 'getting': 2363,\n",
       " 'hugh': 2808,\n",
       " 'laurie': 3291,\n",
       " 'stick': 5759,\n",
       " 'especially': 1882,\n",
       " 'apart': 255,\n",
       " 'yesterday': 7029,\n",
       " 'happen': 2574,\n",
       " 'silent': 5430,\n",
       " 'tensed': 6049,\n",
       " 'prabhaim': 4639,\n",
       " 'sorydarealyfrm': 5611,\n",
       " 'sory': 5610,\n",
       " 'noe': 4064,\n",
       " 'la': 3239,\n",
       " 'wana': 6652,\n",
       " 'pei': 4419,\n",
       " 'bf': 576,\n",
       " 'rite': 5073,\n",
       " 'round': 5102,\n",
       " 'til': 6177,\n",
       " 'ish': 2999,\n",
       " 'apologetic': 259,\n",
       " 'fallen': 2001,\n",
       " 'actin': 50,\n",
       " 'spoilt': 5671,\n",
       " 'child': 1033,\n",
       " 'caught': 928,\n",
       " 'till': 6178,\n",
       " 'badly': 443,\n",
       " 'cheers': 1007,\n",
       " 'sir': 5451,\n",
       " 'receive': 4908,\n",
       " 'account': 37,\n",
       " 'delay': 1481,\n",
       " 'kkare': 3202,\n",
       " 'month': 3847,\n",
       " 'upto': 6479,\n",
       " 'calls': 852,\n",
       " 'standard': 5715,\n",
       " 'charge': 975,\n",
       " 'activate': 54,\n",
       " 'wirenet': 6809,\n",
       " 'stterms': 5809,\n",
       " 'pobox': 4557,\n",
       " 'uz': 6522,\n",
       " 'mobcudb': 3808,\n",
       " 'gim': 2375,\n",
       " 'caveboy': 932,\n",
       " 'garage': 2314,\n",
       " 'keys': 3171,\n",
       " 'arent': 293,\n",
       " 'bookshelf': 673,\n",
       " 'swhrt': 5932,\n",
       " 'deyhope': 1540,\n",
       " 'daylove': 1421,\n",
       " 'misstake': 3782,\n",
       " 'mad': 3549,\n",
       " 'found': 2206,\n",
       " 'diff': 1561,\n",
       " 'farm': 2019,\n",
       " 'shop': 5379,\n",
       " 'cheese': 1009,\n",
       " 'gon': 2420,\n",
       " 'rip': 5071,\n",
       " 'uterus': 6513,\n",
       " 'rimac': 5065,\n",
       " 'access': 25,\n",
       " 'somewhere': 5581,\n",
       " 'beneath': 561,\n",
       " 'pale': 4337,\n",
       " 'moon': 3853,\n",
       " 'light': 3361,\n",
       " 'someone': 5569,\n",
       " 'goodnite': 2434,\n",
       " 'meh': 3680,\n",
       " 'kkany': 3200,\n",
       " 'join': 3087,\n",
       " 'bus': 794,\n",
       " 'ericsson': 1868,\n",
       " 'oredi': 4269,\n",
       " 'lar': 3268,\n",
       " 'asked': 333,\n",
       " 'sen': 5281,\n",
       " 'chennai': 1012,\n",
       " 'search': 5238,\n",
       " 'login': 3428,\n",
       " 'voda': 6598,\n",
       " 'numbers': 4139,\n",
       " 'ending': 1829,\n",
       " 'award': 412,\n",
       " 'hava': 2600,\n",
       " 'match': 3626,\n",
       " 'quoting': 4821,\n",
       " 'rates': 4856,\n",
       " 'app': 263,\n",
       " 'posh': 4602,\n",
       " 'birds': 599,\n",
       " 'chaps': 972,\n",
       " 'user': 6500,\n",
       " 'trial': 6325,\n",
       " 'prods': 4724,\n",
       " 'champneys': 963,\n",
       " 'dob': 1616,\n",
       " 'asap': 326,\n",
       " 'ta': 5951,\n",
       " 'toopray': 6263,\n",
       " 'meremove': 3708,\n",
       " 'teeth': 6028,\n",
       " 'painful': 4332,\n",
       " 'maintaining': 3571,\n",
       " 'stuff': 5820,\n",
       " 'remb': 4966,\n",
       " 'sat': 5183,\n",
       " 'infernal': 2928,\n",
       " 'affairs': 95,\n",
       " 'mayb': 3649,\n",
       " 'worrying': 6878,\n",
       " 'appt': 279,\n",
       " 'shame': 5332,\n",
       " 'missed': 3777,\n",
       " 'quizzes': 4819,\n",
       " 'popcorn': 4594,\n",
       " 'hair': 2547,\n",
       " 'dad': 1373,\n",
       " 'boo': 667,\n",
       " 'hows': 2779,\n",
       " 'kerala': 3166,\n",
       " 'daysso': 1425,\n",
       " 'prepared': 4667,\n",
       " 'finalise': 2091,\n",
       " 'travel': 6312,\n",
       " 'visitneed': 6592,\n",
       " 'finish': 2103,\n",
       " 'works': 6869,\n",
       " 'complimentary': 1179,\n",
       " 'ibiza': 2843,\n",
       " 'await': 409,\n",
       " 'collection': 1135,\n",
       " 'sae': 5145,\n",
       " 'sk': 5469,\n",
       " 'wp': 6891,\n",
       " 'theyll': 6117,\n",
       " 'understand': 6426,\n",
       " 'wine': 6799,\n",
       " 'slurp': 5512,\n",
       " 'takes': 5969,\n",
       " 'atyour': 373,\n",
       " 'dead': 1432,\n",
       " 'midnight': 3735,\n",
       " 'earliest': 1749,\n",
       " 'ax': 419,\n",
       " 'youll': 7052,\n",
       " 'figure': 2075,\n",
       " 'trust': 6340,\n",
       " 'math': 3631,\n",
       " 'promise': 4737,\n",
       " 'secret': 5245,\n",
       " 'admirer': 74,\n",
       " 'ufind': 6395,\n",
       " 'rreveal': 5112,\n",
       " 'thinks': 6129,\n",
       " 'specialcall': 5634,\n",
       " 'cause': 929,\n",
       " 'yelling': 7013,\n",
       " 'scrappy': 5225,\n",
       " 'miss': 3775,\n",
       " 'lonely': 3441,\n",
       " 'disturbing': 1606,\n",
       " 'check': 997,\n",
       " 'listed': 3396,\n",
       " 'mrw': 3893,\n",
       " 'ninish': 4049,\n",
       " 'icky': 2851,\n",
       " 'american': 194,\n",
       " 'freek': 2226,\n",
       " 'callin': 841,\n",
       " 'eh': 1796,\n",
       " 'unfortunately': 6432,\n",
       " 'airport': 140,\n",
       " 'natalja': 3969,\n",
       " 'inviting': 2977,\n",
       " 'wwwsmsacunat': 6955,\n",
       " 'frnd': 2259,\n",
       " 'hex': 2661,\n",
       " 'explain': 1966,\n",
       " 'lifted': 3360,\n",
       " 'hopes': 2749,\n",
       " 'offer': 4172,\n",
       " 'approaches': 274,\n",
       " 'hurts': 2828,\n",
       " 'studying': 5818,\n",
       " 'anyways': 253,\n",
       " 'gr': 2460,\n",
       " 'weekend': 6716,\n",
       " 'wrkin': 6903,\n",
       " 'south': 5620,\n",
       " 'tampa': 5982,\n",
       " 'preferably': 4661,\n",
       " 'kegger': 3162,\n",
       " 'customer': 1355,\n",
       " 'tc': 6004,\n",
       " 'wwwtcbiz': 6958,\n",
       " 'pmin': 4549,\n",
       " 'polo': 4579,\n",
       " 'ltd': 3504,\n",
       " 'suite': 5867,\n",
       " 'london': 3439,\n",
       " 'wj': 6827,\n",
       " 'hl': 2693,\n",
       " ...}"
      ]
     },
     "execution_count": 52,
     "metadata": {},
     "output_type": "execute_result"
    }
   ],
   "source": [
    "# vocabulary_ of all the words and count\n",
    "vectorizer.vocabulary_"
   ]
  },
  {
   "cell_type": "code",
   "execution_count": null,
   "id": "8e8b0ac0",
   "metadata": {},
   "outputs": [],
   "source": []
  },
  {
   "cell_type": "markdown",
   "id": "b16ee916",
   "metadata": {},
   "source": [
    "### Learnable Parameters : \n",
    "\n",
    "    STEP 1\n",
    "    priors: \n",
    "                    P[y=1] and P[y=0]\n",
    "     \n",
    "    STEP 2\n",
    "    conditional probabilities: \n",
    "    \n",
    "             each word in a dictionary\n",
    "             \n",
    "             {\n",
    "             word1 : {\"0\": P[word1|y=0]  , \"1\": P[word1|y=1]},\n",
    "             word2 : {\"0\": P[word2|y=0]  , \"1\": P[word2|y=1]},\n",
    "             word3 : {\"0\": P[word3|y=0]  , \"1\": P[word3|y=1]},\n",
    "             .\n",
    "             .\n",
    "             .\n",
    "             word : {\"0\": P[word|y=0]  , \"1\": P[word|y=1]}\n",
    "             }\n",
    "         \n",
    "    STEP 3\n",
    "        posterior   ∝    Conditional    prior\n",
    "       probability      probability    probability\n",
    "        \n",
    "        P[y=1|X]   ∝    P[X|y=1]   *  P[y=1]    \n",
    "        P[y=0|X]   ∝    P[X|y=0]   *  P[y=0]"
   ]
  },
  {
   "attachments": {
    "image.png": {
     "image/png": "[encoded data removed]"
    }
   },
   "cell_type": "markdown",
   "id": "b0b0cc6a",
   "metadata": {},
   "source": [
    "![image.png](attachment:image.png)"
   ]
  },
  {
   "cell_type": "markdown",
   "id": "3f92d057",
   "metadata": {},
   "source": [
    "## sklearn.naive_bayes"
   ]
  },
  {
   "cell_type": "code",
   "execution_count": 53,
   "id": "1ff66a3f",
   "metadata": {},
   "outputs": [],
   "source": [
    "from sklearn.naive_bayes import BernoulliNB\n",
    "from sklearn.metrics import f1_score"
   ]
  },
  {
   "cell_type": "code",
   "execution_count": 54,
   "id": "02fc595a",
   "metadata": {},
   "outputs": [],
   "source": [
    "BNB = BernoulliNB(alpha=0.001)"
   ]
  },
  {
   "cell_type": "code",
   "execution_count": 55,
   "id": "edecc40b",
   "metadata": {},
   "outputs": [
    {
     "data": {
      "text/html": [
       "<style>#sk-container-id-2 {color: black;background-color: white;}#sk-container-id-2 pre{padding: 0;}#sk-container-id-2 div.sk-toggleable {background-color: white;}#sk-container-id-2 label.sk-toggleable__label {cursor: pointer;display: block;width: 100%;margin-bottom: 0;padding: 0.3em;box-sizing: border-box;text-align: center;}#sk-container-id-2 label.sk-toggleable__label-arrow:before {content: \"▸\";float: left;margin-right: 0.25em;color: #696969;}#sk-container-id-2 label.sk-toggleable__label-arrow:hover:before {color: black;}#sk-container-id-2 div.sk-estimator:hover label.sk-toggleable__label-arrow:before {color: black;}#sk-container-id-2 div.sk-toggleable__content {max-height: 0;max-width: 0;overflow: hidden;text-align: left;background-color: #f0f8ff;}#sk-container-id-2 div.sk-toggleable__content pre {margin: 0.2em;color: black;border-radius: 0.25em;background-color: #f0f8ff;}#sk-container-id-2 input.sk-toggleable__control:checked~div.sk-toggleable__content {max-height: 200px;max-width: 100%;overflow: auto;}#sk-container-id-2 input.sk-toggleable__control:checked~label.sk-toggleable__label-arrow:before {content: \"▾\";}#sk-container-id-2 div.sk-estimator input.sk-toggleable__control:checked~label.sk-toggleable__label {background-color: #d4ebff;}#sk-container-id-2 div.sk-label input.sk-toggleable__control:checked~label.sk-toggleable__label {background-color: #d4ebff;}#sk-container-id-2 input.sk-hidden--visually {border: 0;clip: rect(1px 1px 1px 1px);clip: rect(1px, 1px, 1px, 1px);height: 1px;margin: -1px;overflow: hidden;padding: 0;position: absolute;width: 1px;}#sk-container-id-2 div.sk-estimator {font-family: monospace;background-color: #f0f8ff;border: 1px dotted black;border-radius: 0.25em;box-sizing: border-box;margin-bottom: 0.5em;}#sk-container-id-2 div.sk-estimator:hover {background-color: #d4ebff;}#sk-container-id-2 div.sk-parallel-item::after {content: \"\";width: 100%;border-bottom: 1px solid gray;flex-grow: 1;}#sk-container-id-2 div.sk-label:hover label.sk-toggleable__label {background-color: #d4ebff;}#sk-container-id-2 div.sk-serial::before {content: \"\";position: absolute;border-left: 1px solid gray;box-sizing: border-box;top: 0;bottom: 0;left: 50%;z-index: 0;}#sk-container-id-2 div.sk-serial {display: flex;flex-direction: column;align-items: center;background-color: white;padding-right: 0.2em;padding-left: 0.2em;position: relative;}#sk-container-id-2 div.sk-item {position: relative;z-index: 1;}#sk-container-id-2 div.sk-parallel {display: flex;align-items: stretch;justify-content: center;background-color: white;position: relative;}#sk-container-id-2 div.sk-item::before, #sk-container-id-2 div.sk-parallel-item::before {content: \"\";position: absolute;border-left: 1px solid gray;box-sizing: border-box;top: 0;bottom: 0;left: 50%;z-index: -1;}#sk-container-id-2 div.sk-parallel-item {display: flex;flex-direction: column;z-index: 1;position: relative;background-color: white;}#sk-container-id-2 div.sk-parallel-item:first-child::after {align-self: flex-end;width: 50%;}#sk-container-id-2 div.sk-parallel-item:last-child::after {align-self: flex-start;width: 50%;}#sk-container-id-2 div.sk-parallel-item:only-child::after {width: 0;}#sk-container-id-2 div.sk-dashed-wrapped {border: 1px dashed gray;margin: 0 0.4em 0.5em 0.4em;box-sizing: border-box;padding-bottom: 0.4em;background-color: white;}#sk-container-id-2 div.sk-label label {font-family: monospace;font-weight: bold;display: inline-block;line-height: 1.2em;}#sk-container-id-2 div.sk-label-container {text-align: center;}#sk-container-id-2 div.sk-container {/* jupyter's `normalize.less` sets `[hidden] { display: none; }` but bootstrap.min.css set `[hidden] { display: none !important; }` so we also need the `!important` here to be able to override the default hidden behavior on the sphinx rendered scikit-learn.org. See: https://github.com/scikit-learn/scikit-learn/issues/21755 */display: inline-block !important;position: relative;}#sk-container-id-2 div.sk-text-repr-fallback {display: none;}</style><div id=\"sk-container-id-2\" class=\"sk-top-container\"><div class=\"sk-text-repr-fallback\"><pre>BernoulliNB(alpha=0.001)</pre><b>In a Jupyter environment, please rerun this cell to show the HTML representation or trust the notebook. <br />On GitHub, the HTML representation is unable to render, please try loading this page with nbviewer.org.</b></div><div class=\"sk-container\" hidden><div class=\"sk-item\"><div class=\"sk-estimator sk-toggleable\"><input class=\"sk-toggleable__control sk-hidden--visually\" id=\"sk-estimator-id-2\" type=\"checkbox\" checked><label for=\"sk-estimator-id-2\" class=\"sk-toggleable__label sk-toggleable__label-arrow\">BernoulliNB</label><div class=\"sk-toggleable__content\"><pre>BernoulliNB(alpha=0.001)</pre></div></div></div></div></div>"
      ],
      "text/plain": [
       "BernoulliNB(alpha=0.001)"
      ]
     },
     "execution_count": 55,
     "metadata": {},
     "output_type": "execute_result"
    }
   ],
   "source": [
    "BNB.fit(X_train,y_train)"
   ]
  },
  {
   "cell_type": "code",
   "execution_count": 56,
   "id": "ad5d0fac",
   "metadata": {},
   "outputs": [],
   "source": [
    "y_pred = BNB.predict(X_test)"
   ]
  },
  {
   "cell_type": "code",
   "execution_count": 57,
   "id": "556dbf4a",
   "metadata": {},
   "outputs": [
    {
     "data": {
      "text/plain": [
       "(0.9366391184573003, 0.9945750452079565)"
      ]
     },
     "execution_count": 57,
     "metadata": {},
     "output_type": "execute_result"
    }
   ],
   "source": [
    "f1_score(y_test, y_pred),f1_score(y_train, BNB.predict(X_train))"
   ]
  },
  {
   "cell_type": "code",
   "execution_count": 58,
   "id": "7032a841",
   "metadata": {},
   "outputs": [
    {
     "data": {
      "text/plain": [
       "0.9945750452079565"
      ]
     },
     "execution_count": 58,
     "metadata": {},
     "output_type": "execute_result"
    }
   ],
   "source": [
    "f1_score(y_train, BNB.predict(X_train))"
   ]
  },
  {
   "cell_type": "code",
   "execution_count": 59,
   "id": "c11c8a78",
   "metadata": {},
   "outputs": [
    {
     "data": {
      "text/plain": [
       "(0.9985642498205313, 0.9834888729361091)"
      ]
     },
     "execution_count": 59,
     "metadata": {},
     "output_type": "execute_result"
    }
   ],
   "source": [
    "BNB.score(X_train,y_train),BNB.score(X_test,y_test)"
   ]
  },
  {
   "cell_type": "code",
   "execution_count": null,
   "id": "b495b4ea",
   "metadata": {},
   "outputs": [],
   "source": []
  },
  {
   "cell_type": "markdown",
   "id": "18f99eb3",
   "metadata": {},
   "source": [
    "## Space Complexity and Time Complexity \n",
    "\n",
    "    "
   ]
  },
  {
   "cell_type": "markdown",
   "id": "a70e4900",
   "metadata": {},
   "source": [
    "    space : \n",
    "        total number of words = d\n",
    "        total number of class = c\n",
    "        \n",
    "        O(d*c + c) ~ ~  O(d*c)\n",
    "        \n",
    "     \n",
    "    run-time complexity : \n",
    "            \n",
    "            O(d)\n",
    "        \n",
    "    train time complexity: \n",
    "        \n",
    "        O(ndc)   n - datapoints\n",
    "        \n",
    "        P[w|y= 0] : O(n+n+n+n....+d-times) * number of classes \n",
    "        =O(n*d * c)\n",
    "        \n",
    "        ~~O(nd)\n",
    "        \n",
    "    \n",
    "    \n",
    "        \n",
    "        "
   ]
  },
  {
   "cell_type": "code",
   "execution_count": null,
   "id": "735d32ec",
   "metadata": {},
   "outputs": [],
   "source": []
  },
  {
   "attachments": {
    "image.png": {
     "image/png": "[encoded data removed]"
    }
   },
   "cell_type": "markdown",
   "id": "987fc10e",
   "metadata": {},
   "source": [
    "![image.png](attachment:image.png)\n"
   ]
  },
  {
   "cell_type": "code",
   "execution_count": 60,
   "id": "4dc0968a",
   "metadata": {},
   "outputs": [],
   "source": [
    "# assumption is words are independent , \n",
    "# but are dependents on the label.\n"
   ]
  },
  {
   "attachments": {
    "image.png": {
     "image/png": "[encoded data removed]"
    }
   },
   "cell_type": "markdown",
   "id": "7952d23e",
   "metadata": {},
   "source": [
    "![image.png](attachment:image.png)"
   ]
  },
  {
   "cell_type": "raw",
   "id": "52a18590",
   "metadata": {},
   "source": [
    "P[df] = 0.01\n",
    "P[smoke] = 0.10\n",
    "P[ smoke|df] = 0.90\n",
    "\n",
    "P[df|smoke ] = smoke|df * df / \n",
    "                smoke\n",
    "                \n",
    "             = 0.90 * 0.01  /\n",
    "                 0.10"
   ]
  },
  {
   "cell_type": "code",
   "execution_count": 61,
   "id": "cfffc1a5",
   "metadata": {},
   "outputs": [
    {
     "data": {
      "text/plain": [
       "0.09000000000000001"
      ]
     },
     "execution_count": 61,
     "metadata": {},
     "output_type": "execute_result"
    }
   ],
   "source": [
    "(0.90*0.01)/(0.10)"
   ]
  },
  {
   "cell_type": "code",
   "execution_count": null,
   "id": "54c4d2f8",
   "metadata": {},
   "outputs": [],
   "source": []
  },
  {
   "cell_type": "code",
   "execution_count": null,
   "id": "b8e80441",
   "metadata": {},
   "outputs": [],
   "source": []
  },
  {
   "attachments": {
    "image.png": {
     "image/png": "[encoded data removed]"
    }
   },
   "cell_type": "markdown",
   "id": "d5006ebd",
   "metadata": {},
   "source": [
    "![image.png](attachment:image.png)"
   ]
  },
  {
   "cell_type": "raw",
   "id": "05a84b1e",
   "metadata": {},
   "source": [
    "P[cancer|no cholestrol , blood pressure yes,  no exercises]  = \n",
    "   = \n",
    "    ( P[no- colestrol | cancer] * P[yes blood-perss | cancer] * P[no exe | cancer] ) * P[y=cancer]\n",
    "  = "
   ]
  },
  {
   "cell_type": "raw",
   "id": "5c310575",
   "metadata": {},
   "source": [
    "     cancer\n",
    "1         1\n",
    "1         1\n",
    "1         1\n",
    "0         0   \n",
    "0         1\n",
    "1         0\n",
    "\n",
    "3/4 * 1/4 * 3/4\n"
   ]
  },
  {
   "cell_type": "code",
   "execution_count": 62,
   "id": "12a9c734",
   "metadata": {},
   "outputs": [
    {
     "data": {
      "text/plain": [
       "0.09375"
      ]
     },
     "execution_count": 62,
     "metadata": {},
     "output_type": "execute_result"
    }
   ],
   "source": [
    "\n",
    "3/4 * 1/4 * 3/4 *  4/6"
   ]
  },
  {
   "cell_type": "code",
   "execution_count": null,
   "id": "98b6f96d",
   "metadata": {},
   "outputs": [],
   "source": []
  },
  {
   "cell_type": "code",
   "execution_count": null,
   "id": "91f2ff84",
   "metadata": {},
   "outputs": [],
   "source": []
  },
  {
   "cell_type": "code",
   "execution_count": null,
   "id": "340dcb1c",
   "metadata": {},
   "outputs": [],
   "source": []
  },
  {
   "cell_type": "code",
   "execution_count": null,
   "id": "15a1b407",
   "metadata": {},
   "outputs": [],
   "source": []
  },
  {
   "cell_type": "markdown",
   "id": "fae937ca",
   "metadata": {},
   "source": [
    "## Laplace Smoothing :    (handles outliers that are new words in test/query data )"
   ]
  },
  {
   "cell_type": "markdown",
   "id": "8e5684df",
   "metadata": {},
   "source": [
    "    at runtime :\n",
    "    \n",
    "    X-query : w2 w15 w25 w'\n",
    "    \n",
    "    w' is a new word , which is not present in current model vocabulary \n",
    "    \n",
    "    w' doent belongs to {w1 , w2 , w3, ... wd}\n",
    "    \n",
    "    \n",
    "    \n",
    "    \n",
    "    goal is to find P[y=1|x-query] and P[y=0|x-query]\n",
    "    \n",
    "                     (P[w2|y=1] * P[w15|y=1] * P[w25|y=1] * P[w'|y=1] ) * P[y=1]\n",
    "                                                            ********\n",
    "                                                              since w' is not present\n",
    "                                                              P[w'|y=1] is 0\n",
    "                                                       so , entire term P[y=1|X-query]\n",
    "                                                       and P[y=0|X-query] becomes 0\n",
    "                                                       \n",
    "                                                       \n",
    "       How can we tackle the new word :\n",
    "       \n",
    "       whenever we see a new word , we can ignore it . But it doent make sense. \n",
    "       \n",
    "       better way is : (quick hack) \n",
    "       \n",
    "       \n",
    "       find P[w'|y=1] = occurances when w' is present in entire data  + alfa\n",
    "                       ----------------------------------------------\n",
    "                                total data points + alfa * C\n",
    "                                \n",
    "                                C :distinct value w' can take.\n",
    "                                in Bernouli NB,  C = 2\n",
    "                                \n",
    "       alfa is a hyperparamet.\n",
    "       \n",
    "       We are assigning some weight to the new word.\n",
    "       makes algorithm more customizable.\n",
    "       \n",
    "\n",
    "       \n",
    "       \n",
    "       \n",
    "                                                \n",
    "                                                     \n",
    "                                                      \n",
    "                                                      \n",
    "                                                      \n",
    "                     \n",
    "                     "
   ]
  },
  {
   "cell_type": "markdown",
   "id": "653bf783",
   "metadata": {
    "scrolled": true
   },
   "source": [
    "## Bias variance tradeoff : \n",
    "\n",
    "    assume alfa  = 1 ( a small value)\n",
    "    \n",
    "    P[w'|y=1] =   n1'* alfa\n",
    "                 -----------\n",
    "                  n1 + 2*alfa\n",
    "             \n",
    "    P[w'|y=0] =   n0'* alfa\n",
    "                 -----------\n",
    "                  n0 + 2*alfa\n",
    "    \n",
    "    \n",
    "    P[w'|y=1] =   n1' * 1\n",
    "                  ----------\n",
    "                  n1 + 2*1\n",
    "                  \n",
    "              n1' = 0 , n1 = 100 \n",
    "              \n",
    "             \n",
    "              =  1\n",
    "                ----   atleast this term is not 0.   = 0.0098\n",
    "                102\n",
    "    \n",
    "            \n",
    "    P[w'|y=0] =     0 + 1            1\n",
    "                 -----------  =  ----------  = 0.005\n",
    "                  300 + 2*1         302\n",
    "    \n",
    "    \n",
    "    \n",
    "    \n",
    "    case : when alfa = 0   (not applying Laplace smoothing)\n",
    "            lets say for word \"free\"\n",
    "          n1 = 100\n",
    "          n1' = 10  (\"Free\")\n",
    "          \n",
    "          P[Free|y=1] = n1'\n",
    "                      /n1\n",
    "                    = 10 + 0 /\n",
    "                      100+ 0 \n",
    "                    = 0.10\n",
    "                    \n",
    "     case when alfa = 1\n",
    "           P[Free|y=1] = n1'\n",
    "                      /n1\n",
    "                    = 10 + 1 /\n",
    "                      100+ 2 \n",
    "                    = 11/102 ~~ 0.1\n",
    "                 even if we increase alfa value , still it will be close to 0.1\n",
    "                 \n",
    "      case when alfa is very large\n",
    "       alfa  = 10000\n",
    "        \n",
    "           P[Free|y=1] = 10 * 10000/\n",
    "                      100 + 20000\n",
    "                     ~~ 0.498\n",
    "                     \n",
    "           P[Free|y=0] = 5 * 10000/\n",
    "                  150 + 20000\n",
    "                 ~~ 0.5\n",
    "                 \n",
    "            so if we increase alfa to a very large number , \n",
    "            all the words probability will become close to 0.5\n",
    "            which will make no sense and word become useless. \n",
    "            makes model underfit. \n",
    "\n",
    "                all the conditional probabilities will be close to 0.5\n",
    "        \n",
    "        P[y=1|x] = P[wi|y=1]*P[y=1]  ~~ P[y=1] \n",
    "        P[y=0|x] = P[wi|y=0]*P[y=0]  ~~ P[y=0]\n",
    "         and we will only be relying on P[clsses]  (only comparison left to do)\n",
    "         \n",
    "         \n",
    "        \n",
    "        alfa increases : Underfit increases    [ applying too much smoothing]\n",
    "        alfa small value : Overfit increases   [not doing laplace smoothing ]\n",
    "        \n",
    "        \n",
    "        \n",
    "        \n",
    "         \n",
    "                   "
   ]
  },
  {
   "cell_type": "markdown",
   "id": "985c740b",
   "metadata": {},
   "source": [
    "### Imbalance impact : \n",
    "\n",
    "        P[y=1] = 0.30   30% spam emails\n",
    "        P[y=0] = 0.70\n",
    "        \n",
    "       \n",
    "        \n",
    "        \n",
    "       impact : \n",
    "       lets say X-query : \"Free lottery win\"\n",
    "       \n",
    "       P[wi|y=1] = 0.2\n",
    "       P[wi|y=0] = 0.1\n",
    "       \n",
    "       P[y=1|X-query] = 0.2*0.3 = 0.06\n",
    "       P[y=0|X-query] = 0.1*0.7 = 0.07   hence will conclude the x-query point belongs to non-spam\n",
    "                                                                       WRONG CONCLUSION \n",
    "                                                                       \n",
    "       please make , prior probability equal ~~= 0.5\n",
    "       \n",
    "       so we can take LIKELIHOOD probability only into account.\n",
    "       P[y=1|X-query] = 0.2 *0.5 = 0.1 \n",
    "       P[y=0|X-query]= 0.1 *0.5 = 0.05    and now we can see , X-query belongs to y= spam\n",
    "                                                                    CORRECT decision\n",
    "                                                                    \n",
    "                              DO NOT CONSIDER PRIOR PROBABILITY \n",
    "                              TAKE LIKELIHOOD  INTO CONSIDERATION \n",
    "       \n",
    "                   "
   ]
  },
  {
   "cell_type": "code",
   "execution_count": null,
   "id": "5ea877dd",
   "metadata": {},
   "outputs": [],
   "source": []
  },
  {
   "cell_type": "markdown",
   "id": "5163d287",
   "metadata": {},
   "source": [
    "#### more Vectorization techniques  [in deep learning - NLP ]\n",
    "1. Bag of Words\n",
    "2. IDF\n",
    "3. Word2Vec\n",
    "4. GloVe\n",
    "5. FastText"
   ]
  },
  {
   "cell_type": "markdown",
   "id": "0483b7eb",
   "metadata": {},
   "source": [
    "### Big issue with current algorithm : \n",
    "\n",
    "## Undeflow problem : \n",
    "\n"
   ]
  },
  {
   "attachments": {
    "image.png": {
     "image/png": "[encoded data removed]"
    }
   },
   "cell_type": "markdown",
   "id": "700c9213",
   "metadata": {},
   "source": [
    "    P[y=1|X] =  product(P[wi|y=1])* P[y=1]\n",
    "    P[y=0|X] =  product(P[wi|y=0])* P[y=0]\n",
    "      \n",
    "      are very very very very small number. ~~ 0.00000000...00016541\n",
    "      \n",
    "      \n",
    "     solution is to take a log transform \n",
    "     \n",
    "     log(P[y=1|X])  = ( log(P[w1|y=1]) + log(P[w2|y=1]) +  ... + log(P[wd|y=1]) ) + log(P[y=1])  \n",
    "     log(P[y=0|X])  = ( log(P[w1|y=0]) + log(P[w2|y=0]) +  ... + log(P[wd|y=0]) ) + log(P[y=0])\n",
    "     \n",
    "     \n",
    " ![image.png](attachment:image.png)    \n",
    "     \n",
    "     \n",
    "     \n",
    "     "
   ]
  },
  {
   "cell_type": "code",
   "execution_count": null,
   "id": "50193898",
   "metadata": {},
   "outputs": [],
   "source": []
  },
  {
   "cell_type": "markdown",
   "id": "8eafb977",
   "metadata": {},
   "source": [
    "# Naive Bayes | in sklearn "
   ]
  },
  {
   "attachments": {
    "image-2.png": {
     "image/png": "[encoded data removed]"
    },
    "image.png": {
     "image/png": "[encoded data removed]"
    }
   },
   "cell_type": "markdown",
   "id": "8f9b37af",
   "metadata": {},
   "source": [
    "https://scikit-learn.org/stable/modules/generated/sklearn.naive_bayes.BernoulliNB.html\n",
    "\n",
    "![image.png](attachment:image.png)\n",
    "![image-2.png](attachment:image-2.png)"
   ]
  },
  {
   "cell_type": "code",
   "execution_count": null,
   "id": "cdad3552",
   "metadata": {},
   "outputs": [],
   "source": []
  },
  {
   "cell_type": "code",
   "execution_count": null,
   "id": "de95ca8e",
   "metadata": {},
   "outputs": [],
   "source": []
  },
  {
   "cell_type": "markdown",
   "id": "094fb660",
   "metadata": {},
   "source": []
  },
  {
   "cell_type": "markdown",
   "id": "db296f2a",
   "metadata": {},
   "source": [
    "## MultinomialNB\n",
    "\n",
    "    - in Multinomial NB , instead of taking 1 when word present in data and 0 when not present , \n",
    "         - we take frequency / occurances of word into account.\n",
    "         How many times the word wj present in the text. \n",
    "         We are adding more information to model. \n",
    "         \n",
    "             in BernouliNB \n",
    "             \n",
    "             if X-query : I was good good ... good. \n",
    "             \n",
    "            we find P[\"good\" |y=1 ]\n",
    "            in how many spam emails good is present.\n",
    "            \n",
    "            \n",
    "                                            in MultinomailNB we find \n",
    "                                            \n",
    "                                            P[\"good\" = 3 | y= 1]\n",
    "                                            In how many spam emails good is present 3 times. \n",
    "                                            \n",
    "            "
   ]
  },
  {
   "cell_type": "code",
   "execution_count": 88,
   "id": "30e67c03",
   "metadata": {},
   "outputs": [
    {
     "data": {
      "text/plain": [
       "(0.921832884097035, 0.9739910313901345)"
      ]
     },
     "execution_count": 88,
     "metadata": {},
     "output_type": "execute_result"
    }
   ],
   "source": [
    "from sklearn.naive_bayes import MultinomialNB\n",
    "from sklearn.metrics import f1_score,accuracy_score\n",
    "\n",
    "MNB = MultinomialNB(alpha=0.8)\n",
    "\n",
    "MNB.fit(X_train,y_train)\n",
    "y_pred = MNB.predict(X_test)\n",
    "f1_score(y_test, y_pred),f1_score(y_train, MNB.predict(X_train))"
   ]
  },
  {
   "cell_type": "code",
   "execution_count": null,
   "id": "fc94618a",
   "metadata": {},
   "outputs": [],
   "source": []
  },
  {
   "attachments": {
    "image.png": {
     "image/png": "[encoded data removed]"
    }
   },
   "cell_type": "markdown",
   "id": "11c13d7f",
   "metadata": {},
   "source": [
    "    \n",
    "    in Naive Bayes: \n",
    "    \n",
    "    Classification : \n",
    "        \n",
    "         y is discrete : \n",
    "         \n",
    "         X : \n",
    "                 if features are categorical : \n",
    "                               only 2 unique values : BernauliNB\n",
    "                               multiple values  : MultinomialNB\n",
    "                               \n",
    "                 if features are Numerical : \n",
    "                             Gaussian NB.   - which assumes the features are normally distributed\n",
    "                             \n",
    "                             if features are not Normally distributed , we have to transform data into normal distribution.\n",
    "                             \n",
    "                             \n",
    "                             \n",
    "    XQuery  => age=41.5 , \n",
    "               weight = 75.3\n",
    "               \n",
    "               \n",
    "               P[ y=1 | age= 41.5 and weight = 75.3]\n",
    "               P[ y=1 | <41.5,75.3>]              \n",
    "                 \n",
    "                  = P[age = 41.5 |y=1]  : likelyhood of age=41.5 when data y=1\n",
    "![image.png](attachment:image.png)\n",
    "               \n",
    "                 "
   ]
  },
  {
   "attachments": {
    "image.png": {
     "image/png": "[encoded data removed]"
    }
   },
   "cell_type": "markdown",
   "id": "897f2b51",
   "metadata": {},
   "source": [
    "![image.png](attachment:image.png)"
   ]
  },
  {
   "cell_type": "code",
   "execution_count": null,
   "id": "4e4ed339",
   "metadata": {},
   "outputs": [],
   "source": []
  },
  {
   "cell_type": "code",
   "execution_count": 105,
   "id": "00f07060",
   "metadata": {},
   "outputs": [],
   "source": [
    "\n",
    "import warnings\n",
    "warnings.filterwarnings('ignore')"
   ]
  },
  {
   "cell_type": "code",
   "execution_count": 106,
   "id": "83a32edd",
   "metadata": {},
   "outputs": [],
   "source": [
    "X_train = [[1, 0, 1, 2, 0], [3, 0, 1, 3, 0], [0, 2, 1, 1, 3], [1, 2, 0, 0, 1], [0, 1, 1, 3, 0], [2, 0, 2, 3, 1], [3, 1, 2, 1, 3], [0, 0, 0, 1, 1], [0, 2, 1, 1, 3], [2, 2, 3, 1, 1], [3, 2, 3, 1, 1], [0, 2, 1, 2, 0], [0, 0, 0, 0, 2], [1, 0, 0, 0, 2], [3, 2, 1, 2, 2], [2, 3, 0, 0, 1], [2, 3, 3, 1, 3], [0, 1, 2, 0, 1], [1, 2, 0, 1, 3], [1, 3, 1, 2, 0], [1, 3, 2, 2, 0], [3, 0, 0, 1, 2], [3, 2, 1, 2, 0], [1, 3, 1, 2, 0], [3, 3, 2, 3, 1], [3, 0, 2, 1, 3], [0, 3, 1, 0, 0], [1, 0, 0, 0, 3], [0, 2, 0, 1, 0], [2, 1, 3, 1, 3], [3, 2, 1, 1, 1], [1, 0, 1, 1, 1], [3, 0, 0, 2, 3], [2, 2, 2, 1, 0], [3, 3, 2, 2, 1], [1, 2, 2, 3, 0], [0, 3, 1, 2, 0], [3, 1, 1, 3, 3], [1, 3, 2, 2, 0], [2, 3, 3, 3, 0], [2, 3, 2, 1, 3], [2, 0, 1, 2, 1], [0, 1, 2, 3, 2], [3, 1, 2, 0, 2], [2, 2, 3, 0, 1], [2, 1, 0, 3, 0], [0, 1, 1, 0, 0], [2, 3, 2, 2, 2], [3, 2, 1, 2, 3], [3, 2, 0, 0, 0]]\n",
    "y_train = [0, 1, 0, 0, 0, 1, 1, 1, 1, 0, 1, 1, 1, 0, 1, 1, 0, 0, 0, 0, 0, 0, 1, 1, 0, 1, 0, 0, 1, 0, 1, 0, 0, 0, 0, 0, 0, 1, 1, 0, 1, 1, 1, 0, 1, 1, 0, 1, 1, 0]\n",
    "\n",
    "X_test = [[0, 2, 1, 1, 1], [2, 1, 1, 0, 0], [2, 0, 2, 2, 2], [2, 0, 3, 1, 0], [3, 3, 1, 2, 1], [3, 0, 1, 0, 2], [0, 3, 3, 3, 1], [3, 3, 0, 3, 2], [0, 3, 2, 2, 3], [2, 3, 3, 0, 0]]\n",
    "y_test = [0, 1, 1, 0, 0, 1, 0, 1, 0, 0]\n",
    "\n",
    "alphas = [0.1, 1, 100, 1000]"
   ]
  },
  {
   "cell_type": "code",
   "execution_count": 107,
   "id": "5bafc65e",
   "metadata": {},
   "outputs": [
    {
     "data": {
      "application/javascript": [
       "\n",
       "        if (window._pyforest_update_imports_cell) { window._pyforest_update_imports_cell('import numpy as np\\nimport pandas as pd'); }\n",
       "    "
      ],
      "text/plain": [
       "<IPython.core.display.Javascript object>"
      ]
     },
     "metadata": {},
     "output_type": "display_data"
    },
    {
     "data": {
      "application/javascript": [
       "\n",
       "        if (window._pyforest_update_imports_cell) { window._pyforest_update_imports_cell('import numpy as np\\nimport pandas as pd'); }\n",
       "    "
      ],
      "text/plain": [
       "<IPython.core.display.Javascript object>"
      ]
     },
     "metadata": {},
     "output_type": "display_data"
    },
    {
     "data": {
      "application/javascript": [
       "\n",
       "        if (window._pyforest_update_imports_cell) { window._pyforest_update_imports_cell('import numpy as np\\nimport pandas as pd'); }\n",
       "    "
      ],
      "text/plain": [
       "<IPython.core.display.Javascript object>"
      ]
     },
     "metadata": {},
     "output_type": "display_data"
    },
    {
     "data": {
      "application/javascript": [
       "\n",
       "        if (window._pyforest_update_imports_cell) { window._pyforest_update_imports_cell('import numpy as np\\nimport pandas as pd'); }\n",
       "    "
      ],
      "text/plain": [
       "<IPython.core.display.Javascript object>"
      ]
     },
     "metadata": {},
     "output_type": "display_data"
    },
    {
     "name": "stdout",
     "output_type": "stream",
     "text": [
      "Alpha:  0.1\n",
      "Score:  0.9\n",
      "\n",
      "Alpha:  1\n",
      "Score:  0.9\n",
      "\n",
      "Alpha:  100\n",
      "Score:  0.9\n",
      "\n",
      "Alpha:  1000\n",
      "Score:  0.6\n",
      "\n"
     ]
    }
   ],
   "source": [
    "X_train = np.array(X_train)\n",
    "X_test = np.array(X_test)\n",
    "y_train = np.array(y_train).reshape(-1,1)\n",
    "y_test = np.array(y_test).reshape(-1,1)\n",
    "\n",
    "#Import Multinomial naive bayes from the appropraite library\n",
    "from sklearn.naive_bayes import MultinomialNB\n",
    "\n",
    "# Import accuracy_score from the appropraite library\n",
    "from sklearn.metrics import accuracy_score\n",
    "\n",
    "# Define train_and_predict()\n",
    "def train_and_predict(a):\n",
    "    \n",
    "    \n",
    "    \n",
    "    # Instantiate the classifier: nb_classifier, and plug in alpha's value\n",
    "    nb_classifier = MultinomialNB(alpha=a)\n",
    "\n",
    "    # Fit to the training data\n",
    "    nb_classifier.fit(X_train,y_train)\n",
    "    \n",
    "    # Predict the labels: pred\n",
    "    y_pred = nb_classifier.predict(X_test)\n",
    "    \n",
    "    # Compute accuracy: score\n",
    "    score =   accuracy_score(y_test,y_pred)  \n",
    "\n",
    "    return score\n",
    "\n",
    "\n",
    "# Iterate over the alphas and print the corresponding score\n",
    "for i in alphas:\n",
    "    print('Alpha: ', i)\n",
    "    print('Score: ', train_and_predict(i))\n",
    "    print()"
   ]
  },
  {
   "cell_type": "code",
   "execution_count": null,
   "id": "bc7693c8",
   "metadata": {},
   "outputs": [],
   "source": []
  },
  {
   "cell_type": "code",
   "execution_count": null,
   "id": "7877c352",
   "metadata": {},
   "outputs": [],
   "source": []
  },
  {
   "cell_type": "code",
   "execution_count": null,
   "id": "7a82a82a",
   "metadata": {},
   "outputs": [],
   "source": []
  }
 ],
 "metadata": {
  "kernelspec": {
   "display_name": "Python 3 (ipykernel)",
   "language": "python",
   "name": "python3"
  },
  "language_info": {
   "codemirror_mode": {
    "name": "ipython",
    "version": 3
   },
   "file_extension": ".py",
   "mimetype": "text/x-python",
   "name": "python",
   "nbconvert_exporter": "python",
   "pygments_lexer": "ipython3",
   "version": "3.9.7"
  }
 },
 "nbformat": 4,
 "nbformat_minor": 5
}
