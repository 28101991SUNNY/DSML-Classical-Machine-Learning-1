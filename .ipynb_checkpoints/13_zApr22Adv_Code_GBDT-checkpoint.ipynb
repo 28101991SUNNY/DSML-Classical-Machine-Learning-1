{
 "cells": [
  {
   "cell_type": "code",
   "execution_count": 1,
   "metadata": {
    "id": "xQIfyjyXk3a2"
   },
   "outputs": [],
   "source": [
    "import matplotlib.pyplot as plt\n",
    "import numpy as np\n",
    "import os\n",
    "import pandas as pd"
   ]
  },
  {
   "cell_type": "code",
   "execution_count": 2,
   "metadata": {
    "colab": {
     "base_uri": "https://localhost:8080/"
    },
    "id": "ZSYBQfVcmbRe",
    "outputId": "7007efa2-59f5-4578-b238-8c66bdda2ed2"
   },
   "outputs": [
    {
     "name": "stderr",
     "output_type": "stream",
     "text": [
      "Downloading...\n",
      "From: https://drive.google.com/uc?id=1h86M8si2YT-aI4Zec1MeMP_mPYsLPy5F\n",
      "To: C:\\Users\\sunny\\Data Science Studies\\GitHub_Desktop\\DSML Classical Machine Learning 1\\emg.rar\n",
      "\n",
      "  0%|          | 0.00/18.6M [00:00<?, ?B/s]\n",
      " 14%|#4        | 2.62M/18.6M [00:00<00:00, 24.5MB/s]\n",
      " 28%|##8       | 5.24M/18.6M [00:00<00:00, 14.1MB/s]\n",
      " 48%|####7     | 8.91M/18.6M [00:00<00:00, 12.6MB/s]\n",
      " 85%|########4 | 15.7M/18.6M [00:00<00:00, 23.8MB/s]\n",
      "100%|##########| 18.6M/18.6M [00:00<00:00, 20.1MB/s]\n"
     ]
    }
   ],
   "source": [
    "!gdown 1h86M8si2YT-aI4Zec1MeMP_mPYsLPy5F"
   ]
  },
  {
   "cell_type": "code",
   "execution_count": 27,
   "metadata": {
    "id": "cVHL7dZtmeqv"
   },
   "outputs": [],
   "source": [
    "# !pip install unrar\n",
    "# !pip install unrar"
   ]
  },
  {
   "cell_type": "code",
   "execution_count": 29,
   "metadata": {
    "colab": {
     "base_uri": "https://localhost:8080/"
    },
    "id": "_0wQvtI-mdSA",
    "outputId": "8e6764c1-c2cf-4786-e6a7-4da05ca83051"
   },
   "outputs": [],
   "source": [
    "# x is extract\n",
    "\n",
    "# !unrar x \"./emg.rar\" \"./\" "
   ]
  },
  {
   "cell_type": "code",
   "execution_count": 7,
   "metadata": {
    "colab": {
     "base_uri": "https://localhost:8080/"
    },
    "id": "Wauf-oFTmhMk",
    "outputId": "296da380-e594-4793-d72d-c109bab808a9"
   },
   "outputs": [],
   "source": [
    "# list files\n",
    "# !ls ./EMG\\ Physical\\ Action\\ Data\\ Set/sub1/Aggressive/txt/"
   ]
  },
  {
   "cell_type": "code",
   "execution_count": 9,
   "metadata": {
    "colab": {
     "base_uri": "https://localhost:8080/"
    },
    "id": "neHOQZp_mjtO",
    "outputId": "d26ab27a-fd9b-48eb-dde5-179a8efe214a"
   },
   "outputs": [],
   "source": [
    "# !cat ./EMG\\ Physical\\ Action\\ Data\\ Set/sub1/Aggressive/txt/Slapping.txt"
   ]
  },
  {
   "cell_type": "code",
   "execution_count": 11,
   "metadata": {
    "id": "Ei1ASFBWmlyy"
   },
   "outputs": [],
   "source": [
    "\n",
    "# actions = {}\n",
    "\n",
    "# data_dirs = [\"./EMG Physical Action Data Set/sub1/Aggressive/txt\",\n",
    "#              \"./EMG Physical Action Data Set/sub1/Normal/txt\"]\n",
    "\n",
    "# ind = 0\n",
    "# data = pd.DataFrame()\n",
    "\n",
    "# for dirs in data_dirs :\n",
    "\n",
    "#   for files in os.listdir(dirs):\n",
    "\n",
    "#     with open(os.path.join(dirs, files), \"r\") as f:\n",
    "\n",
    "#       temp = pd.read_csv(f.name,\n",
    "#                         sep = \"\\t\",\n",
    "#                         header = None, \n",
    "#                         names = [\"ch\" + str(i) for i in range(1, 9)] # 8 input channels\n",
    "#                         )\n",
    "      \n",
    "#       # chunking using Max of every 10 sequential values.\n",
    "#       temp_chunked = pd.DataFrame()\n",
    "\n",
    "#       for i in range(0, len(temp), 10):\n",
    "#         temp_chunked = temp_chunked.append(temp.iloc[i:i+10].max(), ignore_index = True)\n",
    "\n",
    "#       labels = [files[:-4] for i in range(len(temp_chunked))] # remove the last 4 characters=\".txt\" from the filename\n",
    "#       actions[files[:-4]] = ind\n",
    "\n",
    "#       temp_chunked[\"Action\"] = labels\n",
    "\n",
    "#       data = pd.concat([data, temp_chunked])\n",
    "\n",
    "#       ind+=1"
   ]
  },
  {
   "cell_type": "code",
   "execution_count": 5,
   "metadata": {
    "colab": {
     "base_uri": "https://localhost:8080/"
    },
    "id": "XvZtQGn52EEQ",
    "outputId": "84012390-0a43-4df8-f0d1-099ee2eddc0c"
   },
   "outputs": [
    {
     "name": "stdout",
     "output_type": "stream",
     "text": [
      "{'Slapping': 0, 'Kneeing': 1, 'Elbowing': 2, 'Sidekicking': 3, 'Headering': 4, 'Frontkicking': 5, 'Pushing': 6, 'Pulling': 7, 'Punching': 8, 'Hamering': 9, 'Seating': 10, 'Hugging': 11, 'Running': 12, 'Standing': 13, 'Handshaking': 14, 'Waving': 15, 'Bowing': 16, 'Jumping': 17, 'Clapping': 18, 'Walking': 19}\n"
     ]
    }
   ],
   "source": [
    "print(actions)"
   ]
  },
  {
   "cell_type": "code",
   "execution_count": 6,
   "metadata": {
    "colab": {
     "base_uri": "https://localhost:8080/",
     "height": 206
    },
    "id": "yHcLJZBlmuM9",
    "outputId": "7f45e63a-0925-4e7f-b28f-e60650d9d582"
   },
   "outputs": [
    {
     "data": {
      "text/html": [
       "\n",
       "  <div id=\"df-77849033-f0c1-49a2-9aa6-1fbae0888c49\">\n",
       "    <div class=\"colab-df-container\">\n",
       "      <div>\n",
       "<style scoped>\n",
       "    .dataframe tbody tr th:only-of-type {\n",
       "        vertical-align: middle;\n",
       "    }\n",
       "\n",
       "    .dataframe tbody tr th {\n",
       "        vertical-align: top;\n",
       "    }\n",
       "\n",
       "    .dataframe thead th {\n",
       "        text-align: right;\n",
       "    }\n",
       "</style>\n",
       "<table border=\"1\" class=\"dataframe\">\n",
       "  <thead>\n",
       "    <tr style=\"text-align: right;\">\n",
       "      <th></th>\n",
       "      <th>ch1</th>\n",
       "      <th>ch2</th>\n",
       "      <th>ch3</th>\n",
       "      <th>ch4</th>\n",
       "      <th>ch5</th>\n",
       "      <th>ch6</th>\n",
       "      <th>ch7</th>\n",
       "      <th>ch8</th>\n",
       "      <th>Action</th>\n",
       "    </tr>\n",
       "  </thead>\n",
       "  <tbody>\n",
       "    <tr>\n",
       "      <th>0</th>\n",
       "      <td>2.0</td>\n",
       "      <td>113.0</td>\n",
       "      <td>129.0</td>\n",
       "      <td>95.0</td>\n",
       "      <td>-1042.0</td>\n",
       "      <td>845.0</td>\n",
       "      <td>-94.0</td>\n",
       "      <td>-407.0</td>\n",
       "      <td>Slapping</td>\n",
       "    </tr>\n",
       "    <tr>\n",
       "      <th>1</th>\n",
       "      <td>4000.0</td>\n",
       "      <td>250.0</td>\n",
       "      <td>-54.0</td>\n",
       "      <td>142.0</td>\n",
       "      <td>-2550.0</td>\n",
       "      <td>303.0</td>\n",
       "      <td>-1458.0</td>\n",
       "      <td>1765.0</td>\n",
       "      <td>Slapping</td>\n",
       "    </tr>\n",
       "    <tr>\n",
       "      <th>2</th>\n",
       "      <td>2410.0</td>\n",
       "      <td>1516.0</td>\n",
       "      <td>803.0</td>\n",
       "      <td>8.0</td>\n",
       "      <td>3284.0</td>\n",
       "      <td>309.0</td>\n",
       "      <td>-1877.0</td>\n",
       "      <td>1199.0</td>\n",
       "      <td>Slapping</td>\n",
       "    </tr>\n",
       "    <tr>\n",
       "      <th>3</th>\n",
       "      <td>-1556.0</td>\n",
       "      <td>876.0</td>\n",
       "      <td>710.0</td>\n",
       "      <td>85.0</td>\n",
       "      <td>4000.0</td>\n",
       "      <td>213.0</td>\n",
       "      <td>-1517.0</td>\n",
       "      <td>646.0</td>\n",
       "      <td>Slapping</td>\n",
       "    </tr>\n",
       "    <tr>\n",
       "      <th>4</th>\n",
       "      <td>4000.0</td>\n",
       "      <td>275.0</td>\n",
       "      <td>304.0</td>\n",
       "      <td>137.0</td>\n",
       "      <td>4000.0</td>\n",
       "      <td>180.0</td>\n",
       "      <td>238.0</td>\n",
       "      <td>251.0</td>\n",
       "      <td>Slapping</td>\n",
       "    </tr>\n",
       "  </tbody>\n",
       "</table>\n",
       "</div>\n",
       "      <button class=\"colab-df-convert\" onclick=\"convertToInteractive('df-77849033-f0c1-49a2-9aa6-1fbae0888c49')\"\n",
       "              title=\"Convert this dataframe to an interactive table.\"\n",
       "              style=\"display:none;\">\n",
       "        \n",
       "  <svg xmlns=\"http://www.w3.org/2000/svg\" height=\"24px\"viewBox=\"0 0 24 24\"\n",
       "       width=\"24px\">\n",
       "    <path d=\"M0 0h24v24H0V0z\" fill=\"none\"/>\n",
       "    <path d=\"M18.56 5.44l.94 2.06.94-2.06 2.06-.94-2.06-.94-.94-2.06-.94 2.06-2.06.94zm-11 1L8.5 8.5l.94-2.06 2.06-.94-2.06-.94L8.5 2.5l-.94 2.06-2.06.94zm10 10l.94 2.06.94-2.06 2.06-.94-2.06-.94-.94-2.06-.94 2.06-2.06.94z\"/><path d=\"M17.41 7.96l-1.37-1.37c-.4-.4-.92-.59-1.43-.59-.52 0-1.04.2-1.43.59L10.3 9.45l-7.72 7.72c-.78.78-.78 2.05 0 2.83L4 21.41c.39.39.9.59 1.41.59.51 0 1.02-.2 1.41-.59l7.78-7.78 2.81-2.81c.8-.78.8-2.07 0-2.86zM5.41 20L4 18.59l7.72-7.72 1.47 1.35L5.41 20z\"/>\n",
       "  </svg>\n",
       "      </button>\n",
       "      \n",
       "  <style>\n",
       "    .colab-df-container {\n",
       "      display:flex;\n",
       "      flex-wrap:wrap;\n",
       "      gap: 12px;\n",
       "    }\n",
       "\n",
       "    .colab-df-convert {\n",
       "      background-color: #E8F0FE;\n",
       "      border: none;\n",
       "      border-radius: 50%;\n",
       "      cursor: pointer;\n",
       "      display: none;\n",
       "      fill: #1967D2;\n",
       "      height: 32px;\n",
       "      padding: 0 0 0 0;\n",
       "      width: 32px;\n",
       "    }\n",
       "\n",
       "    .colab-df-convert:hover {\n",
       "      background-color: #E2EBFA;\n",
       "      box-shadow: 0px 1px 2px rgba(60, 64, 67, 0.3), 0px 1px 3px 1px rgba(60, 64, 67, 0.15);\n",
       "      fill: #174EA6;\n",
       "    }\n",
       "\n",
       "    [theme=dark] .colab-df-convert {\n",
       "      background-color: #3B4455;\n",
       "      fill: #D2E3FC;\n",
       "    }\n",
       "\n",
       "    [theme=dark] .colab-df-convert:hover {\n",
       "      background-color: #434B5C;\n",
       "      box-shadow: 0px 1px 3px 1px rgba(0, 0, 0, 0.15);\n",
       "      filter: drop-shadow(0px 1px 2px rgba(0, 0, 0, 0.3));\n",
       "      fill: #FFFFFF;\n",
       "    }\n",
       "  </style>\n",
       "\n",
       "      <script>\n",
       "        const buttonEl =\n",
       "          document.querySelector('#df-77849033-f0c1-49a2-9aa6-1fbae0888c49 button.colab-df-convert');\n",
       "        buttonEl.style.display =\n",
       "          google.colab.kernel.accessAllowed ? 'block' : 'none';\n",
       "\n",
       "        async function convertToInteractive(key) {\n",
       "          const element = document.querySelector('#df-77849033-f0c1-49a2-9aa6-1fbae0888c49');\n",
       "          const dataTable =\n",
       "            await google.colab.kernel.invokeFunction('convertToInteractive',\n",
       "                                                     [key], {});\n",
       "          if (!dataTable) return;\n",
       "\n",
       "          const docLinkHtml = 'Like what you see? Visit the ' +\n",
       "            '<a target=\"_blank\" href=https://colab.research.google.com/notebooks/data_table.ipynb>data table notebook</a>'\n",
       "            + ' to learn more about interactive tables.';\n",
       "          element.innerHTML = '';\n",
       "          dataTable['output_type'] = 'display_data';\n",
       "          await google.colab.output.renderOutput(dataTable, element);\n",
       "          const docLink = document.createElement('div');\n",
       "          docLink.innerHTML = docLinkHtml;\n",
       "          element.appendChild(docLink);\n",
       "        }\n",
       "      </script>\n",
       "    </div>\n",
       "  </div>\n",
       "  "
      ],
      "text/plain": [
       "      ch1     ch2    ch3    ch4     ch5    ch6     ch7     ch8    Action\n",
       "0     2.0   113.0  129.0   95.0 -1042.0  845.0   -94.0  -407.0  Slapping\n",
       "1  4000.0   250.0  -54.0  142.0 -2550.0  303.0 -1458.0  1765.0  Slapping\n",
       "2  2410.0  1516.0  803.0    8.0  3284.0  309.0 -1877.0  1199.0  Slapping\n",
       "3 -1556.0   876.0  710.0   85.0  4000.0  213.0 -1517.0   646.0  Slapping\n",
       "4  4000.0   275.0  304.0  137.0  4000.0  180.0   238.0   251.0  Slapping"
      ]
     },
     "execution_count": 6,
     "metadata": {},
     "output_type": "execute_result"
    }
   ],
   "source": [
    "data.head()"
   ]
  },
  {
   "cell_type": "code",
   "execution_count": 7,
   "metadata": {
    "colab": {
     "base_uri": "https://localhost:8080/"
    },
    "id": "wzS3EuzTnhZK",
    "outputId": "10e9d015-8f6c-48d4-c0e5-f71386f70f07"
   },
   "outputs": [
    {
     "data": {
      "text/plain": [
       "(19711, 9)"
      ]
     },
     "execution_count": 7,
     "metadata": {},
     "output_type": "execute_result"
    }
   ],
   "source": [
    "data.shape"
   ]
  },
  {
   "cell_type": "code",
   "execution_count": 8,
   "metadata": {
    "colab": {
     "base_uri": "https://localhost:8080/"
    },
    "id": "VjHbvSn-mwfH",
    "outputId": "5180fd00-a63d-4792-a409-8acaf1ce8328"
   },
   "outputs": [
    {
     "name": "stdout",
     "output_type": "stream",
     "text": [
      "<class 'pandas.core.frame.DataFrame'>\n",
      "Int64Index: 19711 entries, 0 to 999\n",
      "Data columns (total 9 columns):\n",
      " #   Column  Non-Null Count  Dtype  \n",
      "---  ------  --------------  -----  \n",
      " 0   ch1     19711 non-null  float64\n",
      " 1   ch2     19711 non-null  float64\n",
      " 2   ch3     19711 non-null  float64\n",
      " 3   ch4     19711 non-null  float64\n",
      " 4   ch5     19711 non-null  float64\n",
      " 5   ch6     19711 non-null  float64\n",
      " 6   ch7     19711 non-null  float64\n",
      " 7   ch8     19711 non-null  float64\n",
      " 8   Action  19711 non-null  object \n",
      "dtypes: float64(8), object(1)\n",
      "memory usage: 1.5+ MB\n"
     ]
    }
   ],
   "source": [
    "data.info()"
   ]
  },
  {
   "cell_type": "code",
   "execution_count": 9,
   "metadata": {
    "id": "Mvd1jm23m1Iy"
   },
   "outputs": [],
   "source": [
    "Y = data[\"Action\"]\n",
    "X = data.drop(columns = [\"Action\"])"
   ]
  },
  {
   "cell_type": "code",
   "execution_count": 10,
   "metadata": {
    "colab": {
     "base_uri": "https://localhost:8080/"
    },
    "id": "kVnPWop4m3Cq",
    "outputId": "c410ad3a-ef9c-45f9-bd0f-e13bef292163"
   },
   "outputs": [
    {
     "name": "stdout",
     "output_type": "stream",
     "text": [
      "['Slapping' 'Kneeing' 'Elbowing' 'Sidekicking' 'Headering' 'Frontkicking'\n",
      " 'Pushing' 'Pulling' 'Punching' 'Hamering' 'Seating' 'Hugging' 'Running'\n",
      " 'Standing' 'Handshaking' 'Waving' 'Bowing' 'Jumping' 'Clapping' 'Walking']\n"
     ]
    }
   ],
   "source": [
    "print(Y.unique())"
   ]
  },
  {
   "cell_type": "code",
   "execution_count": 11,
   "metadata": {
    "colab": {
     "base_uri": "https://localhost:8080/"
    },
    "id": "3TSbuSncm_iR",
    "outputId": "0ac40b36-222a-4386-d9a3-6f7af6d91658"
   },
   "outputs": [
    {
     "data": {
      "text/plain": [
       "0    0\n",
       "1    0\n",
       "2    0\n",
       "3    0\n",
       "4    0\n",
       "Name: Action, dtype: int64"
      ]
     },
     "execution_count": 11,
     "metadata": {},
     "output_type": "execute_result"
    }
   ],
   "source": [
    "Y = Y.map(actions)\n",
    "Y.head()"
   ]
  },
  {
   "cell_type": "code",
   "execution_count": 13,
   "metadata": {
    "colab": {
     "base_uri": "https://localhost:8080/"
    },
    "id": "HXSW4LZH2pf2",
    "outputId": "d098319c-27e2-447f-cc7d-2fef1b91918f"
   },
   "outputs": [
    {
     "data": {
      "text/plain": [
       "10    1000\n",
       "9     1000\n",
       "18    1000\n",
       "17    1000\n",
       "15    1000\n",
       "1     1000\n",
       "19    1000\n",
       "4     1000\n",
       "12     997\n",
       "16     983\n",
       "3      983\n",
       "5      982\n",
       "0      979\n",
       "2      978\n",
       "11     976\n",
       "13     973\n",
       "6      968\n",
       "7      966\n",
       "8      964\n",
       "14     962\n",
       "Name: Action, dtype: int64"
      ]
     },
     "execution_count": 13,
     "metadata": {},
     "output_type": "execute_result"
    }
   ],
   "source": [
    "Y.value_counts()"
   ]
  },
  {
   "cell_type": "code",
   "execution_count": 15,
   "metadata": {
    "colab": {
     "base_uri": "https://localhost:8080/",
     "height": 206
    },
    "id": "CRRDRW8anDMr",
    "outputId": "51191255-9d14-4796-d4ba-cdb2876f0dd0"
   },
   "outputs": [
    {
     "data": {
      "text/html": [
       "\n",
       "  <div id=\"df-f4aed3a0-5fd9-4230-bb89-597af095553a\">\n",
       "    <div class=\"colab-df-container\">\n",
       "      <div>\n",
       "<style scoped>\n",
       "    .dataframe tbody tr th:only-of-type {\n",
       "        vertical-align: middle;\n",
       "    }\n",
       "\n",
       "    .dataframe tbody tr th {\n",
       "        vertical-align: top;\n",
       "    }\n",
       "\n",
       "    .dataframe thead th {\n",
       "        text-align: right;\n",
       "    }\n",
       "</style>\n",
       "<table border=\"1\" class=\"dataframe\">\n",
       "  <thead>\n",
       "    <tr style=\"text-align: right;\">\n",
       "      <th></th>\n",
       "      <th>ch1</th>\n",
       "      <th>ch2</th>\n",
       "      <th>ch3</th>\n",
       "      <th>ch4</th>\n",
       "      <th>ch5</th>\n",
       "      <th>ch6</th>\n",
       "      <th>ch7</th>\n",
       "      <th>ch8</th>\n",
       "    </tr>\n",
       "  </thead>\n",
       "  <tbody>\n",
       "    <tr>\n",
       "      <th>0</th>\n",
       "      <td>2.000000</td>\n",
       "      <td>113.000000</td>\n",
       "      <td>129.000000</td>\n",
       "      <td>95.000000</td>\n",
       "      <td>1042.000000</td>\n",
       "      <td>845.000000</td>\n",
       "      <td>94.000000</td>\n",
       "      <td>407.000000</td>\n",
       "    </tr>\n",
       "    <tr>\n",
       "      <th>1</th>\n",
       "      <td>2096.190476</td>\n",
       "      <td>184.761905</td>\n",
       "      <td>33.142857</td>\n",
       "      <td>119.619048</td>\n",
       "      <td>1831.904762</td>\n",
       "      <td>561.095238</td>\n",
       "      <td>808.476190</td>\n",
       "      <td>730.714286</td>\n",
       "    </tr>\n",
       "    <tr>\n",
       "      <th>2</th>\n",
       "      <td>2210.906344</td>\n",
       "      <td>671.407855</td>\n",
       "      <td>314.570997</td>\n",
       "      <td>78.815710</td>\n",
       "      <td>38.259819</td>\n",
       "      <td>468.939577</td>\n",
       "      <td>1199.084592</td>\n",
       "      <td>901.900302</td>\n",
       "    </tr>\n",
       "    <tr>\n",
       "      <th>3</th>\n",
       "      <td>1130.589097</td>\n",
       "      <td>730.083172</td>\n",
       "      <td>427.976729</td>\n",
       "      <td>80.589313</td>\n",
       "      <td>1174.453782</td>\n",
       "      <td>395.538246</td>\n",
       "      <td>1290.260073</td>\n",
       "      <td>828.510235</td>\n",
       "    </tr>\n",
       "    <tr>\n",
       "      <th>4</th>\n",
       "      <td>1818.719431</td>\n",
       "      <td>620.946995</td>\n",
       "      <td>398.245139</td>\n",
       "      <td>94.117492</td>\n",
       "      <td>1852.064667</td>\n",
       "      <td>343.848749</td>\n",
       "      <td>923.759021</td>\n",
       "      <td>690.014103</td>\n",
       "    </tr>\n",
       "  </tbody>\n",
       "</table>\n",
       "</div>\n",
       "      <button class=\"colab-df-convert\" onclick=\"convertToInteractive('df-f4aed3a0-5fd9-4230-bb89-597af095553a')\"\n",
       "              title=\"Convert this dataframe to an interactive table.\"\n",
       "              style=\"display:none;\">\n",
       "        \n",
       "  <svg xmlns=\"http://www.w3.org/2000/svg\" height=\"24px\"viewBox=\"0 0 24 24\"\n",
       "       width=\"24px\">\n",
       "    <path d=\"M0 0h24v24H0V0z\" fill=\"none\"/>\n",
       "    <path d=\"M18.56 5.44l.94 2.06.94-2.06 2.06-.94-2.06-.94-.94-2.06-.94 2.06-2.06.94zm-11 1L8.5 8.5l.94-2.06 2.06-.94-2.06-.94L8.5 2.5l-.94 2.06-2.06.94zm10 10l.94 2.06.94-2.06 2.06-.94-2.06-.94-.94-2.06-.94 2.06-2.06.94z\"/><path d=\"M17.41 7.96l-1.37-1.37c-.4-.4-.92-.59-1.43-.59-.52 0-1.04.2-1.43.59L10.3 9.45l-7.72 7.72c-.78.78-.78 2.05 0 2.83L4 21.41c.39.39.9.59 1.41.59.51 0 1.02-.2 1.41-.59l7.78-7.78 2.81-2.81c.8-.78.8-2.07 0-2.86zM5.41 20L4 18.59l7.72-7.72 1.47 1.35L5.41 20z\"/>\n",
       "  </svg>\n",
       "      </button>\n",
       "      \n",
       "  <style>\n",
       "    .colab-df-container {\n",
       "      display:flex;\n",
       "      flex-wrap:wrap;\n",
       "      gap: 12px;\n",
       "    }\n",
       "\n",
       "    .colab-df-convert {\n",
       "      background-color: #E8F0FE;\n",
       "      border: none;\n",
       "      border-radius: 50%;\n",
       "      cursor: pointer;\n",
       "      display: none;\n",
       "      fill: #1967D2;\n",
       "      height: 32px;\n",
       "      padding: 0 0 0 0;\n",
       "      width: 32px;\n",
       "    }\n",
       "\n",
       "    .colab-df-convert:hover {\n",
       "      background-color: #E2EBFA;\n",
       "      box-shadow: 0px 1px 2px rgba(60, 64, 67, 0.3), 0px 1px 3px 1px rgba(60, 64, 67, 0.15);\n",
       "      fill: #174EA6;\n",
       "    }\n",
       "\n",
       "    [theme=dark] .colab-df-convert {\n",
       "      background-color: #3B4455;\n",
       "      fill: #D2E3FC;\n",
       "    }\n",
       "\n",
       "    [theme=dark] .colab-df-convert:hover {\n",
       "      background-color: #434B5C;\n",
       "      box-shadow: 0px 1px 3px 1px rgba(0, 0, 0, 0.15);\n",
       "      filter: drop-shadow(0px 1px 2px rgba(0, 0, 0, 0.3));\n",
       "      fill: #FFFFFF;\n",
       "    }\n",
       "  </style>\n",
       "\n",
       "      <script>\n",
       "        const buttonEl =\n",
       "          document.querySelector('#df-f4aed3a0-5fd9-4230-bb89-597af095553a button.colab-df-convert');\n",
       "        buttonEl.style.display =\n",
       "          google.colab.kernel.accessAllowed ? 'block' : 'none';\n",
       "\n",
       "        async function convertToInteractive(key) {\n",
       "          const element = document.querySelector('#df-f4aed3a0-5fd9-4230-bb89-597af095553a');\n",
       "          const dataTable =\n",
       "            await google.colab.kernel.invokeFunction('convertToInteractive',\n",
       "                                                     [key], {});\n",
       "          if (!dataTable) return;\n",
       "\n",
       "          const docLinkHtml = 'Like what you see? Visit the ' +\n",
       "            '<a target=\"_blank\" href=https://colab.research.google.com/notebooks/data_table.ipynb>data table notebook</a>'\n",
       "            + ' to learn more about interactive tables.';\n",
       "          element.innerHTML = '';\n",
       "          dataTable['output_type'] = 'display_data';\n",
       "          await google.colab.output.renderOutput(dataTable, element);\n",
       "          const docLink = document.createElement('div');\n",
       "          docLink.innerHTML = docLinkHtml;\n",
       "          element.appendChild(docLink);\n",
       "        }\n",
       "      </script>\n",
       "    </div>\n",
       "  </div>\n",
       "  "
      ],
      "text/plain": [
       "           ch1         ch2         ch3         ch4          ch5         ch6  \\\n",
       "0     2.000000  113.000000  129.000000   95.000000  1042.000000  845.000000   \n",
       "1  2096.190476  184.761905   33.142857  119.619048  1831.904762  561.095238   \n",
       "2  2210.906344  671.407855  314.570997   78.815710    38.259819  468.939577   \n",
       "3  1130.589097  730.083172  427.976729   80.589313  1174.453782  395.538246   \n",
       "4  1818.719431  620.946995  398.245139   94.117492  1852.064667  343.848749   \n",
       "\n",
       "           ch7         ch8  \n",
       "0    94.000000  407.000000  \n",
       "1   808.476190  730.714286  \n",
       "2  1199.084592  901.900302  \n",
       "3  1290.260073  828.510235  \n",
       "4   923.759021  690.014103  "
      ]
     },
     "execution_count": 15,
     "metadata": {},
     "output_type": "execute_result"
    }
   ],
   "source": [
    "X = abs(X)\n",
    "X.head()"
   ]
  },
  {
   "cell_type": "code",
   "execution_count": 16,
   "metadata": {
    "id": "iBnE44aFnI0q"
   },
   "outputs": [],
   "source": [
    "# moving average. \n",
    "\n",
    "X = X.ewm(10).mean()"
   ]
  },
  {
   "cell_type": "code",
   "execution_count": 17,
   "metadata": {
    "colab": {
     "base_uri": "https://localhost:8080/"
    },
    "id": "DzNhnjLwnsy5",
    "outputId": "3fba48cb-59bc-430a-938e-635878462bf1"
   },
   "outputs": [
    {
     "name": "stdout",
     "output_type": "stream",
     "text": [
      "Sizes of the sets created are:\n",
      "Training set: 15768\n",
      "Test set: 3943\n"
     ]
    }
   ],
   "source": [
    "from sklearn.model_selection import train_test_split\n",
    "\n",
    "X = np.array(X.values)\n",
    "Y = np.array(Y.values)\n",
    "\n",
    "X_train, X_test, Y_train, Y_test = train_test_split(X, Y, test_size = 0.2, shuffle = True, random_state=3)\n",
    "\n",
    "print(f\"Sizes of the sets created are:\\nTraining set: {X_train.shape[0]}\\nTest set: {X_test.shape[0]}\")"
   ]
  },
  {
   "cell_type": "markdown",
   "metadata": {
    "id": "y39mIiLjlK-c"
   },
   "source": [
    "# Decision Tree"
   ]
  },
  {
   "cell_type": "code",
   "execution_count": 18,
   "metadata": {
    "colab": {
     "base_uri": "https://localhost:8080/"
    },
    "id": "B5MjVrkan2ED",
    "outputId": "541cf80e-7d0c-4b5a-99d2-91730606c6a2"
   },
   "outputs": [
    {
     "name": "stdout",
     "output_type": "stream",
     "text": [
      "K-Fold Accuracy Mean: Train: 74.1 Validation: 73.6\n"
     ]
    }
   ],
   "source": [
    "from sklearn.tree import DecisionTreeClassifier\n",
    "from sklearn.model_selection import cross_validate\n",
    "\n",
    "tree_clf = DecisionTreeClassifier(random_state=7, max_depth = 7, )\n",
    "cv_acc_results = cross_validate(tree_clf, X_train, Y_train, cv = 5, scoring = 'accuracy', return_train_score = True)\n",
    "\n",
    "print(f\"K-Fold Accuracy Mean: Train: {cv_acc_results['train_score'].mean().round(3)*100} Validation: {cv_acc_results['test_score'].mean().round(3)*100}\")"
   ]
  },
  {
   "cell_type": "code",
   "execution_count": 16,
   "metadata": {
    "id": "aKPUSJnhlV9i"
   },
   "outputs": [],
   "source": []
  },
  {
   "cell_type": "markdown",
   "metadata": {
    "id": "iVKlmhXQmZaP"
   },
   "source": [
    "# RandomForest "
   ]
  },
  {
   "cell_type": "code",
   "execution_count": 19,
   "metadata": {
    "colab": {
     "base_uri": "https://localhost:8080/"
    },
    "id": "soYT4wGtmX5M",
    "outputId": "1c7ae78e-eac9-4451-d2e3-3bb8217c8c3e"
   },
   "outputs": [
    {
     "name": "stdout",
     "output_type": "stream",
     "text": [
      "K-Fold Accuracy Mean: Train: 83.2 Validation: 82.1\n"
     ]
    }
   ],
   "source": [
    "from sklearn.ensemble import RandomForestClassifier\n",
    "from sklearn.model_selection import cross_validate\n",
    "\n",
    "tree_clf = RandomForestClassifier(random_state=7, max_depth = 7, n_estimators= 100 )\n",
    "cv_acc_results = cross_validate(tree_clf, X_train, Y_train, cv = 5, scoring = 'accuracy', return_train_score = True)\n",
    "\n",
    "print(f\"K-Fold Accuracy Mean: Train: {cv_acc_results['train_score'].mean().round(3)*100} Validation: {cv_acc_results['test_score'].mean().round(3)*100}\")\n"
   ]
  },
  {
   "cell_type": "markdown",
   "metadata": {
    "id": "b85QV_rNnAuP"
   },
   "source": [
    "# GBDT"
   ]
  },
  {
   "cell_type": "code",
   "execution_count": 18,
   "metadata": {
    "colab": {
     "base_uri": "https://localhost:8080/"
    },
    "id": "nNXOrMRhmtDd",
    "outputId": "ad665085-0b6e-4def-942b-d012ef4d2cae"
   },
   "outputs": [
    {
     "name": "stdout",
     "output_type": "stream",
     "text": [
      "K-Fold Accuracy Mean: Train: 100.0 Validation: 94.5\n"
     ]
    }
   ],
   "source": [
    "from sklearn.ensemble import GradientBoostingClassifier\n",
    "\n",
    "\n",
    "tree_clf = GradientBoostingClassifier(random_state=7, max_depth = 4, n_estimators= 150, learning_rate = 0.1 )\n",
    "cv_acc_results = cross_validate(tree_clf, X_train, Y_train, cv = 3, scoring = 'accuracy', return_train_score = True)\n",
    "\n",
    "print(f\"K-Fold Accuracy Mean: Train: {cv_acc_results['train_score'].mean().round(3)*100} Validation: {cv_acc_results['test_score'].mean().round(3)*100}\")\n"
   ]
  }
 ],
 "metadata": {
  "colab": {
   "provenance": []
  },
  "kernelspec": {
   "display_name": "Python 3 (ipykernel)",
   "language": "python",
   "name": "python3"
  },
  "language_info": {
   "codemirror_mode": {
    "name": "ipython",
    "version": 3
   },
   "file_extension": ".py",
   "mimetype": "text/x-python",
   "name": "python",
   "nbconvert_exporter": "python",
   "pygments_lexer": "ipython3",
   "version": "3.9.7"
  }
 },
 "nbformat": 4,
 "nbformat_minor": 1
}
